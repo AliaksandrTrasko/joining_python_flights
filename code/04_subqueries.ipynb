{
 "cells": [
  {
   "cell_type": "code",
   "execution_count": 49,
   "id": "ebb8bebb",
   "metadata": {},
   "outputs": [],
   "source": [
    "import pandas as pd\n",
    "from pathlib import Path\n",
    "import matplotlib.pyplot as plt\n",
    "import seaborn as sns\n"
   ]
  },
  {
   "cell_type": "code",
   "execution_count": 2,
   "id": "9d6346d1",
   "metadata": {},
   "outputs": [
    {
     "data": {
      "text/plain": [
       "\"\\nConvert the 'time_hour' column in flights_df and weather_df to datetime64[ns] type, as it was 'object'.\\nThis was necessary because a merge on date/time types was not possible otherwise.\\n\\nThe dtype for flights_df was datetime64[ns], while for weather_df it was datetime64[ns, UTC]. Removed the UTC timezone.\\n\""
      ]
     },
     "execution_count": 2,
     "metadata": {},
     "output_type": "execute_result"
    }
   ],
   "source": [
    "basic_directory = Path.cwd()                            # directory of the file - folder \"code\"\n",
    "data_directory = basic_directory.parent / \"data\"        # go one level up and choose folder \"data\"\n",
    "\n",
    "# It's a common convention to add a _df suffix to a variable name to indicate it's a DataFrame.\n",
    "flights_df  = pd.read_csv(data_directory / \"flights.csv\")\n",
    "airlines_df = pd.read_csv(data_directory / \"airlines.csv\")\n",
    "airports_df = pd.read_csv(data_directory / \"airports.csv\")\n",
    "planes_df   = pd.read_csv(data_directory / \"planes.csv\")\n",
    "weather_df  = pd.read_csv(data_directory / \"weather.csv\")\n",
    "\n",
    "# Convert to datetime\n",
    "flights_df['time_hour'] = pd.to_datetime(flights_df['time_hour'])\n",
    "weather_df['time_hour'] = pd.to_datetime(weather_df['time_hour'])\n",
    "\n",
    "# Remove timezone\n",
    "weather_df['time_hour'] = weather_df['time_hour'].dt.tz_localize(None)\n",
    "\n",
    "'''\n",
    "Convert the 'time_hour' column in flights_df and weather_df to datetime64[ns] type, as it was 'object'.\n",
    "This was necessary because a merge on date/time types was not possible otherwise.\n",
    "\n",
    "The dtype for flights_df was datetime64[ns], while for weather_df it was datetime64[ns, UTC]. Removed the UTC timezone.\n",
    "'''"
   ]
  },
  {
   "cell_type": "code",
   "execution_count": 13,
   "id": "dffea634",
   "metadata": {},
   "outputs": [
    {
     "name": "stdout",
     "output_type": "stream",
     "text": [
      "595\n",
      "1519 flights by Boeing 737\n"
     ]
    }
   ],
   "source": [
    "# WHERE clause\n",
    "# Flights operated by Boeing 737\n",
    "\n",
    "planes = planes_df.loc[planes_df['model'].str.startswith('737'), 'tailnum']\n",
    "# planes_all = planes_df[['tailnum', 'model']]\n",
    "\n",
    "flights = flights_df[flights_df['tailnum'].isin(planes)]\n",
    "\n",
    "set_planes = set(planes_df.loc[planes_df['model'].str.startswith('737'), 'tailnum'])\n",
    "set_all = set(flights_df['tailnum'].dropna())   # .dropna() removes NaN tailnum in flights_df, IF EXISTS\n",
    "result = set_planes - (set_planes - set_all)\n",
    "\n",
    "'''\n",
    "flights = flights_df.loc[\n",
    "    flights_df['tailnum'].isin(planes),\n",
    "    [\"year\", \"month\", \"day\", \"carrier\", \"flight\", \"tailnum\", \"origin\", \"dest\"]\n",
    "]\n",
    "if it was necessary to choose specific columns\n",
    "'''\n",
    "print(len(result))\n",
    "print(len(flights), \"flights by Boeing 737\")"
   ]
  },
  {
   "cell_type": "markdown",
   "id": "788ed88c",
   "metadata": {},
   "source": [
    "**Initial Dataset Overview**\n",
    "* Total aircraft in registry: 3,322 planes\n",
    "\n",
    "* Boeing 737 models in registry: 1,037 planes (31.2%)\n",
    "\n",
    "* Total flights recorded: ~10,000 flights\n",
    "\n",
    "* Flights operated by 737s: 1,518 flights (15.2%)\n",
    "\n",
    "**Key Finding:**\n",
    "Boeing 737 aircraft account for 31.2% of the total number of registered aircraft, \n",
    "but operate only 15.2% of all flights, indicating a relatively low load factor compared to their share in the registry.\n",
    "\n",
    "**Refined Analysis:**\n",
    "When considering only aircraft that have actually flown (based on last query from 03_set_operations):\n",
    "* Active aircraft total: 2,324 planes\n",
    "\n",
    "* Active Boeing 737s: 595 planes (25.6%)\n",
    "\n",
    "**Insight:**\n",
    "The utilization gap becomes more understandable - 25.6% of the active fleet (Boeing 737s) conducts 15.2% of flights.\n",
    "While still showing lower-than-expected utilization, this refined perspective reveals that many 737s in the registry are likely not in active service, making the operational percentage more reasonable.\n"
   ]
  },
  {
   "cell_type": "code",
   "execution_count": 14,
   "id": "deae4deb",
   "metadata": {},
   "outputs": [
    {
     "name": "stdout",
     "output_type": "stream",
     "text": [
      "      year  month  day carrier  flight tailnum origin dest      model\n",
      "0     2013      6   27      UA    1037  N34222    EWR  BOS    737-824\n",
      "1     2013      7   31      UA    1244  N39418    EWR  SJU  737-924ER\n",
      "2     2013      4   16      UA    1219  N28457    EWR  SEA  737-924ER\n",
      "3     2013      1   24      DL     315  N3764D    JFK  SJU    737-832\n",
      "4     2013      7   26      UA    1695  N13716    EWR  IAH    737-724\n",
      "...    ...    ...  ...     ...     ...     ...    ...  ...        ...\n",
      "1514  2013      1   29      UA    1139  N16709    EWR  DFW    737-724\n",
      "1515  2013      8   13      WN    3928  N797MX    EWR  HOU    737-7H4\n",
      "1516  2013      4   14      UA    1549  N13750    LGA  IAH    737-724\n",
      "1517  2013      6    6      WN    3841  N916WN    EWR  MDW    737-7H4\n",
      "1518  2013     12   21      DL    2357  N3749D    JFK  SAN    737-832\n",
      "\n",
      "[1519 rows x 9 columns]\n"
     ]
    }
   ],
   "source": [
    "# Same as the first query, but adding the 'model' column from planes_df to flights_df\n",
    "\n",
    "planes_737 = planes_df.loc[planes_df['model'].str.startswith('737'), ['tailnum', 'model']]\n",
    "\n",
    "merged = flights_df.merge(planes_737, on='tailnum') # This creates a table with ALL columns from both planes_737 and flights_df.\n",
    "\n",
    "result = merged[[\"year\", \"month\", \"day\", \"carrier\", \"flight\", \"tailnum\", \"origin\", \"dest\", \"model\"]] # Just selecting the columns I need\n",
    "print(result)"
   ]
  },
  {
   "cell_type": "code",
   "execution_count": 17,
   "id": "975cdd18",
   "metadata": {},
   "outputs": [
    {
     "name": "stdout",
     "output_type": "stream",
     "text": [
      "      year  month  day carrier  flight tailnum origin dest\n",
      "0     2013      6   27      UA    1037  N34222    EWR  BOS\n",
      "5     2013      5   31      AA    1762  N3AWAA    JFK  BOS\n",
      "7     2013      4    1      B6    1307  N348JB    JFK  IAD\n",
      "9     2013      3   29      US    2126  N956UW    LGA  BOS\n",
      "26    2013      7   31      US    2144  N956UW    LGA  BOS\n",
      "...    ...    ...  ...     ...     ...     ...    ...  ...\n",
      "9975  2013      5   14      AA     854  N3DXAA    JFK  BOS\n",
      "9978  2013      8   28      B6     118  N355JB    JFK  BOS\n",
      "9979  2013      2    8      B6      42  N192JB    JFK  SYR\n",
      "9988  2013      1    8      9E    4220  N824AY    JFK  RDU\n",
      "9999  2013     11   18      EV    4695  N11548    EWR  RDU\n",
      "\n",
      "[1868 rows x 8 columns]\n",
      "All faa: 1458\n",
      "All destinations: 99\n"
     ]
    }
   ],
   "source": [
    "# Flights to airports on the East Coast\n",
    "\n",
    "airports = airports_df.loc[airports_df['lon']>-80, ['faa', 'name']]   # east of 80° west longitude\n",
    "flights = flights_df.loc[flights_df['dest'].isin(airports['faa']),\n",
    "                         [\"year\", \"month\", \"day\", \"carrier\", \"flight\", \"tailnum\", \"origin\", \"dest\"]\n",
    "                         ]\n",
    "#or simply: flights = flights_df[flights_df['dest'].isin(airports)]\n",
    "# which would select all columns\n",
    "print(flights)\n",
    "\n",
    "print(\"All faa:\", len(set(airports_df['faa'])))\n",
    "print(\"All destinations:\", len(set(flights_df['dest'])))\n",
    "# set() is a set (множество) it removes all duplicates and leaves only unique values"
   ]
  },
  {
   "cell_type": "markdown",
   "id": "588ba997",
   "metadata": {},
   "source": [
    "**Key Finding:**\n",
    "1,868 flights (18.7% of total) served East Coast destinations, primarily to major hubs like BOS and RDU.\n",
    "\n",
    "**Insight:**\n",
    "The analysis filtered destinations east of 80°W longitude, showing significant traffic concentration along the Eastern seaboard from NYC airports."
   ]
  },
  {
   "cell_type": "code",
   "execution_count": 18,
   "id": "2da83bfb",
   "metadata": {},
   "outputs": [
    {
     "name": "stdout",
     "output_type": "stream",
     "text": [
      "  origin  number\n",
      "0    EWR    3645\n",
      "1    LGA    3079\n",
      "2    JFK    3276\n"
     ]
    }
   ],
   "source": [
    "# SELECT clause\n",
    "\n",
    "# For each airport, show the number of flights departing FROM it\n",
    "counts = (\n",
    "    flights_df\n",
    "    .groupby('origin')\n",
    "    .size()\n",
    "    .reset_index(name='number') # Number of flights per origin\n",
    ")\n",
    "\n",
    "result = (\n",
    "    flights_df[['origin']]\n",
    "    .drop_duplicates()              # equivalent to SELECT DISTINCT origin\n",
    "    .merge(counts, on='origin')     # adding the number of flights from counts\n",
    ")\n",
    "\n",
    "print(result)"
   ]
  },
  {
   "cell_type": "markdown",
   "id": "b7905804",
   "metadata": {},
   "source": [
    "**Key Finding:**\n",
    "EWR leads with 3,645 departures, followed by JFK (3,276) and LGA (3,079).\n",
    "\n",
    "**Insight:** All three NYC airports maintain relatively balanced operations, with EWR handling the highest volume despite JFK's international prominence."
   ]
  },
  {
   "cell_type": "code",
   "execution_count": 20,
   "id": "ec435e5f",
   "metadata": {},
   "outputs": [
    {
     "name": "stdout",
     "output_type": "stream",
     "text": [
      "  origin  total_flights\n",
      "0    EWR           3645\n",
      "1    JFK           3276\n",
      "2    LGA           3079\n"
     ]
    },
    {
     "data": {
      "text/plain": [
       "'\\nSELECT origin, COUNT(*) AS total_flights\\nFROM flights\\nGROUP BY origin;\\n'"
      ]
     },
     "execution_count": 20,
     "metadata": {},
     "output_type": "execute_result"
    }
   ],
   "source": [
    "# Instead of a subquery in SELECT\n",
    "\n",
    "query = flights_df.groupby('origin').size().reset_index(name='total_flights')\n",
    "print(query)\n",
    "'''\n",
    "SELECT origin, COUNT(*) AS total_flights\n",
    "FROM flights\n",
    "GROUP BY origin;\n",
    "'''"
   ]
  },
  {
   "cell_type": "code",
   "execution_count": null,
   "id": "af0afbaf",
   "metadata": {},
   "outputs": [
    {
     "name": "stdout",
     "output_type": "stream",
     "text": [
      "     tailnum  number\n",
      "305   N713MQ      20\n",
      "167   N723MQ      18\n",
      "641   N335AA      18\n",
      "353   N711MQ      18\n",
      "736   N722MQ      18\n",
      "263   N725MQ      18\n",
      "370   N334JB      17\n",
      "1215  N339AA      17\n",
      "540   N183JB      17\n",
      "10    N298JB      17\n",
      "3.54\n"
     ]
    },
    {
     "data": {
      "image/png": "[encoded data removed]",
      "text/plain": [
       "<Figure size 800x400 with 1 Axes>"
      ]
     },
     "metadata": {},
     "output_type": "display_data"
    }
   ],
   "source": [
    "# For each aircraft, show the total number of flights\n",
    "\n",
    "notnull = flights_df[flights_df['tailnum'].notna()]\n",
    "counts = (\n",
    "    notnull\n",
    "    .groupby('tailnum')\n",
    "    .size()\n",
    "    .reset_index(name=\"number\")\n",
    ")\n",
    "\n",
    "result = (\n",
    "    flights_df[['tailnum']]\n",
    "    .drop_duplicates()\n",
    "    .merge(counts, on='tailnum')\n",
    "    .sort_values('number', ascending=False)\n",
    "    .head(10)\n",
    ")\n",
    "print(result)\n",
    "\n",
    "average_flights = round(counts['number'].mean(), 2)\n",
    "print(average_flights)\n",
    "\n",
    "\n",
    "# Creating a distribution of the number of flights by aircraft\n",
    "flight_counts = (\n",
    "    counts['number']\n",
    "    .value_counts()\n",
    "    .sort_index()\n",
    ")   # Counts how many planes have each number of flights\n",
    "# print(flight_counts)\n",
    "\n",
    "plt.figure(figsize=(8, 4))\n",
    "plt.bar(flight_counts.index, flight_counts.values, alpha=0.5)\n",
    "plt.title('Distribution of the number of flights by aircraft')\n",
    "plt.axvline(x=average_flights, color='red', label=f'Average: {average_flights} flights')\n",
    "plt.legend()\n",
    "plt.show()"
   ]
  },
  {
   "cell_type": "markdown",
   "id": "0a98f8b5",
   "metadata": {},
   "source": [
    "**Key Finding:**\n",
    "While top aircraft show heavy usage (17-20 flights each), the fleet-wide average is only 3.54 flights per aircraft.\n",
    "\n",
    "**Insight:**\n",
    "This indicates a highly skewed unimodal distribution, with most aircraft flying very infrequently and a small portion of the fleet performing the bulk of operations. The low average reflects significant idle capacity across the registry, despite the efficient utilization of core aircraft."
   ]
  },
  {
   "cell_type": "code",
   "execution_count": 69,
   "id": "e803c658",
   "metadata": {},
   "outputs": [
    {
     "name": "stdout",
     "output_type": "stream",
     "text": [
      "     tailnum    manufacturer            model                    name  \\\n",
      "831   N382HA          AIRBUS         A330-243  Hawaiian Airlines Inc.   \n",
      "861   N391HA          AIRBUS         A330-243  Hawaiian Airlines Inc.   \n",
      "864   N392HA          AIRBUS         A330-243  Hawaiian Airlines Inc.   \n",
      "853   N388HA          AIRBUS         A330-243  Hawaiian Airlines Inc.   \n",
      "855   N389HA          AIRBUS         A330-243  Hawaiian Airlines Inc.   \n",
      "...      ...             ...              ...                     ...   \n",
      "2275  N967UW         EMBRAER  ERJ 190-100 IGW         US Airways Inc.   \n",
      "2241  N955UW         EMBRAER  ERJ 190-100 IGW         US Airways Inc.   \n",
      "2024  N8928A  BOMBARDIER INC      CL-600-2B19       Endeavor Air Inc.   \n",
      "2039  N8968E  BOMBARDIER INC      CL-600-2B19       Endeavor Air Inc.   \n",
      "1876  N829AY  BOMBARDIER INC      CL-600-2B19       Endeavor Air Inc.   \n",
      "\n",
      "      avg_distance  \n",
      "831        4983.00  \n",
      "861        4983.00  \n",
      "864        4983.00  \n",
      "853        4983.00  \n",
      "855        4983.00  \n",
      "...            ...  \n",
      "2275        154.67  \n",
      "2241        148.80  \n",
      "2024         94.00  \n",
      "2039         94.00  \n",
      "1876         94.00  \n",
      "\n",
      "[2328 rows x 5 columns]\n"
     ]
    }
   ],
   "source": [
    "# FROM clause\n",
    "# Average flight distance for each aircraft (by 'tailnum')\n",
    "route_stats = (\n",
    "    flights_df\n",
    "    .groupby([\"tailnum\", \"carrier\"])[\"distance\"]\n",
    "    .mean().round(2)\n",
    "    .reset_index(name=\"avg_distance\")\n",
    ")\n",
    "\n",
    "result = planes_df.merge(route_stats, on=\"tailnum\")                         # Add manufacturer and model\n",
    "result = result.merge(airlines_df[[\"carrier\", \"name\"]], on=\"carrier\")       # Add the airline name from airlines_df\n",
    "result = (\n",
    "    result[[\"tailnum\", \"manufacturer\", \"model\", \"name\", \"avg_distance\"]]\n",
    "    .sort_values(\"avg_distance\", ascending=False)\n",
    ")\n",
    "\n",
    "print(result)\n"
   ]
  },
  {
   "cell_type": "markdown",
   "id": "7ffdceb3",
   "metadata": {},
   "source": [
    "**Key Finding:**\n",
    "Individual aircraft operated by Hawaiian Airlines (Airbus A330-243) record the longest average distances - 4,983 miles. \n",
    "Smaller regional jets and turboprops (e.g., Embraer ERJ 190-100 and Bombardier CL-600) show significantly lower averages - under 200 miles.\n",
    "\n",
    "**Insight:**\n",
    "This contrast shows how the aircraft model and the airline's route network together determine flight length. \n",
    "Wide-body Airbus A330 aircraft are designed for long-haul flights, while regional aircraft are designed for short domestic flights. \n",
    "The dataset clearly separates the use of the aircraft fleet for long-haul flights and aircraft for short flights, highlighting the specialization of the aircraft fleet within airlines."
   ]
  },
  {
   "cell_type": "code",
   "execution_count": 61,
   "id": "ca70d098",
   "metadata": {},
   "outputs": [
    {
     "name": "stdout",
     "output_type": "stream",
     "text": [
      "   carrier                         name  avg_distance\n",
      "8       HA       Hawaiian Airlines Inc.       4983.00\n",
      "13      VX               Virgin America       2507.23\n",
      "2       AS         Alaska Airlines Inc.       2402.00\n",
      "6       F9       Frontier Airlines Inc.       1620.00\n",
      "11      UA        United Air Lines Inc.       1579.20\n",
      "1       AA       American Airlines Inc.       1339.93\n",
      "4       DL         Delta Air Lines Inc.       1280.97\n",
      "3       B6              JetBlue Airways       1071.08\n",
      "14      WN       Southwest Airlines Co.        977.41\n",
      "7       FL  AirTran Airways Corporation        652.13\n",
      "9       MQ                    Envoy Air        568.15\n",
      "5       EV     ExpressJet Airlines Inc.        562.97\n",
      "12      US              US Airways Inc.        559.74\n",
      "0       9E            Endeavor Air Inc.        534.31\n",
      "15      YV           Mesa Airlines Inc.        465.25\n",
      "10      OO        SkyWest Airlines Inc.        419.00\n"
     ]
    }
   ],
   "source": [
    "# Average flight distance for each company (by 'carrier')\n",
    "\n",
    "carrier_stats = (\n",
    "    flights_df.groupby(\"carrier\")[\"distance\"]\n",
    "    .mean().round(2)\n",
    "    .reset_index(name=\"avg_distance\")\n",
    ")\n",
    "\n",
    "carrier_stats = carrier_stats.merge(airlines_df, on=\"carrier\")\n",
    "carrier_stats = carrier_stats[[\"carrier\", \"name\", \"avg_distance\"]].sort_values(\"avg_distance\", ascending=False)\n",
    "print(carrier_stats)\n"
   ]
  },
  {
   "cell_type": "markdown",
   "id": "82e9360c",
   "metadata": {},
   "source": [
    "**Key Finding:**\n",
    "Hawaiian Airlines leads with an exceptionally high average route length of 4,983 miles, followed by Virgin America (2,507 mi) and Alaska Airlines (2,402 mi). The shortest average routes belong to regional carriers such as SkyWest (419 mi) and Mesa Airlines (465 mi).\n",
    "\n",
    "**Insight:**\n",
    "This distribution reflects the operational focus of each airline. Hawaiian Airlines operates primarily long-haul inter-island routes, while low-cost and regional carriers perform short domestic hops"
   ]
  },
  {
   "cell_type": "code",
   "execution_count": null,
   "id": "d7af8ebb",
   "metadata": {},
   "outputs": [
    {
     "name": "stdout",
     "output_type": "stream",
     "text": [
      "                           name carrier  month  mean_delay  median_delay  \\\n",
      "1             Endeavor Air Inc.      9E      2       50.13           0.0   \n",
      "40       Southwest Airlines Co.      WN      8       45.39          14.5   \n",
      "25  AirTran Airways Corporation      FL      5       43.88           4.0   \n",
      "28                    Envoy Air      MQ      6       38.67          -1.0   \n",
      "38       Southwest Airlines Co.      WN      6       35.97           8.5   \n",
      "27  AirTran Airways Corporation      FL     12       33.38          10.0   \n",
      "5             Endeavor Air Inc.      9E      7       32.65           3.0   \n",
      "0             Endeavor Air Inc.      9E      1       31.70          -1.0   \n",
      "23     ExpressJet Airlines Inc.      EV     12       31.48           4.0   \n",
      "17     ExpressJet Airlines Inc.      EV      1       31.19           2.0   \n",
      "\n",
      "    flight_count  \n",
      "1             31  \n",
      "40            28  \n",
      "25             8  \n",
      "28            64  \n",
      "38            36  \n",
      "27             8  \n",
      "5             31  \n",
      "0             43  \n",
      "23           124  \n",
      "17           137  \n",
      "(43, 6)\n"
     ]
    }
   ],
   "source": [
    "# Average flight delays by month and airline\n",
    "\n",
    "delay_stats = (\n",
    "    flights_df[flights_df['dep_delay'].notna()]\n",
    "    .groupby(['carrier', 'month'])['dep_delay']\n",
    "    .agg(\n",
    "        mean_delay='mean',\n",
    "        median_delay='median',\n",
    "        flight_count='size'\n",
    "    )\n",
    "    .reset_index()\n",
    ")\n",
    "\n",
    "delay_stats[['mean_delay', 'median_delay']] = delay_stats[['mean_delay', 'median_delay']].round(2)\n",
    "\n",
    "delay_stats = delay_stats[(delay_stats['mean_delay'] > 15) & (delay_stats['flight_count'] > 5)]\n",
    "result = airlines_df.merge(delay_stats, on='carrier')\n",
    "result = result[['name', 'carrier', 'month', 'mean_delay', 'median_delay', 'flight_count']].sort_values('mean_delay', ascending=False)\n",
    "\n",
    "print(result.head(10))\n",
    "print(result.shape)\n"
   ]
  },
  {
   "cell_type": "markdown",
   "id": "0e3b3f50",
   "metadata": {},
   "source": [
    "**Key Finding:**\n",
    "Initially, the top of the ranking was dominated by airlines with only 1–2 recorded flights, leading to unrealistic averages.\n",
    "After filtering for carriers with more than five flights, the highest mean delays were observed for Endeavor Air Inc. and Southwest Airlines Co., exceeding 50 and 45 minutes on average per month.\n",
    "However, median delays for these and most other carriers remained close to zero, indicating that while a few flights experience severe delays, the majority of flights depart on time or even slightly early.\n",
    "\n",
    "**Insight:**\n",
    "This contrast between mean and median delay highlights the influence of outliers - rare but significant disruptions that inflate the average delay.\n",
    "Most carriers maintain generally punctual operations, with only a small number of long delays skewing the mean upward.\n",
    "Therefore, median delay provides a *more realistic measure* of typical passenger experience, while mean delay reflects sensitivity to *occasional extreme events*.\n",
    "\n",
    "**Conclusion:**\n",
    "Although certain airlines show high average delay times, their median performance suggests overall reliability.\n",
    "Travelers can interpret this as: these carriers are usually on time, but when delays do occur, they tend to be long and infrequent."
   ]
  }
 ],
 "metadata": {
  "kernelspec": {
   "display_name": "Python 3",
   "language": "python",
   "name": "python3"
  },
  "language_info": {
   "codemirror_mode": {
    "name": "ipython",
    "version": 3
   },
   "file_extension": ".py",
   "mimetype": "text/x-python",
   "name": "python",
   "nbconvert_exporter": "python",
   "pygments_lexer": "ipython3",
   "version": "3.12.5"
  }
 },
 "nbformat": 4,
 "nbformat_minor": 5
}
