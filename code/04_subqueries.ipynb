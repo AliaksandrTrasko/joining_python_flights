{
 "cells": [
  {
   "cell_type": "code",
   "execution_count": 2,
   "id": "ebb8bebb",
   "metadata": {},
   "outputs": [],
   "source": [
    "import pandas as pd\n",
    "from pathlib import Path"
   ]
  },
  {
   "cell_type": "code",
   "execution_count": 3,
   "id": "9d6346d1",
   "metadata": {},
   "outputs": [
    {
     "data": {
      "text/plain": [
       "\"\\nConvert the 'time_hour' column in flights_df and weather_df to datetime64[ns] type, as it was 'object'.\\nThis was necessary because a merge on date/time types was not possible otherwise.\\n\\nThe dtype for flights_df was datetime64[ns], while for weather_df it was datetime64[ns, UTC]. Removed the UTC timezone.\\n\""
      ]
     },
     "execution_count": 3,
     "metadata": {},
     "output_type": "execute_result"
    }
   ],
   "source": [
    "basic_directory = Path.cwd()                            # directory of the file - folder \"code\"\n",
    "data_directory = basic_directory.parent / \"data\"        # go one level up and choose folder \"data\"\n",
    "\n",
    "# It's a common convention to add a _df suffix to a variable name to indicate it's a DataFrame.\n",
    "flights_df  = pd.read_csv(data_directory / \"flights.csv\")\n",
    "airlines_df = pd.read_csv(data_directory / \"airlines.csv\")\n",
    "airports_df = pd.read_csv(data_directory / \"airports.csv\")\n",
    "planes_df   = pd.read_csv(data_directory / \"planes.csv\")\n",
    "weather_df  = pd.read_csv(data_directory / \"weather.csv\")\n",
    "\n",
    "# Convert to datetime\n",
    "flights_df['time_hour'] = pd.to_datetime(flights_df['time_hour'])\n",
    "weather_df['time_hour'] = pd.to_datetime(weather_df['time_hour'])\n",
    "\n",
    "# Remove timezone\n",
    "weather_df['time_hour'] = weather_df['time_hour'].dt.tz_localize(None)\n",
    "\n",
    "'''\n",
    "Convert the 'time_hour' column in flights_df and weather_df to datetime64[ns] type, as it was 'object'.\n",
    "This was necessary because a merge on date/time types was not possible otherwise.\n",
    "\n",
    "The dtype for flights_df was datetime64[ns], while for weather_df it was datetime64[ns, UTC]. Removed the UTC timezone.\n",
    "'''"
   ]
  },
  {
   "cell_type": "code",
   "execution_count": 3,
   "id": "dffea634",
   "metadata": {},
   "outputs": [
    {
     "name": "stdout",
     "output_type": "stream",
     "text": [
      "      year  month  day  dep_time  sched_dep_time  dep_delay  arr_time  \\\n",
      "0     2013      6   27    1335.0            1214       81.0    1426.0   \n",
      "2     2013      7   31    2007.0            2007        0.0    2358.0   \n",
      "11    2013      4   16    1827.0            1829       -2.0    2129.0   \n",
      "12    2013      1   24    1123.0            1125       -2.0    1607.0   \n",
      "17    2013      7   26    2042.0            2004       38.0    2327.0   \n",
      "...    ...    ...  ...       ...             ...        ...       ...   \n",
      "9968  2013      1   29    1949.0            1800      109.0    2258.0   \n",
      "9971  2013      8   13    1815.0            1700       75.0    2056.0   \n",
      "9972  2013      4   14     841.0             845       -4.0    1159.0   \n",
      "9991  2013      6    6     744.0             745       -1.0     905.0   \n",
      "9993  2013     12   21    1845.0            1836        9.0    2143.0   \n",
      "\n",
      "      sched_arr_time  arr_delay carrier  flight tailnum origin dest  air_time  \\\n",
      "0               1335       51.0      UA    1037  N34222    EWR  BOS      35.0   \n",
      "2               2359       -1.0      UA    1244  N39418    EWR  SJU     200.0   \n",
      "11              2139      -10.0      UA    1219  N28457    EWR  SEA     341.0   \n",
      "12              1620      -13.0      DL     315  N3764D    JFK  SJU     196.0   \n",
      "17              2249       38.0      UA    1695  N13716    EWR  IAH     182.0   \n",
      "...              ...        ...     ...     ...     ...    ...  ...       ...   \n",
      "9968            2104      114.0      UA    1139  N16709    EWR  DFW     219.0   \n",
      "9971            1955       61.0      WN    3928  N797MX    EWR  HOU     189.0   \n",
      "9972            1138       21.0      UA    1549  N13750    LGA  IAH     230.0   \n",
      "9991             905        0.0      WN    3841  N916WN    EWR  MDW     113.0   \n",
      "9993            2157      -14.0      DL    2357  N3749D    JFK  SAN     322.0   \n",
      "\n",
      "      distance  hour  minute           time_hour  \n",
      "0          200    12      14 2013-06-27 12:00:00  \n",
      "2         1608    20       7 2013-07-31 20:00:00  \n",
      "11        2402    18      29 2013-04-16 18:00:00  \n",
      "12        1598    11      25 2013-01-24 11:00:00  \n",
      "17        1400    20       4 2013-07-26 20:00:00  \n",
      "...        ...   ...     ...                 ...  \n",
      "9968      1372    18       0 2013-01-29 18:00:00  \n",
      "9971      1411    17       0 2013-08-13 17:00:00  \n",
      "9972      1416     8      45 2013-04-14 08:00:00  \n",
      "9991       711     7      45 2013-06-06 07:00:00  \n",
      "9993      2446    18      36 2013-12-21 18:00:00  \n",
      "\n",
      "[1519 rows x 19 columns]\n"
     ]
    },
    {
     "data": {
      "text/plain": [
       "\"\\nSELECT *\\nFROM flights\\nWHERE tailnum IN (\\n    SELECT tailnum\\n    FROM planes\\n    WHERE model LIKE '737%'\\n);\\n\""
      ]
     },
     "execution_count": 3,
     "metadata": {},
     "output_type": "execute_result"
    }
   ],
   "source": [
    "# WHERE clause\n",
    "# Рейсы, которые выполнялись на самолетах Boeing 737\n",
    "\n",
    "planes = planes_df.loc[planes_df['model'].str.startswith('737'), 'tailnum']\n",
    "flights = flights_df[flights_df['tailnum'].isin(planes)]\n",
    "'''\n",
    "flights = flights_df.loc[\n",
    "    flights_df['tailnum'].isin(planes),\n",
    "    [\"year\", \"month\", \"day\", \"carrier\", \"flight\", \"tailnum\", \"origin\", \"dest\"]\n",
    "]\n",
    "если бы хотел выбрать конкретные колонки\n",
    "'''\n",
    "print(flights)\n",
    "'''\n",
    "SELECT *\n",
    "FROM flights\n",
    "WHERE tailnum IN (\n",
    "    SELECT tailnum\n",
    "    FROM planes\n",
    "    WHERE model LIKE '737%'\n",
    ");\n",
    "'''"
   ]
  },
  {
   "cell_type": "code",
   "execution_count": 4,
   "id": "deae4deb",
   "metadata": {},
   "outputs": [
    {
     "name": "stdout",
     "output_type": "stream",
     "text": [
      "      year  month  day carrier  flight tailnum origin dest      model\n",
      "0     2013      6   27      UA    1037  N34222    EWR  BOS    737-824\n",
      "1     2013      7   31      UA    1244  N39418    EWR  SJU  737-924ER\n",
      "2     2013      4   16      UA    1219  N28457    EWR  SEA  737-924ER\n",
      "3     2013      1   24      DL     315  N3764D    JFK  SJU    737-832\n",
      "4     2013      7   26      UA    1695  N13716    EWR  IAH    737-724\n",
      "...    ...    ...  ...     ...     ...     ...    ...  ...        ...\n",
      "1514  2013      1   29      UA    1139  N16709    EWR  DFW    737-724\n",
      "1515  2013      8   13      WN    3928  N797MX    EWR  HOU    737-7H4\n",
      "1516  2013      4   14      UA    1549  N13750    LGA  IAH    737-724\n",
      "1517  2013      6    6      WN    3841  N916WN    EWR  MDW    737-7H4\n",
      "1518  2013     12   21      DL    2357  N3749D    JFK  SAN    737-832\n",
      "\n",
      "[1519 rows x 9 columns]\n"
     ]
    }
   ],
   "source": [
    "# Как и первый запрос, только в колонкой 'model' из planes_df в flights_df\n",
    "\n",
    "planes_737 = planes_df.loc[planes_df['model'].str.startswith('737'), ['tailnum', 'model']]\n",
    "\n",
    "merged = flights_df.merge(planes_737, on='tailnum') # таблица, в которой есть ВСЕ колонки из planes_737 и из flights_df.\n",
    "\n",
    "result = merged[[\"year\", \"month\", \"day\", \"carrier\", \"flight\", \"tailnum\", \"origin\", \"dest\", \"model\"]] # просто выбираю какие колонки мне нужны\n",
    "print(result)"
   ]
  },
  {
   "cell_type": "code",
   "execution_count": 5,
   "id": "975cdd18",
   "metadata": {},
   "outputs": [
    {
     "name": "stdout",
     "output_type": "stream",
     "text": [
      "      year  month  day carrier  flight tailnum origin dest\n",
      "0     2013      6   27      UA    1037  N34222    EWR  BOS\n",
      "5     2013      5   31      AA    1762  N3AWAA    JFK  BOS\n",
      "7     2013      4    1      B6    1307  N348JB    JFK  IAD\n",
      "9     2013      3   29      US    2126  N956UW    LGA  BOS\n",
      "26    2013      7   31      US    2144  N956UW    LGA  BOS\n",
      "...    ...    ...  ...     ...     ...     ...    ...  ...\n",
      "9975  2013      5   14      AA     854  N3DXAA    JFK  BOS\n",
      "9978  2013      8   28      B6     118  N355JB    JFK  BOS\n",
      "9979  2013      2    8      B6      42  N192JB    JFK  SYR\n",
      "9988  2013      1    8      9E    4220  N824AY    JFK  RDU\n",
      "9999  2013     11   18      EV    4695  N11548    EWR  RDU\n",
      "\n",
      "[1868 rows x 8 columns]\n"
     ]
    },
    {
     "data": {
      "text/plain": [
       "'\\nSELECT *\\nFROM flights\\nWHERE dest IN (\\n    SELECT faa\\n    FROM airports\\n    WHERE lon > -80  -- восточнее 80° западной долготы\\n);\\n'"
      ]
     },
     "execution_count": 5,
     "metadata": {},
     "output_type": "execute_result"
    }
   ],
   "source": [
    "# Рейсы в аэропорты на восточном побережье\n",
    "\n",
    "airports = airports_df.loc[airports_df['lon']>-80, 'faa']\n",
    "flights = flights_df.loc[flights_df['dest'].isin(airports),\n",
    "                         [\"year\", \"month\", \"day\", \"carrier\", \"flight\", \"tailnum\", \"origin\", \"dest\"]\n",
    "                         ]\n",
    "'''\n",
    "или просто flights = flights_df[flights_df['dest'].isin(airports)]\n",
    "тогда все колонки\n",
    "'''\n",
    "print(flights)\n",
    "'''\n",
    "SELECT *\n",
    "FROM flights\n",
    "WHERE dest IN (\n",
    "    SELECT faa\n",
    "    FROM airports\n",
    "    WHERE lon > -80  -- восточнее 80° западной долготы\n",
    ");\n",
    "'''"
   ]
  },
  {
   "cell_type": "code",
   "execution_count": 6,
   "id": "2da83bfb",
   "metadata": {},
   "outputs": [
    {
     "name": "stdout",
     "output_type": "stream",
     "text": [
      "  origin  number\n",
      "0    EWR    3645\n",
      "1    LGA    3079\n",
      "2    JFK    3276\n"
     ]
    },
    {
     "data": {
      "text/plain": [
       "'\\nSELECT DISTINCT origin, \\n    (SELECT COUNT(*)\\n    FROM flights AS f2\\n    WHERE f1.origin = f2.origin\\n    ) AS number\\nFROM flights AS f1;\\n'"
      ]
     },
     "execution_count": 6,
     "metadata": {},
     "output_type": "execute_result"
    }
   ],
   "source": [
    "# SELECT clause\n",
    "\n",
    "# Для каждого аэропорта показать количество рейсов из него\n",
    "counts = flights_df.groupby('origin').size().reset_index(name='number') # Кол-во рейсов по каждому origin\n",
    "\n",
    "result = (\n",
    "    flights_df[['origin']]\n",
    "    .drop_duplicates()              # аналог SELECT DISTINCT origin\n",
    "    .merge(counts, on='origin')     # добавляется число рейсов из counts\n",
    ")\n",
    "\n",
    "print(result)\n",
    "\n",
    "'''\n",
    "SELECT DISTINCT origin, \n",
    "    (SELECT COUNT(*)\n",
    "    FROM flights AS f2\n",
    "    WHERE f1.origin = f2.origin\n",
    "    ) AS number\n",
    "FROM flights AS f1;\n",
    "'''"
   ]
  },
  {
   "cell_type": "code",
   "execution_count": 7,
   "id": "ec435e5f",
   "metadata": {},
   "outputs": [
    {
     "name": "stdout",
     "output_type": "stream",
     "text": [
      "  origin  total_flights\n",
      "0    EWR           3645\n",
      "1    JFK           3276\n",
      "2    LGA           3079\n"
     ]
    },
    {
     "data": {
      "text/plain": [
       "'\\nSELECT origin, COUNT(*) AS total_flights\\nFROM flights\\nGROUP BY origin;\\n'"
      ]
     },
     "execution_count": 7,
     "metadata": {},
     "output_type": "execute_result"
    }
   ],
   "source": [
    "# Вместо подзапроса в SELECT\n",
    "\n",
    "query = flights_df.groupby('origin').size().reset_index(name='total_flights')\n",
    "print(query)\n",
    "'''\n",
    "SELECT origin, COUNT(*) AS total_flights\n",
    "FROM flights\n",
    "GROUP BY origin;\n",
    "'''"
   ]
  },
  {
   "cell_type": "code",
   "execution_count": 8,
   "id": "af0afbaf",
   "metadata": {},
   "outputs": [
    {
     "name": "stdout",
     "output_type": "stream",
     "text": [
      "  tailnum  number\n",
      "0  N34222       3\n",
      "1  N926LR       3\n",
      "2  N39418       4\n",
      "3  N960DL       4\n",
      "4  N615JB      16\n",
      "5  N3AWAA       2\n",
      "6  N557UA       9\n",
      "7  N348JB      13\n",
      "8  N17159       8\n",
      "9  N956UW       5\n"
     ]
    },
    {
     "data": {
      "text/plain": [
       "'\\nSELECT DISTINCT tailnum,\\n       (SELECT COUNT(*)\\n        FROM flights f2\\n        WHERE f2.tailnum = f1.tailnum) AS flight_count\\nFROM flights f1\\nWHERE tailnum IS NOT NULL\\nLIMIT 10;\\n'"
      ]
     },
     "execution_count": 8,
     "metadata": {},
     "output_type": "execute_result"
    }
   ],
   "source": [
    "# Для каждого самолета показать общее количество полетов\n",
    "notnull = flights_df[flights_df['tailnum'].notna()]\n",
    "\n",
    "counts = notnull.groupby('tailnum').size().reset_index(name=\"number\") \n",
    "result = (\n",
    "    flights_df[['tailnum']]\n",
    "    .drop_duplicates()\n",
    "    .merge(counts, on='tailnum')\n",
    "    .head(10)\n",
    ")\n",
    "print(result)\n",
    "'''\n",
    "SELECT DISTINCT tailnum,\n",
    "       (SELECT COUNT(*)\n",
    "        FROM flights f2\n",
    "        WHERE f2.tailnum = f1.tailnum) AS flight_count\n",
    "FROM flights f1\n",
    "WHERE tailnum IS NOT NULL\n",
    "LIMIT 10;\n",
    "'''"
   ]
  },
  {
   "cell_type": "code",
   "execution_count": 9,
   "id": "e803c658",
   "metadata": {},
   "outputs": [
    {
     "name": "stdout",
     "output_type": "stream",
     "text": [
      "     tailnum    manufacturer            model  avg_distance\n",
      "851   N388HA          AIRBUS         A330-243       4983.00\n",
      "862   N392HA          AIRBUS         A330-243       4983.00\n",
      "859   N391HA          AIRBUS         A330-243       4983.00\n",
      "853   N389HA          AIRBUS         A330-243       4983.00\n",
      "844   N384HA          AIRBUS         A330-243       4983.00\n",
      "...      ...             ...              ...           ...\n",
      "2273  N967UW         EMBRAER  ERJ 190-100 IGW        154.67\n",
      "2239  N955UW         EMBRAER  ERJ 190-100 IGW        148.80\n",
      "2037  N8968E  BOMBARDIER INC      CL-600-2B19         94.00\n",
      "2022  N8928A  BOMBARDIER INC      CL-600-2B19         94.00\n",
      "1874  N829AY  BOMBARDIER INC      CL-600-2B19         94.00\n",
      "\n",
      "[2324 rows x 4 columns]\n"
     ]
    },
    {
     "data": {
      "text/plain": [
       "'\\nSELECT pl.tailnum, pl.manufacturer, pl.model,\\n       route_stats.avg_distance\\nFROM planes AS pl,\\n    (SELECT tailnum, ROUND(AVG(distance), 2) AS avg_distance\\n    FROM flights AS fl\\n    GROUP BY tailnum) AS route_stats\\nWHERE pl.tailnum = route_stats.tailnum\\nORDER BY avg_distance DESC;\\n'"
      ]
     },
     "execution_count": 9,
     "metadata": {},
     "output_type": "execute_result"
    }
   ],
   "source": [
    "# FROM clause\n",
    "route_stats = (\n",
    "    flights_df.groupby(\"tailnum\")[\"distance\"]\n",
    "    .mean().round(2)\n",
    "    .reset_index(name=\"avg_distance\")\n",
    ")\n",
    "\n",
    "result = planes_df.merge(route_stats, on=\"tailnum\")\n",
    "result = result[[\"tailnum\", \"manufacturer\", \"model\", \"avg_distance\"]].sort_values(\"avg_distance\", ascending=False)\n",
    "\n",
    "print(result)\n",
    "\n",
    "\n",
    "'''\n",
    "SELECT pl.tailnum, pl.manufacturer, pl.model,\n",
    "       route_stats.avg_distance\n",
    "FROM planes AS pl,\n",
    "    (SELECT tailnum, ROUND(AVG(distance), 2) AS avg_distance\n",
    "    FROM flights AS fl\n",
    "    GROUP BY tailnum) AS route_stats\n",
    "WHERE pl.tailnum = route_stats.tailnum\n",
    "ORDER BY avg_distance DESC;\n",
    "'''"
   ]
  },
  {
   "cell_type": "code",
   "execution_count": 10,
   "id": "d7af8ebb",
   "metadata": {},
   "outputs": [
    {
     "name": "stdout",
     "output_type": "stream",
     "text": [
      "                            name carrier  month  avg_delay  flight_count\n",
      "85   AirTran Airways Corporation      FL      6     140.00             2\n",
      "74        Frontier Airlines Inc.      F9      7      88.00             1\n",
      "161           Mesa Airlines Inc.      YV      1      78.00             1\n",
      "1              Endeavor Air Inc.      9E      2      50.13            31\n",
      "156       Southwest Airlines Co.      WN      8      45.39            28\n",
      "(49, 5)\n"
     ]
    },
    {
     "data": {
      "text/plain": [
       "'\\nSELECT a.name, a.carrier,\\n       delay_stats.month,\\n       delay_stats.avg_delay,\\n       delay_stats.flight_count\\nFROM airlines AS a,\\n     (SELECT carrier, month,\\n             ROUND(AVG(dep_delay), 2) AS avg_delay,\\n             COUNT(*) AS flight_count\\n      FROM flights\\n      WHERE dep_delay IS NOT NULL\\n      GROUP BY carrier, month) AS delay_stats\\nWHERE a.carrier = delay_stats.carrier\\n  AND delay_stats.avg_delay > 15\\nORDER BY delay_stats.avg_delay DESC;\\n'"
      ]
     },
     "execution_count": 10,
     "metadata": {},
     "output_type": "execute_result"
    }
   ],
   "source": [
    "delay_stats = (\n",
    "    flights_df[flights_df['dep_delay'].notna()]\n",
    "    .groupby(['carrier', 'month'])['dep_delay']\n",
    "    .agg(avg_delay='mean', flight_count='size')\n",
    "    .reset_index()\n",
    ")\n",
    "\n",
    "delay_stats['avg_delay'] = delay_stats['avg_delay'].round(2)\n",
    "\n",
    "result = airlines_df.merge(delay_stats, on='carrier')\n",
    "result = result[result['avg_delay'] > 15]\n",
    "result = result[['name', 'carrier', 'month', 'avg_delay', 'flight_count']].sort_values('avg_delay', ascending=False)\n",
    "\n",
    "print(result.head(5))\n",
    "print(result.shape)\n",
    "\n",
    "'''\n",
    "SELECT a.name, a.carrier,\n",
    "       delay_stats.month,\n",
    "       delay_stats.avg_delay,\n",
    "       delay_stats.flight_count\n",
    "FROM airlines AS a,\n",
    "     (SELECT carrier, month,\n",
    "             ROUND(AVG(dep_delay), 2) AS avg_delay,\n",
    "             COUNT(*) AS flight_count\n",
    "      FROM flights\n",
    "      WHERE dep_delay IS NOT NULL\n",
    "      GROUP BY carrier, month) AS delay_stats\n",
    "WHERE a.carrier = delay_stats.carrier\n",
    "  AND delay_stats.avg_delay > 15\n",
    "ORDER BY delay_stats.avg_delay DESC;\n",
    "'''"
   ]
  }
 ],
 "metadata": {
  "kernelspec": {
   "display_name": "Python 3",
   "language": "python",
   "name": "python3"
  },
  "language_info": {
   "codemirror_mode": {
    "name": "ipython",
    "version": 3
   },
   "file_extension": ".py",
   "mimetype": "text/x-python",
   "name": "python",
   "nbconvert_exporter": "python",
   "pygments_lexer": "ipython3",
   "version": "3.12.5"
  }
 },
 "nbformat": 4,
 "nbformat_minor": 5
}
