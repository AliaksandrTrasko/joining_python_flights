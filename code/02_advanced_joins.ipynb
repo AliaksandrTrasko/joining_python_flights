{
 "cells": [
  {
   "cell_type": "code",
   "execution_count": 1,
   "id": "e6d9b3b5",
   "metadata": {},
   "outputs": [],
   "source": [
    "import pandas as pd"
   ]
  },
  {
   "cell_type": "code",
   "execution_count": 2,
   "id": "e3dbc0d6",
   "metadata": {},
   "outputs": [
    {
     "data": {
      "text/plain": [
       "'\\nПреобразуем колонку time_hour в flights_df и weather_df в тип datetime64[ns], потому что был object\\nПотому что нельзя было делать merge по дате/времени\\n\\nУ flights_df был тип - datetime64[ns]. У weather_df - datetime64[ns, UTC]. Убрал таймзону UTC\\n'"
      ]
     },
     "execution_count": 2,
     "metadata": {},
     "output_type": "execute_result"
    }
   ],
   "source": [
    "# Принято добавлять к названию переменной _df, чтобы было понятно, что это DataFrame\n",
    "flights_df = pd.read_csv(\"D:/Lern ht code/python_flights_project/data/flights.csv\")\n",
    "airlines_df = pd.read_csv(\"D:/Lern ht code/python_flights_project/data/airlines.csv\")\n",
    "airports_df = pd.read_csv(\"D:/Lern ht code/python_flights_project/data/airports.csv\")\n",
    "planes_df = pd.read_csv(\"D:/Lern ht code/python_flights_project/data/planes.csv\")\n",
    "weather_df = pd.read_csv(\"D:/Lern ht code/python_flights_project/data/weather.csv\")\n",
    "\n",
    "flights_df['time_hour'] = pd.to_datetime(flights_df['time_hour'])\n",
    "weather_df['time_hour'] = pd.to_datetime(weather_df['time_hour'])\n",
    "weather_df['time_hour'] = weather_df['time_hour'].dt.tz_localize(None)\n",
    "\n",
    "'''\n",
    "Преобразуем колонку time_hour в flights_df и weather_df в тип datetime64[ns], потому что был object\n",
    "Потому что нельзя было делать merge по дате/времени\n",
    "\n",
    "У flights_df был тип - datetime64[ns]. У weather_df - datetime64[ns, UTC]. Убрал таймзону UTC\n",
    "'''"
   ]
  },
  {
   "cell_type": "code",
   "execution_count": null,
   "id": "46f1e7eb",
   "metadata": {},
   "outputs": [
    {
     "name": "stdout",
     "output_type": "stream",
     "text": [
      "     tailnum carrier                         name  flight_count\n",
      "616   N335AA      AA       American Airlines Inc.            18\n",
      "1599  N711MQ      MQ                    Envoy Air            18\n",
      "315   N183JB      B6              JetBlue Airways            17\n",
      "629   N339AA      AA       American Airlines Inc.            17\n",
      "1420  N632JB      B6              JetBlue Airways            17\n",
      "...      ...     ...                          ...           ...\n",
      "2257  N960AT      FL  AirTran Airways Corporation             1\n",
      "2259  N961AT      FL  AirTran Airways Corporation             1\n",
      "937   N426AA      AA       American Airlines Inc.             1\n",
      "2264  N963AT      FL  AirTran Airways Corporation             1\n",
      "2280  N969AT      FL  AirTran Airways Corporation             1\n",
      "\n",
      "[2328 rows x 4 columns]\n",
      "     tailnum  carriers_count\n",
      "2803  N998AT               1\n",
      "0     N0EGMQ               1\n",
      "2     N104UW               1\n",
      "5     N107US               1\n",
      "6     N109UW               1\n"
     ]
    },
    {
     "data": {
      "text/plain": [
       "'\\n-- У какого самолёта самое большое количество рейсов и его компания\\nSELECT pl.tailnum, fl.carrier, al.name AS airline_name, COUNT(*) AS flight_count\\nFROM planes AS pl\\nLEFT JOIN flights AS fl\\nUSING(tailnum)\\nLEFT JOIN airlines AS al \\nUSING(carrier)\\nGROUP BY pl.tailnum, fl.carrier, al.name  -- группируем по всем трём полям\\nORDER BY flight_count DESC\\n\\n/* Самое большое кол-во рейсов у самолёта с tailnum=N711MQ компании Envoy Air, он совершил 18 рейсов */;\\nSELECT tailnum, COUNT(DISTINCT carrier) as carriers_count\\nFROM flights\\nGROUP BY tailnum\\nHAVING COUNT(DISTINCT carrier) > 1\\nORDER BY carriers_count DESC\\n/* ДО поделения на carrier было 3322 строки, после - 3326\\nЗапрос выше показывает, сколько и какие имменно самолёты летали больше чем за одну компанию\\n*/;\\n'"
      ]
     },
     "execution_count": 11,
     "metadata": {},
     "output_type": "execute_result"
    }
   ],
   "source": [
    "highest_no = planes_with_flights = planes_df.merge(flights_df, on='tailnum', how='left')\n",
    "highest_no = highest_no.merge(airlines_df, on='carrier', how='left')\n",
    "\n",
    "\n",
    "result = (\n",
    "    highest_no\n",
    "    .groupby(['tailnum', 'carrier', 'name'])\n",
    "    .size()                                        # COUNT(*) аналог\n",
    "    .reset_index(name='flight_count')              # переименовали колонку\n",
    "    .sort_values('flight_count', ascending=False)  # ORDER BY flight_count DESC\n",
    ")\n",
    "print(result)\n",
    "\n",
    "result = (\n",
    "    flights_df\n",
    "    .groupby('tailnum')['carrier']\n",
    "    .nunique()                                   # аналог COUNT(DISTINCT carrier)\n",
    "    .reset_index(name='carriers_count')          # колонка вместо индекса\n",
    "    .query(\"carriers_count > 1\")                 # HAVING\n",
    "    .sort_values('carriers_count', ascending=False)\n",
    ")\n",
    "\n",
    "print(result.head())\n",
    "'''\n",
    "-- У какого самолёта самое большое количество рейсов и его компания\n",
    "SELECT pl.tailnum, fl.carrier, al.name AS airline_name, COUNT(*) AS flight_count\n",
    "FROM planes AS pl\n",
    "LEFT JOIN flights AS fl\n",
    "USING(tailnum)\n",
    "LEFT JOIN airlines AS al \n",
    "USING(carrier)\n",
    "GROUP BY pl.tailnum, fl.carrier, al.name  -- группируем по всем трём полям\n",
    "ORDER BY flight_count DESC\n",
    "\n",
    "/* Самое большое кол-во рейсов у самолёта с tailnum=N711MQ компании Envoy Air, он совершил 18 рейсов */;\n",
    "SELECT tailnum, COUNT(DISTINCT carrier) as carriers_count\n",
    "FROM flights\n",
    "GROUP BY tailnum\n",
    "HAVING COUNT(DISTINCT carrier) > 1\n",
    "ORDER BY carriers_count DESC\n",
    "/* ДО поделения на carrier было 3322 строки, после - 3326\n",
    "Запрос выше показывает, сколько и какие имменно самолёты летали больше чем за одну компанию\n",
    "*/;\n",
    "'''"
   ]
  },
  {
   "cell_type": "code",
   "execution_count": 12,
   "id": "65366923",
   "metadata": {},
   "outputs": [
    {
     "name": "stdout",
     "output_type": "stream",
     "text": [
      "     carrier                    name  month  minute  dep_time\n",
      "521       AA  American Airlines Inc.      5      55    1951.0\n",
      "522       AA  American Airlines Inc.      7      45    1336.0\n",
      "523       AA  American Airlines Inc.      4       0    1458.0\n",
      "524       AA  American Airlines Inc.      3      30     847.0\n",
      "525       AA  American Airlines Inc.      6      15    1311.0\n",
      "...      ...                     ...    ...     ...       ...\n",
      "8847      UA   United Air Lines Inc.      9      30     628.0\n",
      "8848      UA   United Air Lines Inc.      1       0    1949.0\n",
      "8849      UA   United Air Lines Inc.      4      45     841.0\n",
      "8850      UA   United Air Lines Inc.     12       5    1502.0\n",
      "8851      UA   United Air Lines Inc.     12      56    1803.0\n",
      "\n",
      "[2699 rows x 5 columns]\n"
     ]
    },
    {
     "data": {
      "text/plain": [
       "\"\\n-- Простой запрос на FULL JOIN\\nSELECT carrier, al.name, fl.month, fl.minute, fl.dep_time\\nFROM airlines as al\\nFULL JOIN flights as fl\\nUSING(carrier)\\nWHERE carrier='UA' OR carrier='AA';\\n\""
      ]
     },
     "execution_count": 12,
     "metadata": {},
     "output_type": "execute_result"
    }
   ],
   "source": [
    "full_join = airlines_df.merge(flights_df, on='carrier', how='outer')\n",
    "\n",
    "result = (\n",
    "    full_join\n",
    "    .loc[full_join['carrier'].isin(['UA', 'AA']),\n",
    "    ['carrier', 'name', 'month', 'minute', 'dep_time']]\n",
    ")\n",
    "print(result)\n",
    "# isin - находится ли значение в колонке среди заданного списка\n",
    "'''\n",
    "-- Простой запрос на FULL JOIN\n",
    "SELECT carrier, al.name, fl.month, fl.minute, fl.dep_time\n",
    "FROM airlines as al\n",
    "FULL JOIN flights as fl\n",
    "USING(carrier)\n",
    "WHERE carrier='UA' OR carrier='AA';\n",
    "'''"
   ]
  },
  {
   "cell_type": "code",
   "execution_count": 22,
   "id": "82cd1bdd",
   "metadata": {},
   "outputs": [
    {
     "name": "stdout",
     "output_type": "stream",
     "text": [
      "       dest origin                    name\n",
      "72      TPA    JFK  Hawaiian Airlines Inc.\n",
      "88      BOS    JFK  Hawaiian Airlines Inc.\n",
      "104     SFO    JFK  Hawaiian Airlines Inc.\n",
      "120     IAD    JFK  Hawaiian Airlines Inc.\n",
      "168     CHS    JFK  Hawaiian Airlines Inc.\n",
      "...     ...    ...                     ...\n",
      "159880  IND    JFK  Hawaiian Airlines Inc.\n",
      "159896  SAN    JFK  Hawaiian Airlines Inc.\n",
      "159912  SEA    JFK  Hawaiian Airlines Inc.\n",
      "159928  LAX    JFK  Hawaiian Airlines Inc.\n",
      "159960  PBI    JFK  Hawaiian Airlines Inc.\n",
      "\n",
      "[3276 rows x 3 columns]\n"
     ]
    },
    {
     "data": {
      "text/plain": [
       "\"\\n-- Простой запрос на CROSS JOIN\\nSELECT fl.dest, fl.origin, al.name\\nFROM flights AS fl\\nCROSS JOIN airlines AS al\\nWHERE fl.origin IN ('JFK') AND al.carrier IN ('HA');\\n\""
      ]
     },
     "execution_count": 22,
     "metadata": {},
     "output_type": "execute_result"
    }
   ],
   "source": [
    "cross_join = flights_df.merge(airlines_df, how='cross', suffixes=(\"_flights\", \"_airlines\"))\n",
    "\n",
    "result = (\n",
    "    cross_join\n",
    "    .loc[(cross_join['origin']=='JFK') & (cross_join['carrier_airlines']=='HA'),\n",
    "         ['dest', 'origin', 'name']]\n",
    ")\n",
    "print(result)\n",
    "\n",
    "\n",
    "# каждая строка из flights_df соединяется с каждой строкой из airlines_df.\n",
    "# carrier_flights == \"HA\" ->> ТОЛЬКО те рейсы, где перевозчик в FLIGHTS_DF = Hawaiian Airlines.\n",
    "# carrier_y == \"HA\" ->> ВСЕ рейсы, но остаются только те строки, где справочник AIRLINES_DF УКАЗЫВАЕТ НА HAWAIIAN.\n",
    "\n",
    "'''\n",
    "-- Простой запрос на CROSS JOIN\n",
    "SELECT fl.dest, fl.origin, al.name\n",
    "FROM flights AS fl\n",
    "CROSS JOIN airlines AS al\n",
    "WHERE fl.origin IN ('JFK') AND al.carrier IN ('HA');\n",
    "'''"
   ]
  },
  {
   "cell_type": "code",
   "execution_count": null,
   "id": "2b8bf0fe",
   "metadata": {},
   "outputs": [
    {
     "name": "stdout",
     "output_type": "stream",
     "text": [
      "    day_fl1  day_fl2  month\n",
      "1        27        9      6\n",
      "2        27        4      6\n",
      "3        27       17      6\n",
      "4        27       14      6\n",
      "5        27       24      6\n",
      "6        27        7      6\n",
      "7        27       28      6\n",
      "8        27       26      6\n",
      "9        27       19      6\n",
      "10       27       22      6\n",
      "11       27        2      6\n",
      "12       27       21      6\n",
      "13       27       30      6\n",
      "14       27       13      6\n",
      "15       27       20      6\n",
      "16       27       16      6\n",
      "17       27       18      6\n",
      "18       27       17      6\n",
      "19       27        3      6\n",
      "20       27       12      6\n",
      "21       27       23      6\n",
      "22       27       23      6\n",
      "23       27       22      6\n",
      "24       27       28      6\n",
      "26       27        3      6\n",
      "27       27       24      6\n",
      "28       27        1      6\n",
      "29       27        3      6\n",
      "30       27        1      6\n",
      "31       27       20      6\n",
      "32       27       28      6\n",
      "33       27        7      6\n",
      "34       27       30      6\n",
      "35       27       20      6\n",
      "36       27        4      6\n",
      "37       27       15      6\n",
      "38       27        5      6\n",
      "39       27        4      6\n",
      "40       27       26      6\n",
      "41       27       18      6\n"
     ]
    },
    {
     "data": {
      "text/plain": [
       "'\\n-- SELF JOIN (сравнивать колонку с разными значениями в ней самой, в одной таблице)\\n\\n-- Сейчас написал сравнение дней в колонке по месяцам из flights\\nSELECT fl1.day AS day1, fl2.day AS day2, fl1.month\\nFROM flights AS fl1\\nINNER JOIN flights AS fl2\\nON fl1.month=fl2.month\\nAND fl1.day<>fl2.day\\nLIMIT 40\\n/* Запрос (условно): \\nБерёт первый рейс 1-го января из таблицы fl1.\\nСоединяет его со всеми сотнями рейсов, которые произошли 2-го января в таблице fl2.\\nПотом соединяет его со всеми сотнями рейсов 3-го января и т.д.\\nЗатем он берёт второй рейс 1-го января и повторяет весь процесс.\\n*/;\\n'"
      ]
     },
     "execution_count": 24,
     "metadata": {},
     "output_type": "execute_result"
    }
   ],
   "source": [
    "self_join = flights_df.merge(flights_df, on=(['month','day']))\n",
    "\n",
    "result = (\n",
    "    flights_df\n",
    "    .merge(flights_df, on=\"month\", suffixes=(\"_fl1\", \"_fl2\"))\n",
    "    .query(\"day_fl1 != day_fl2\")\n",
    "    [[\"day_fl1\", \"day_fl2\", \"month\"]]\n",
    ")\n",
    "print(result.head(40))\n",
    "\n",
    "'''\n",
    "-- SELF JOIN (сравнивать колонку с разными значениями в ней самой, в одной таблице)\n",
    "\n",
    "-- Сейчас написал сравнение дней в колонке по месяцам из flights\n",
    "SELECT fl1.day AS day1, fl2.day AS day2, fl1.month\n",
    "FROM flights AS fl1\n",
    "INNER JOIN flights AS fl2\n",
    "ON fl1.month=fl2.month\n",
    "AND fl1.day<>fl2.day\n",
    "LIMIT 40\n",
    "/* Запрос (условно): \n",
    "Берёт сначала «1-й день января со всеми остальными днями января»,\n",
    "потом «2-й день января со всеми остальными», и так далее\n",
    "*/;\n",
    "'''"
   ]
  },
  {
   "cell_type": "code",
   "execution_count": 38,
   "id": "b0717b96",
   "metadata": {},
   "outputs": [
    {
     "name": "stdout",
     "output_type": "stream",
     "text": [
      "       flight_fl1  flight_fl2 origin_fl1 origin_fl2 dest  sched_arr_time_fl1  \\\n",
      "1051          127         695        EWR        JFK  MCO                1350   \n",
      "1313          409         219        EWR        JFK  CLT                1023   \n",
      "1767         4440           8        EWR        JFK  BUF                1556   \n",
      "3419          763         399        JFK        JFK  LAX                1011   \n",
      "5122          745        3676        EWR        LGA  CLT                 826   \n",
      "4958         1047        2357        EWR        JFK  SAN                2158   \n",
      "11314         177        1495        JFK        EWR  SFO                2210   \n",
      "2701          935        2247        EWR        LGA  ATL                1631   \n",
      "12652        5207        2095        LGA        EWR  CLT                1507   \n",
      "12405         348         781        LGA        LGA  ATL                1535   \n",
      "11539         501         371        JFK        LGA  FLL                 854   \n",
      "4583          245         561        EWR        LGA  DEN                1024   \n",
      "16775        4478        4984        LGA        EWR  DTW                1110   \n",
      "8373         3374        3443        JFK        JFK  RDU                2145   \n",
      "5054         2171        3792        LGA        JFK  DCA                1213   \n",
      "8839           95         413        JFK        JFK  LAX                2018   \n",
      "16030           3         703        JFK        JFK  LAX                1510   \n",
      "11163         269        4610        JFK        LGA  ATL                1108   \n",
      "13244         857        1626        JFK        EWR  SAN                1151   \n",
      "15012        1480         397        EWR        JFK  SFO                1152   \n",
      "5945          329        1199        LGA        EWR  ORD                1440   \n",
      "15265        1042        1989        JFK        EWR  CLT                 808   \n",
      "8078         2132        3452        LGA        JFK  BOS                1608   \n",
      "2766         1769         779        JFK        LGA  MIA                1835   \n",
      "7371         4171        5259        EWR        LGA  MSN                1534   \n",
      "11817        1262         303        EWR        LGA  ORD                 810   \n",
      "10834        1499        2042        LGA        EWR  ATL                1939   \n",
      "12398        1331         161        JFK        EWR  DEN                1850   \n",
      "14569        1433        4471        LGA        EWR  CLT                 832   \n",
      "13116        3341        2126        JFK        LGA  BOS                1315   \n",
      "15298        3523        1105        JFK        JFK  ORD                1749   \n",
      "4249          407         161        JFK        EWR  LAX                1220   \n",
      "15821         504        3962        EWR        LGA  MDW                1935   \n",
      "16922         371        3744        LGA        EWR  ORD                2225   \n",
      "\n",
      "       sched_arr_time_fl2  difference  \n",
      "1051                 1349           1  \n",
      "1313                 1022           1  \n",
      "1767                 1555           1  \n",
      "3419                 1010           1  \n",
      "5122                  825           1  \n",
      "4958                 2157           1  \n",
      "11314                2209           1  \n",
      "2701                 1629           2  \n",
      "12652                1505           2  \n",
      "12405                1533           2  \n",
      "11539                 852           2  \n",
      "4583                 1022           2  \n",
      "16775                1108           2  \n",
      "8373                 2142           3  \n",
      "5054                 1210           3  \n",
      "8839                 2015           3  \n",
      "16030                1507           3  \n",
      "11163                1105           3  \n",
      "13244                1147           4  \n",
      "15012                1148           4  \n",
      "5945                 1436           4  \n",
      "15265                 804           4  \n",
      "8078                 1604           4  \n",
      "2766                 1830           5  \n",
      "7371                 1529           5  \n",
      "11817                 805           5  \n",
      "10834                1934           5  \n",
      "12398                1845           5  \n",
      "14569                 827           5  \n",
      "13116                1310           5  \n",
      "15298                1744           5  \n",
      "4249                 1215           5  \n",
      "15821                1930           5  \n",
      "16922                2220           5  \n"
     ]
    },
    {
     "data": {
      "text/plain": [
       "'\\nSELECT fl1.flight AS first_flight, fl2.flight AS second_flight, fl1.origin AS first_origin, fl2.origin AS second_origin, fl1.dest, fl2.sched_arr_time AS second_arr_time, fl1.sched_arr_time AS first_arr_time, fl1.sched_arr_time - fl2.sched_arr_time AS difference\\nFROM flights AS fl1\\nINNER JOIN flights AS fl2\\nON fl1.dest = fl2.dest\\nAND fl1.day = fl2.day\\nAND fl1.month = fl2.month\\nAND fl1.sched_arr_time > fl2.sched_arr_time\\nAND (fl1.sched_arr_time - fl2.sched_arr_time) <= 5\\nORDER BY difference ASC\\n/* Данный SQL-запрос выполняет поиск пар рейсов с одинаковым пунктом назначения (dest), \\nкоторые прибывают в один и тот же день с интервалом не более 5 минут */;\\n'"
      ]
     },
     "execution_count": 38,
     "metadata": {},
     "output_type": "execute_result"
    }
   ],
   "source": [
    "same_time = flights_df.merge(flights_df, on=[\"dest\", \"day\", \"month\"], suffixes=(\"_fl1\", \"_fl2\"))\n",
    "\n",
    "result = (\n",
    "    same_time\n",
    "    .loc[\n",
    "         (same_time[\"sched_arr_time_fl1\"] > same_time[\"sched_arr_time_fl2\"]) &\n",
    "         ((same_time[\"sched_arr_time_fl1\"] - same_time[\"sched_arr_time_fl2\"]) <= 5),\n",
    "         [\"flight_fl1\", \"flight_fl2\", \"origin_fl1\", \"origin_fl2\", \"dest\", \"sched_arr_time_fl1\", \"sched_arr_time_fl2\"]\n",
    "    ]\n",
    "    .assign(difference=lambda df: df[\"sched_arr_time_fl1\"] - df[\"sched_arr_time_fl2\"])\n",
    "    .sort_values(\"difference\", ascending=True)\n",
    ")\n",
    "print(result)\n",
    "\n",
    "'''\n",
    "SELECT fl1.flight AS first_flight, fl2.flight AS second_flight, fl1.origin AS first_origin, fl2.origin AS second_origin, fl1.dest, fl2.sched_arr_time AS second_arr_time, fl1.sched_arr_time AS first_arr_time, fl1.sched_arr_time - fl2.sched_arr_time AS difference\n",
    "FROM flights AS fl1\n",
    "INNER JOIN flights AS fl2\n",
    "ON fl1.dest = fl2.dest\n",
    "AND fl1.day = fl2.day\n",
    "AND fl1.month = fl2.month\n",
    "AND fl1.sched_arr_time > fl2.sched_arr_time\n",
    "AND (fl1.sched_arr_time - fl2.sched_arr_time) <= 5\n",
    "ORDER BY difference ASC\n",
    "/* Данный SQL-запрос выполняет поиск пар рейсов с одинаковым пунктом назначения (dest), \n",
    "которые прибывают в один и тот же день с интервалом не более 5 минут */;\n",
    "'''"
   ]
  }
 ],
 "metadata": {
  "kernelspec": {
   "display_name": "Python 3",
   "language": "python",
   "name": "python3"
  },
  "language_info": {
   "codemirror_mode": {
    "name": "ipython",
    "version": 3
   },
   "file_extension": ".py",
   "mimetype": "text/x-python",
   "name": "python",
   "nbconvert_exporter": "python",
   "pygments_lexer": "ipython3",
   "version": "3.12.5"
  }
 },
 "nbformat": 4,
 "nbformat_minor": 5
}
