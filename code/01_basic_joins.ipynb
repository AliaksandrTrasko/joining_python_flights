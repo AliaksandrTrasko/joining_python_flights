{
 "cells": [
  {
   "cell_type": "code",
   "execution_count": 2,
   "id": "bfae398e",
   "metadata": {},
   "outputs": [],
   "source": [
    "import pandas as pd\n",
    "from pathlib import Path"
   ]
  },
  {
   "cell_type": "code",
   "execution_count": 3,
   "id": "f259f119",
   "metadata": {},
   "outputs": [
    {
     "data": {
      "text/plain": [
       "\"\\nConvert the 'time_hour' column in flights_df and weather_df to datetime64[ns] type, as it was 'object'.\\nThis was necessary because a merge on date/time types was not possible otherwise.\\n\\nThe dtype for flights_df was datetime64[ns], while for weather_df it was datetime64[ns, UTC]. Removed the UTC timezone.\\n\""
      ]
     },
     "execution_count": 3,
     "metadata": {},
     "output_type": "execute_result"
    }
   ],
   "source": [
    "basic_directory = Path.cwd()                            # directory of the file - folder \"code\"\n",
    "data_directory = basic_directory.parent / \"data\"        # go one level up and choose folder \"data\"\n",
    "\n",
    "# It's a common convention to add a _df suffix to a variable name to indicate it's a DataFrame.\n",
    "flights_df  = pd.read_csv(data_directory / \"flights.csv\")\n",
    "airlines_df = pd.read_csv(data_directory / \"airlines.csv\")\n",
    "airports_df = pd.read_csv(data_directory / \"airports.csv\")\n",
    "planes_df   = pd.read_csv(data_directory / \"planes.csv\")\n",
    "weather_df  = pd.read_csv(data_directory / \"weather.csv\")\n",
    "\n",
    "# Convert to datetime\n",
    "flights_df['time_hour'] = pd.to_datetime(flights_df['time_hour'])\n",
    "weather_df['time_hour'] = pd.to_datetime(weather_df['time_hour'])\n",
    "\n",
    "# Remove timezone\n",
    "weather_df['time_hour'] = weather_df['time_hour'].dt.tz_localize(None)\n",
    "\n",
    "'''\n",
    "Convert the 'time_hour' column in flights_df and weather_df to datetime64[ns] type, as it was 'object'.\n",
    "This was necessary because a merge on date/time types was not possible otherwise.\n",
    "\n",
    "The dtype for flights_df was datetime64[ns], while for weather_df it was datetime64[ns, UTC]. Removed the UTC timezone.\n",
    "'''"
   ]
  },
  {
   "cell_type": "code",
   "execution_count": null,
   "id": "cc32cc05",
   "metadata": {},
   "outputs": [
    {
     "name": "stdout",
     "output_type": "stream",
     "text": [
      "                           name  count\n",
      "5      ExpressJet Airlines Inc.    143\n",
      "12        United Air Lines Inc.    131\n",
      "8               JetBlue Airways    121\n",
      "2          Delta Air Lines Inc.    113\n",
      "1        American Airlines Inc.     91\n",
      "4                     Envoy Air     65\n",
      "11              US Airways Inc.     50\n",
      "3             Endeavor Air Inc.     43\n",
      "10       Southwest Airlines Co.     27\n",
      "13               Virgin America     21\n",
      "0   AirTran Airways Corporation      8\n",
      "9            Mesa Airlines Inc.      3\n",
      "6        Frontier Airlines Inc.      1\n",
      "7        Hawaiian Airlines Inc.      1\n"
     ]
    }
   ],
   "source": [
    "# How many flights were there in the 5th month\n",
    "\n",
    "flights_in_may = airlines_df.merge(flights_df, on='carrier')\n",
    "flights_in_may = flights_in_may[flights_in_may[\"month\"] == 5]\n",
    "'''\n",
    "flights_in_may = flights_in_may[[\"name\", \"month\"]]  # выбор колонок - Оно типа надо, но на будущее\n",
    "Но в случае с группировкой .groupby(...).size().reset_index() выборка колонок делается автоматически: \n",
    "в результате остаются ключ группировки + агрегат.\n",
    "'''\n",
    "result = (\n",
    "    flights_in_may\n",
    "    .groupby('name')\n",
    "    .size()                         # Corresponds to COUNT(*)\n",
    "    .reset_index(name=\"count\")      # Convert the series to a DataFrame column\n",
    ")\n",
    "\n",
    "result = result.sort_values(\"count\", ascending=False)\n",
    "print(result)\n",
    "\n",
    "'''\n",
    "Original SQL: How many flights were there in the 5th month?\n",
    "\n",
    "SELECT DISTINCT al.name, COUNT(*)\n",
    "FROM airlines AS al \n",
    "INNER JOIN flights as fl\n",
    "USING(carrier)\n",
    "WHERE fl.month = 5\n",
    "GROUP BY al.name\n",
    "ORDER BY COUNT(*) DESC;\n",
    "'''"
   ]
  },
  {
   "cell_type": "code",
   "execution_count": null,
   "id": "ed6b9b01",
   "metadata": {},
   "outputs": [
    {
     "name": "stdout",
     "output_type": "stream",
     "text": [
      "                           name  not_delay\n",
      "9               JetBlue Airways        984\n",
      "3          Delta Air Lines Inc.        957\n",
      "14        United Air Lines Inc.        940\n",
      "6      ExpressJet Airlines Inc.        836\n",
      "2        American Airlines Inc.        627\n",
      "5                     Envoy Air        496\n",
      "13              US Airways Inc.        435\n",
      "4             Endeavor Air Inc.        296\n",
      "12       Southwest Airlines Co.        172\n",
      "15               Virgin America         87\n",
      "0   AirTran Airways Corporation         45\n",
      "1          Alaska Airlines Inc.         14\n",
      "7        Frontier Airlines Inc.         13\n",
      "10           Mesa Airlines Inc.         12\n",
      "8        Hawaiian Airlines Inc.         11\n",
      "11        SkyWest Airlines Inc.          1\n"
     ]
    }
   ],
   "source": [
    "# Which company has the fewest delays (dep_delay <= 0)\n",
    "\n",
    "minimal_delay = airlines_df.merge(flights_df, on='carrier')\n",
    "minimal_delay = minimal_delay[minimal_delay[\"dep_delay\"] <= 0]\n",
    "\n",
    "result = (\n",
    "    minimal_delay\n",
    "    .groupby('name')['dep_delay']\n",
    "    .count()                        # Corresponds to COUNT(dep_delay)\n",
    "    .reset_index(name='not_delay')  # Column name as in the SQL query\n",
    "    .sort_values('not_delay', ascending=False)\n",
    ")\n",
    "\n",
    "print(result)\n",
    "\n",
    "'''\n",
    "Original SQL: Which company has the fewest delays (dep_delay <= 0)\n",
    "\n",
    "SELECT al.name, COUNT(fl.dep_delay) AS not_delay\n",
    "FROM airlines AS al\n",
    "INNER JOIN flights as fl\n",
    "USING(carrier)\n",
    "WHERE dep_delay<=0\n",
    "GROUP BY al.name\n",
    "ORDER BY not_delay DESC;\n",
    "'''"
   ]
  },
  {
   "cell_type": "code",
   "execution_count": null,
   "id": "0ff03d21",
   "metadata": {},
   "outputs": [
    {
     "name": "stdout",
     "output_type": "stream",
     "text": [
      "name\n",
      "United Air Lines Inc.          1741\n",
      "ExpressJet Airlines Inc.       1643\n",
      "JetBlue Airways                1636\n",
      "Delta Air Lines Inc.           1425\n",
      "American Airlines Inc.          958\n",
      "Envoy Air                       769\n",
      "US Airways Inc.                 592\n",
      "Endeavor Air Inc.               521\n",
      "Southwest Airlines Co.          386\n",
      "Virgin America                  150\n",
      "AirTran Airways Corporation      97\n",
      "Alaska Airlines Inc.             23\n",
      "Frontier Airlines Inc.           23\n",
      "Mesa Airlines Inc.               20\n",
      "Hawaiian Airlines Inc.           15\n",
      "SkyWest Airlines Inc.             1\n",
      "dtype: int64\n"
     ]
    },
    {
     "data": {
      "text/plain": [
       "'\\nOriginal SQL: Counting all flights\\n\\nSELECT al.name, COUNT(*)\\nFROM airlines AS al\\nINNER JOIN flights as fl\\nUSING (carrier)\\nGROUP BY al.name\\nORDER BY COUNT(*) DESC\\n/* We found that the most on-time company has 984 non-delayed flights.\\nIt has a total of 1636 flights, meaning 60.15% of its flights are not delayed. */;\\n'"
      ]
     },
     "execution_count": 8,
     "metadata": {},
     "output_type": "execute_result"
    }
   ],
   "source": [
    "# Count the total number of flights for each airline.\n",
    "\n",
    "all_flights = airlines_df.merge(flights_df, on='carrier')\n",
    "\n",
    "result = (\n",
    "    all_flights\n",
    "    .groupby('name')\n",
    "    .size()\n",
    "    .sort_values(ascending=False)\n",
    ")\n",
    "\n",
    "print(result)\n",
    "\n",
    "'''\n",
    "Original SQL: Count the total number of flights for each airline\n",
    "\n",
    "SELECT al.name, COUNT(*)\n",
    "FROM airlines AS al\n",
    "INNER JOIN flights as fl\n",
    "USING (carrier)\n",
    "GROUP BY al.name\n",
    "ORDER BY COUNT(*) DESC\n",
    "/* We found that the most on-time company has 984 non-delayed flights.\n",
    "It has a total of 1636 flights, meaning 60.15% of its flights are not delayed. */;\n",
    "'''"
   ]
  },
  {
   "cell_type": "code",
   "execution_count": null,
   "id": "29f82973",
   "metadata": {},
   "outputs": [
    {
     "name": "stdout",
     "output_type": "stream",
     "text": [
      "    visib   avg_delay  number_of_flights\n",
      "19  10.00   36.826693               3012\n",
      "18   9.00   46.164474                152\n",
      "17   8.00   56.980198                101\n",
      "16   7.00   39.905660                106\n",
      "15   6.00   50.333333                 75\n",
      "14   5.00   62.370370                 81\n",
      "13   4.00   58.121951                 41\n",
      "12   3.00   48.816667                 60\n",
      "11   2.50   63.205128                 39\n",
      "10   2.00   38.913043                 46\n",
      "9    1.75  113.500000                  4\n",
      "8    1.50   69.971429                 35\n",
      "7    1.25   66.714286                  7\n",
      "6    1.00   56.947368                 19\n",
      "5    0.75   47.750000                  4\n",
      "4    0.50   58.611111                 18\n",
      "3    0.25   28.000000                 18\n",
      "2    0.12   98.666667                 12\n",
      "1    0.06   68.000000                  1\n",
      "0    0.00   52.800000                  5\n"
     ]
    },
    {
     "data": {
      "text/plain": [
       "'\\n-- Как погода влияла на опоздание. Чем меньше visib, тем хуже видно\\nSELECT we.visib, AVG(fl.dep_delay) AS avg_delay, COUNT(*) AS number_of_flights\\nFROM flights AS fl\\nINNER JOIN weather AS we \\nON fl.time_hour = we.time_hour AND fl.origin = we.origin\\nWHERE fl.dep_delay > 0\\nGROUP BY we.visib\\nORDER BY we.visib DESC\\n/* На удивление, корреляция арактически незаметна*/;\\n'"
      ]
     },
     "execution_count": 50,
     "metadata": {},
     "output_type": "execute_result"
    }
   ],
   "source": [
    "# How weather (visibility) affected delays\n",
    "\n",
    "weather_impact = flights_df.merge(weather_df, on=['time_hour', 'origin'])\n",
    "weather_impact = weather_impact[weather_impact['dep_delay']>0]\n",
    "\n",
    "\n",
    "result = (\n",
    "    weather_impact\n",
    "    .groupby('visib')\n",
    "    .agg(\n",
    "        avg_delay=('dep_delay', 'mean'),            # AVG(dep_delay)\n",
    "        number_of_flights=('dep_delay', 'count')    # COUNT(*)\n",
    "    )\n",
    "    .reset_index() \n",
    "    .sort_values('visib', ascending=False)\n",
    ")\n",
    "\n",
    "print(result)\n",
    "\n",
    "'''\n",
    "Original SQL: How weather affected delays. Lower 'visib' means worse visibility.\n",
    "\n",
    "SELECT we.visib, AVG(fl.dep_delay) AS avg_delay, COUNT(*) AS number_of_flights\n",
    "FROM flights AS fl\n",
    "INNER JOIN weather AS we \n",
    "ON fl.time_hour = we.time_hour AND fl.origin = we.origin\n",
    "WHERE fl.dep_delay > 0\n",
    "GROUP BY we.visib\n",
    "ORDER BY we.visib DESC\n",
    "/* Surprisingly, the correlation is barely noticeable*/;\n",
    "'''"
   ]
  },
  {
   "cell_type": "code",
   "execution_count": null,
   "id": "d3347cbf",
   "metadata": {},
   "outputs": [
    {
     "name": "stdout",
     "output_type": "stream",
     "text": [
      "                           name  year_y\n",
      "8        Hawaiian Airlines Inc.  2012.0\n",
      "11        SkyWest Airlines Inc.  2010.0\n",
      "1          Alaska Airlines Inc.  2009.0\n",
      "15               Virgin America  2009.0\n",
      "7        Frontier Airlines Inc.  2008.0\n",
      "9               JetBlue Airways  2007.0\n",
      "4             Endeavor Air Inc.  2006.0\n",
      "10           Mesa Airlines Inc.  2004.0\n",
      "13              US Airways Inc.  2004.0\n",
      "12       Southwest Airlines Co.  2004.0\n",
      "6      ExpressJet Airlines Inc.  2002.0\n",
      "0   AirTran Airways Corporation  2001.0\n",
      "14        United Air Lines Inc.  2000.0\n",
      "3          Delta Air Lines Inc.  1997.0\n",
      "2        American Airlines Inc.  1987.0\n",
      "5                     Envoy Air  1978.0\n"
     ]
    },
    {
     "data": {
      "text/plain": [
       "'\\nOriginal SQL: Average age of planes for each airline.\\n\\nSELECT al.name AS airline_name, ROUND(AVG(p.year), 0) AS avg_plane_age\\nFROM flights AS fl\\nINNER JOIN airlines AS al \\nON fl.carrier = al.carrier\\nINNER JOIN planes AS p \\nON fl.tailnum = p.tailnum\\nGROUP BY al.name\\nORDER BY avg_plane_age DESC;\\n'"
      ]
     },
     "execution_count": 14,
     "metadata": {},
     "output_type": "execute_result"
    }
   ],
   "source": [
    "# Average age of planes for each airline\n",
    "\n",
    "flights_with_airlines = flights_df.merge(airlines_df, on='carrier')\n",
    "flights_per_company = flights_with_airlines.merge(planes_df, on='tailnum')\n",
    "result = (\n",
    "    flights_per_company\n",
    "    .groupby('name')['year_y']  # 'year_y' is used as it's the manufacturing year of the plane.\n",
    "    .mean()                     # The flights_df also has a 'year' column for the flight's year.\n",
    "    .round(0)                   # Rounds the average year.\n",
    "    .reset_index()\n",
    "    .sort_values('year_y', ascending=False)\n",
    ")\n",
    "\n",
    "print(result)\n",
    "\n",
    "'''\n",
    "Original SQL: Average age of planes for each airline.\n",
    "\n",
    "SELECT al.name AS airline_name, ROUND(AVG(p.year), 0) AS avg_plane_age\n",
    "FROM flights AS fl\n",
    "INNER JOIN airlines AS al \n",
    "ON fl.carrier = al.carrier\n",
    "INNER JOIN planes AS p \n",
    "ON fl.tailnum = p.tailnum\n",
    "GROUP BY al.name\n",
    "ORDER BY avg_plane_age DESC;\n",
    "'''"
   ]
  }
 ],
 "metadata": {
  "kernelspec": {
   "display_name": "Python 3",
   "language": "python",
   "name": "python3"
  },
  "language_info": {
   "codemirror_mode": {
    "name": "ipython",
    "version": 3
   },
   "file_extension": ".py",
   "mimetype": "text/x-python",
   "name": "python",
   "nbconvert_exporter": "python",
   "pygments_lexer": "ipython3",
   "version": "3.12.5"
  }
 },
 "nbformat": 4,
 "nbformat_minor": 5
}
