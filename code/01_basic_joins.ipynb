{
 "cells": [
  {
   "cell_type": "code",
   "execution_count": 1,
   "id": "bfae398e",
   "metadata": {},
   "outputs": [],
   "source": [
    "import pandas as pd\n",
    "from pathlib import Path"
   ]
  },
  {
   "cell_type": "code",
   "execution_count": null,
   "id": "f259f119",
   "metadata": {},
   "outputs": [
    {
     "data": {
      "text/plain": [
       "\"\\nConvert the 'time_hour' column in flights_df and weather_df to datetime64[ns] type, as it was 'object'.\\nThis was necessary because a merge on date/time types was not possible otherwise.\\n\\nThe dtype for flights_df was datetime64[ns], while for weather_df it was datetime64[ns, UTC]. Removed the UTC timezone.\\n\""
      ]
     },
     "execution_count": 2,
     "metadata": {},
     "output_type": "execute_result"
    }
   ],
   "source": [
    "basic_directory = Path.cwd()                            # directory of the file - folder \"code\"\n",
    "data_directory = basic_directory.parent / \"data\"        # go one level up and choose folder \"data\"\n",
    "\n",
    "# It's a common convention to add a _df suffix to a variable name to indicate it's a DataFrame.\n",
    "flights_df  = pd.read_csv(data_directory / \"flights.csv\")\n",
    "airlines_df = pd.read_csv(data_directory / \"airlines.csv\")\n",
    "airports_df = pd.read_csv(data_directory / \"airports.csv\")\n",
    "planes_df   = pd.read_csv(data_directory / \"planes.csv\")\n",
    "weather_df  = pd.read_csv(data_directory / \"weather.csv\")\n",
    "\n",
    "# Convert to datetime++\n",
    "flights_df['time_hour'] = pd.to_datetime(flights_df['time_hour'])\n",
    "weather_df['time_hour'] = pd.to_datetime(weather_df['time_hour'])\n",
    "\n",
    "# Remove timezone\n",
    "weather_df['time_hour'] = weather_df['time_hour'].dt.tz_localize(None)\n",
    "\n",
    "'''\n",
    "Convert the 'time_hour' column in flights_df and weather_df to datetime64[ns] type, as it was 'object'.\n",
    "This was necessary because a merge on date/time types was not possible otherwise.\n",
    "\n",
    "The dtype for flights_df was datetime64[ns], while for weather_df it was datetime64[ns, UTC]. Removed the UTC timezone.\n",
    "'''"
   ]
  },
  {
   "cell_type": "code",
   "execution_count": 6,
   "id": "cc32cc05",
   "metadata": {},
   "outputs": [
    {
     "name": "stdout",
     "output_type": "stream",
     "text": [
      "                           name  count\n",
      "5      ExpressJet Airlines Inc.    143\n",
      "12        United Air Lines Inc.    131\n",
      "8               JetBlue Airways    121\n",
      "2          Delta Air Lines Inc.    113\n",
      "1        American Airlines Inc.     91\n",
      "4                     Envoy Air     65\n",
      "11              US Airways Inc.     50\n",
      "3             Endeavor Air Inc.     43\n",
      "10       Southwest Airlines Co.     27\n",
      "13               Virgin America     21\n",
      "0   AirTran Airways Corporation      8\n",
      "9            Mesa Airlines Inc.      3\n",
      "6        Frontier Airlines Inc.      1\n",
      "7        Hawaiian Airlines Inc.      1\n"
     ]
    }
   ],
   "source": [
    "# How many flights were there in the 5th month\n",
    "\n",
    "flights_in_may = airlines_df.merge(flights_df, on='carrier')\n",
    "flights_in_may = flights_in_may[flights_in_may[\"month\"]==5]\n",
    "'''\n",
    "flights_in_may = flights_in_may[[\"name\", \"month\"]]  # выбор колонок - Оно типа надо, но на будущее\n",
    "Но в случае с группировкой .groupby(...).size().reset_index() выборка колонок делается автоматически: \n",
    "в результате остаются ключ группировки + агрегат.\n",
    "'''\n",
    "result = (\n",
    "    flights_in_may\n",
    "    .groupby('name')\n",
    "    .size()                         # Corresponds to COUNT(*)\n",
    "    .reset_index(name=\"count\")      # Convert the series to a DataFrame column\n",
    "    .sort_values('count', ascending=False)\n",
    ")\n",
    "\n",
    "print(result)"
   ]
  },
  {
   "cell_type": "markdown",
   "id": "3e5ccbd7",
   "metadata": {},
   "source": [
    "**Key Finding:**  \n",
    "ExpressJet Airlines Inc. had the most flights in May (143), with United Air Lines Inc. (131) and JetBlue Airways (121) close behind."
   ]
  },
  {
   "cell_type": "code",
   "execution_count": 5,
   "id": "ed6b9b01",
   "metadata": {},
   "outputs": [
    {
     "name": "stdout",
     "output_type": "stream",
     "text": [
      "                           name  not_delay\n",
      "13        United Air Lines Inc.       1051\n",
      "3          Delta Air Lines Inc.        925\n",
      "9               JetBlue Airways        887\n",
      "6      ExpressJet Airlines Inc.        800\n",
      "2        American Airlines Inc.        630\n",
      "5                     Envoy Air        375\n",
      "12              US Airways Inc.        364\n",
      "4             Endeavor Air Inc.        281\n",
      "11       Southwest Airlines Co.        197\n",
      "14               Virgin America        104\n",
      "0   AirTran Airways Corporation         26\n",
      "1          Alaska Airlines Inc.         18\n",
      "10           Mesa Airlines Inc.         14\n",
      "8        Hawaiian Airlines Inc.         12\n",
      "7        Frontier Airlines Inc.         10\n"
     ]
    }
   ],
   "source": [
    "# Which company has the fewest delays (arr_delay <= 0)\n",
    "\n",
    "minimal_delay = airlines_df.merge(flights_df, on='carrier')\n",
    "minimal_delay = minimal_delay[minimal_delay[\"arr_delay\"] <= 0]\n",
    "\n",
    "result = (\n",
    "    minimal_delay\n",
    "    .groupby('name')['arr_delay']\n",
    "    .count()                        # Corresponds to COUNT(dep_delay)\n",
    "    .reset_index(name='not_delay')  # Column name as in the SQL query\n",
    "    .sort_values('not_delay', ascending=False)\n",
    ")\n",
    "\n",
    "print(result)"
   ]
  },
  {
   "cell_type": "markdown",
   "id": "76b9eb42",
   "metadata": {},
   "source": [
    "**Key Finding:**  \n",
    "United Air Lines Inc. leads in absolute numbers (1,051), followed by Delta Air Lines Inc. (925)"
   ]
  },
  {
   "cell_type": "code",
   "execution_count": 25,
   "id": "0ff03d21",
   "metadata": {},
   "outputs": [
    {
     "name": "stdout",
     "output_type": "stream",
     "text": [
      "name\n",
      "United Air Lines Inc.          1741\n",
      "ExpressJet Airlines Inc.       1643\n",
      "JetBlue Airways                1636\n",
      "Delta Air Lines Inc.           1425\n",
      "American Airlines Inc.          958\n",
      "Envoy Air                       769\n",
      "US Airways Inc.                 592\n",
      "Endeavor Air Inc.               521\n",
      "Southwest Airlines Co.          386\n",
      "Virgin America                  150\n",
      "AirTran Airways Corporation      97\n",
      "Alaska Airlines Inc.             23\n",
      "Frontier Airlines Inc.           23\n",
      "Mesa Airlines Inc.               20\n",
      "Hawaiian Airlines Inc.           15\n",
      "SkyWest Airlines Inc.             1\n",
      "dtype: int64\n"
     ]
    },
    {
     "data": {
      "text/plain": [
       "\"\\n# DataFrame\\n\\nall_flights = (\\n    all_flights\\n    .groupby('name')\\n    .size()\\n    .reset_index(name='num_flights')    # converts Series to DataFrame and names the column \\n    .sort_values('num_flights', ascending=False)\\n)\\n\""
      ]
     },
     "execution_count": 25,
     "metadata": {},
     "output_type": "execute_result"
    }
   ],
   "source": [
    "# Count the total number of flights for each airline.\n",
    "# Series\n",
    "all_flights = airlines_df.merge(flights_df, on='carrier')\n",
    "\n",
    "result = (\n",
    "    all_flights\n",
    "    .groupby('name')\n",
    "    .size()\n",
    "    .sort_values(ascending=False)\n",
    ")\n",
    "\n",
    "print(result)\n",
    "\n",
    "'''\n",
    "# DataFrame\n",
    "\n",
    "all_flights = (\n",
    "    all_flights\n",
    "    .groupby('name')\n",
    "    .size()\n",
    "    .reset_index(name='num_flights')    # converts Series to DataFrame and names the column \n",
    "    .sort_values('num_flights', ascending=False)\n",
    ")\n",
    "'''"
   ]
  },
  {
   "cell_type": "markdown",
   "id": "ae4c1fb2",
   "metadata": {},
   "source": [
    "**Key Finding:**  \n",
    "United Air Lines Inc. is the most active carrier with 1,741 flights, followed by ExpressJet Airlines Inc. (1,643) and JetBlue Airways (1,636)\n",
    "\n",
    "**Insight:**  \n",
    "Throughout the year, the Top 3 are almost equal (the difference is 6.4%), which indicates balanced competition rather than a monopoly"
   ]
  },
  {
   "cell_type": "code",
   "execution_count": 7,
   "id": "29f82973",
   "metadata": {},
   "outputs": [
    {
     "name": "stdout",
     "output_type": "stream",
     "text": [
      "    visib   avg_delay  number_of_flights\n",
      "19  10.00   36.826693               3012\n",
      "18   9.00   46.164474                152\n",
      "17   8.00   56.980198                101\n",
      "16   7.00   39.905660                106\n",
      "15   6.00   50.333333                 75\n",
      "14   5.00   62.370370                 81\n",
      "13   4.00   58.121951                 41\n",
      "12   3.00   48.816667                 60\n",
      "11   2.50   63.205128                 39\n",
      "10   2.00   38.913043                 46\n",
      "9    1.75  113.500000                  4\n",
      "8    1.50   69.971429                 35\n",
      "7    1.25   66.714286                  7\n",
      "6    1.00   56.947368                 19\n",
      "5    0.75   47.750000                  4\n",
      "4    0.50   58.611111                 18\n",
      "3    0.25   28.000000                 18\n",
      "2    0.12   98.666667                 12\n",
      "1    0.06   68.000000                  1\n",
      "0    0.00   52.800000                  5\n"
     ]
    }
   ],
   "source": [
    "# How weather affected delays. Lower 'visib' means worse visibility\n",
    "\n",
    "weather_impact = flights_df.merge(weather_df, on=['time_hour', 'origin'])\n",
    "weather_impact = weather_impact[weather_impact['dep_delay']>0]\n",
    "\n",
    "result = (\n",
    "    weather_impact\n",
    "    .groupby('visib')\n",
    "    .agg(\n",
    "        avg_delay=('dep_delay', 'mean'),            # AVG(dep_delay)\n",
    "        number_of_flights=('dep_delay', 'count')    # COUNT(*)\n",
    "    )\n",
    "    .reset_index() \n",
    "    .sort_values('visib', ascending=False)\n",
    ")\n",
    "\n",
    "print(result)\n",
    "\n",
    "# Surprisingly, the correlation is barely noticeable*/;"
   ]
  },
  {
   "cell_type": "markdown",
   "id": "aa216c54",
   "metadata": {},
   "source": [
    "**Key Finding:**  \n",
    "The data shows a weak correlation. Surprisingly, the highest average delay (113.50 min) occurs at a relatively good visibility of 9 miles, which means delays are caused by factors other than just visibility"
   ]
  },
  {
   "cell_type": "code",
   "execution_count": null,
   "id": "d3347cbf",
   "metadata": {},
   "outputs": [
    {
     "name": "stdout",
     "output_type": "stream",
     "text": [
      "                           name  year_y\n",
      "8        Hawaiian Airlines Inc.  2012.0\n",
      "11        SkyWest Airlines Inc.  2010.0\n",
      "1          Alaska Airlines Inc.  2009.0\n",
      "15               Virgin America  2009.0\n",
      "7        Frontier Airlines Inc.  2008.0\n",
      "9               JetBlue Airways  2007.0\n",
      "4             Endeavor Air Inc.  2006.0\n",
      "10           Mesa Airlines Inc.  2004.0\n",
      "13              US Airways Inc.  2004.0\n",
      "12       Southwest Airlines Co.  2004.0\n",
      "6      ExpressJet Airlines Inc.  2002.0\n",
      "0   AirTran Airways Corporation  2001.0\n",
      "14        United Air Lines Inc.  2000.0\n",
      "3          Delta Air Lines Inc.  1997.0\n",
      "2        American Airlines Inc.  1987.0\n",
      "5                     Envoy Air  1978.0\n"
     ]
    },
    {
     "data": {
      "image/png": "[encoded data removed]",
      "text/plain": [
       "<Figure size 500x300 with 1 Axes>"
      ]
     },
     "metadata": {},
     "output_type": "display_data"
    }
   ],
   "source": [
    "# Average age of planes for each airline\n",
    "\n",
    "flights_with_airlines = flights_df.merge(airlines_df, on='carrier')\n",
    "flights_per_company = flights_with_airlines.merge(planes_df, on='tailnum')\n",
    "avg_age = (\n",
    "    flights_per_company\n",
    "    .groupby('name')['year_y']  # 'year_y' is used as the manufacturing year of the plane.\n",
    "    .mean()                     # The flights_df also has a 'year' column for the flight's year.\n",
    "    .round(0)                   # Rounds the average year.\n",
    "    .reset_index()\n",
    "    .sort_values('year_y', ascending=False)\n",
    ")\n",
    "\n",
    "all_flights = airlines_df.merge(flights_df, on='carrier')\n",
    "\n",
    "# Series without column name\n",
    "all_flights = (\n",
    "    all_flights\n",
    "    .groupby('name')\n",
    "    .size()\n",
    "    .reset_index(name='num_flights')    # converts Series to DataFrame and names the column \n",
    "    .sort_values('num_flights', ascending=False)\n",
    ")\n",
    "\n",
    "combined = avg_age.merge(all_flights, on='name', how='inner')\n",
    "\n",
    "combined.plot.scatter(\n",
    "    x='year_y',\n",
    "    y='num_flights',\n",
    "    title='Average Plane Year vs Number of Flights',\n",
    "    xlabel='Average manufacturing year of planes',\n",
    "    ylabel='Number of flights',\n",
    "    figsize=(5, 3)\n",
    ")\n",
    "\n",
    "\n",
    "print(avg_age)"
   ]
  },
  {
   "cell_type": "markdown",
   "id": "28afa2ea",
   "metadata": {},
   "source": [
    "**Description:**\n",
    "The first part (avg_age) of the code shows the average age of aircraft in each company. The top three companies in terms of number of flights were not among the top in terms of average age. I decided to create a visualization to see the number of flights per company and the average age of aircraft together.\n",
    "\n",
    "**Key Finding:**  \n",
    "The visualization shows that the newest aircraft belong to companies with the lowest number of flights. This most likely indicates that these companies are young (as of 2013, when the statistics were compiled)."
   ]
  }
 ],
 "metadata": {
  "kernelspec": {
   "display_name": "Python 3",
   "language": "python",
   "name": "python3"
  },
  "language_info": {
   "codemirror_mode": {
    "name": "ipython",
    "version": 3
   },
   "file_extension": ".py",
   "mimetype": "text/x-python",
   "name": "python",
   "nbconvert_exporter": "python",
   "pygments_lexer": "ipython3",
   "version": "3.12.5"
  }
 },
 "nbformat": 4,
 "nbformat_minor": 5
}
