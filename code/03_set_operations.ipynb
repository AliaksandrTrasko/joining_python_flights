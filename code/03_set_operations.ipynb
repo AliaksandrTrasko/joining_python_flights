{
 "cells": [
  {
   "cell_type": "code",
   "execution_count": 1,
   "id": "cbed1d78",
   "metadata": {},
   "outputs": [],
   "source": [
    "import pandas as pd\n",
    "import numpy as np\n",
    "from pathlib import Path"
   ]
  },
  {
   "cell_type": "code",
   "execution_count": 2,
   "id": "ec65adec",
   "metadata": {},
   "outputs": [
    {
     "data": {
      "text/plain": [
       "\"\\nConvert the 'time_hour' column in flights_df and weather_df to datetime64[ns] type, as it was 'object'.\\nThis was necessary because a merge on date/time types was not possible otherwise.\\n\\nThe dtype for flights_df was datetime64[ns], while for weather_df it was datetime64[ns, UTC]. Removed the UTC timezone.\\n\""
      ]
     },
     "execution_count": 2,
     "metadata": {},
     "output_type": "execute_result"
    }
   ],
   "source": [
    "basic_directory = Path.cwd()                            # directory of the file - folder \"code\"\n",
    "data_directory = basic_directory.parent / \"data\"        # go one level up and choose folder \"data\"\n",
    "\n",
    "# It's a common convention to add a _df suffix to a variable name to indicate it's a DataFrame.\n",
    "flights_df  = pd.read_csv(data_directory / \"flights.csv\")\n",
    "airlines_df = pd.read_csv(data_directory / \"airlines.csv\")\n",
    "airports_df = pd.read_csv(data_directory / \"airports.csv\")\n",
    "planes_df   = pd.read_csv(data_directory / \"planes.csv\")\n",
    "weather_df  = pd.read_csv(data_directory / \"weather.csv\")\n",
    "\n",
    "# Convert to datetime\n",
    "flights_df['time_hour'] = pd.to_datetime(flights_df['time_hour'])\n",
    "weather_df['time_hour'] = pd.to_datetime(weather_df['time_hour'])\n",
    "\n",
    "# Remove timezone\n",
    "weather_df['time_hour'] = weather_df['time_hour'].dt.tz_localize(None)\n",
    "\n",
    "'''\n",
    "Convert the 'time_hour' column in flights_df and weather_df to datetime64[ns] type, as it was 'object'.\n",
    "This was necessary because a merge on date/time types was not possible otherwise.\n",
    "\n",
    "The dtype for flights_df was datetime64[ns], while for weather_df it was datetime64[ns, UTC]. Removed the UTC timezone.\n",
    "'''"
   ]
  },
  {
   "cell_type": "code",
   "execution_count": null,
   "id": "6744d7da",
   "metadata": {},
   "outputs": [
    {
     "name": "stdout",
     "output_type": "stream",
     "text": [
      "                             name         entity_type\n",
      "0               Endeavor Air Inc.      airlines_vowel\n",
      "1          American Airlines Inc.      airlines_vowel\n",
      "2            Alaska Airlines Inc.      airlines_vowel\n",
      "3                 JetBlue Airways  airlines_consonant\n",
      "4            Delta Air Lines Inc.  airlines_consonant\n",
      "5        ExpressJet Airlines Inc.      airlines_vowel\n",
      "6          Frontier Airlines Inc.  airlines_consonant\n",
      "7     AirTran Airways Corporation      airlines_vowel\n",
      "8          Hawaiian Airlines Inc.  airlines_consonant\n",
      "9                       Envoy Air      airlines_vowel\n",
      "10          SkyWest Airlines Inc.  airlines_consonant\n",
      "11          United Air Lines Inc.      airlines_vowel\n",
      "12                US Airways Inc.      airlines_vowel\n",
      "13                 Virgin America  airlines_consonant\n",
      "14         Southwest Airlines Co.  airlines_consonant\n",
      "15              Lansdowne Airport            airports\n",
      "16  Moton Field Municipal Airport            airports\n",
      "17            Schaumburg Regional            airports\n",
      "18                Randall Airport            airports\n",
      "19          Jekyll Island Airport            airports\n",
      "20                        EMBRAER        manufacturer\n",
      "21               AIRBUS INDUSTRIE        manufacturer\n",
      "22               AIRBUS INDUSTRIE        manufacturer\n",
      "23               AIRBUS INDUSTRIE        manufacturer\n",
      "24                        EMBRAER        manufacturer\n",
      "(25, 2)\n"
     ]
    }
   ],
   "source": [
    "# Airlines with CASE logic\n",
    "\n",
    "airlines_part = (\n",
    "    airlines_df[['name']]\n",
    "    .head(15)\n",
    "    .assign(\n",
    "        entity_type=lambda df: np.where(\n",
    "            df['name'].str[0].str.upper().isin(['A','E','I','O','U']),  # .str[0] - takes the first letter of each airline name\n",
    "            'airlines_vowel',                                           # .str.upper() - capitalizes this letter (so that \"A\" and \"a\" are not different)\n",
    "            'airlines_consonant'                                        # .isin([‘A’,'E',‘I’,'O',‘U’]) - checks whether the word begins with a vowel\n",
    "        )\n",
    "    )\n",
    ")\n",
    "\n",
    "airports_part = (\n",
    "    airports_df[['name']]\n",
    "    .head(5)\n",
    "    .assign(entity_type='airports')\n",
    ")\n",
    "\n",
    "planes_part = (\n",
    "    planes_df[['manufacturer']]\n",
    "    .head(5)\n",
    "    .rename(columns={'manufacturer':'name'})    # Renamed 'manufacturer' to 'name' so that all DataFrames have a common column for names\n",
    "    .assign(entity_type='manufacturer')\n",
    ")\n",
    "\n",
    "union_all = pd.concat([airlines_part, airports_part, planes_part], ignore_index=True)\n",
    "print(union_all)\n",
    "print(union_all.shape)"
   ]
  },
  {
   "cell_type": "code",
   "execution_count": 11,
   "id": "3569063e",
   "metadata": {},
   "outputs": [
    {
     "name": "stdout",
     "output_type": "stream",
     "text": [
      "['B6' 'AA' 'UA' 'DL' '9E' 'US' 'MQ' 'EV']\n",
      "8\n"
     ]
    },
    {
     "data": {
      "text/plain": [
       "'\\n# An alternative to .isin, which is more convenient here.\\n\\njfk = set(flights_df.loc[flights_df[\"origin\"]==\"JFK\", \"carrier\"])\\nlga = set(flights_df.loc[flights_df[\"origin\"]==\"LGA\", \"carrier\"])\\newr = set(flights_df.loc[flights_df[\"origin\"]==\"EWR\", \"carrier\"])\\n\\n# The intersection of three sets\\nintersect_carriers = jfk & lga & ewr\\nprint(intersect_carriers)\\n\\n'"
      ]
     },
     "execution_count": 11,
     "metadata": {},
     "output_type": "execute_result"
    }
   ],
   "source": [
    "# Airlines that fly from all three NYC airports\n",
    "\n",
    "intersect = flights_df.loc[flights_df[\"origin\"]==\"JFK\", \"carrier\"] \\\n",
    "    .isin(flights_df.loc[flights_df[\"origin\"]==\"LGA\", \"carrier\"]) \\\n",
    "    & flights_df.loc[flights_df[\"origin\"]==\"JFK\", \"carrier\"] \\\n",
    "    .isin(flights_df.loc[flights_df[\"origin\"]==\"EWR\", \"carrier\"])\n",
    "\n",
    "result = flights_df.loc[flights_df[\"origin\"]==\"JFK\", \"carrier\"][intersect].unique()\n",
    "\n",
    "print(result)\n",
    "print(len(result))\n",
    "\n",
    "# flights_df.loc[flights_df[\"origin\"]==\"JFK\", \"carrier\"] - takes the \"carrier\" column from rows where [\"origin\"]==\"JFK\"\n",
    "# .isin(flights_df.loc[flights_df[\"origin\"]==\"LGA\", \"carrier\"]) - returns a True/False array where \"carrier\" from [\"origin\"]==\"JFK\" also appears among [\"origin\"]==\"LGA\"\n",
    "# Repeated once more, but with \"JFK\" and \"EWR\"\n",
    "\n",
    "# flights_df.loc[flights_df[\"origin\"]==\"JFK\", \"carrier\"][intersect].unique()\n",
    "# Again, takes the carriers from JFK\n",
    "# [intersect] - filters only the rows where intersect == True\n",
    "# .unique() - returns the unique carrier values (it is used to avoid repeating the airline names multiple times)\n",
    "\n",
    "'''\n",
    "# flights_df[\"origin\"]==\"JFK\" - creates a boolean array (True/False) for all values in 'origin'. True if \"JFK\".\n",
    "# flights_df.loc[...] - selects only those rows where flights_df[\"origin\"]==\"JFK\" is True.\n",
    "# ..., \"carrier\"] - returns only the \"carrier\" column from the selection.\n",
    "\n",
    "# .isin() checks if a value is present in another list (e.g., if a carrier from JFK is also in LGA).\n",
    "\n",
    "# .unique() is used to avoid repeating the airline names multiple times.\n",
    "'''\n",
    "\n",
    "'''\n",
    "# An alternative to .isin, which is more convenient here.\n",
    "\n",
    "jfk = set(flights_df.loc[flights_df[\"origin\"]==\"JFK\", \"carrier\"])\n",
    "lga = set(flights_df.loc[flights_df[\"origin\"]==\"LGA\", \"carrier\"])\n",
    "ewr = set(flights_df.loc[flights_df[\"origin\"]==\"EWR\", \"carrier\"])\n",
    "\n",
    "# The intersection of three sets\n",
    "intersect_carriers = jfk & lga & ewr\n",
    "print(intersect_carriers)\n",
    "\n",
    "'''\n"
   ]
  },
  {
   "cell_type": "markdown",
   "id": "0d55da45",
   "metadata": {},
   "source": [
    "**Key Finding:** \n",
    "Only 8 of the 16 airlines listed in the database operate flights from all three major New York airports. \n",
    "This suggests that operating from all three major New York airports is relatively uncommon among airlines"
   ]
  },
  {
   "cell_type": "code",
   "execution_count": 7,
   "id": "3c632f5f",
   "metadata": {},
   "outputs": [
    {
     "name": "stdout",
     "output_type": "stream",
     "text": [
      "{'MIA', 'FLL', 'LAX', 'BOS', 'MCO', 'SFO', 'AUS', 'PBI', 'STT', 'SEA', 'TPA', 'SAN', 'LAS', 'SJU'}\n",
      "['BOS' 'SJU' 'MIA' 'SFO' 'LAX' 'STT' 'MCO' 'AUS' 'LAS' 'SEA' 'SAN' 'FLL'\n",
      " 'TPA' 'PBI']\n",
      "True\n"
     ]
    }
   ],
   "source": [
    "# Destinations served by both American Airlines and Delta\n",
    "\n",
    "aa_dests = set(flights_df.loc[flights_df['carrier']==\"AA\", \"dest\"])\n",
    "dl_dests = set(flights_df.loc[flights_df['carrier']==\"DL\", \"dest\"])\n",
    "intersect = aa_dests & dl_dests\n",
    "print(intersect)\n",
    "# The data type is set, shown with {} brackets\n",
    "# Arbitrary output order\n",
    "\n",
    "intersect1 = flights_df.loc[flights_df['carrier']==\"AA\", \"dest\"] \\\n",
    "            .isin(flights_df.loc[flights_df['carrier']==\"DL\", \"dest\"])\n",
    "intersect1 = flights_df.loc[flights_df['carrier']==\"AA\", \"dest\"][intersect1].unique()\n",
    "print(intersect1)\n",
    "# The data type is numpy.ndarray, shown with [] brackets\n",
    "# Keeps the order of the source data\n",
    "\n",
    "print(set(intersect1) == intersect)\n",
    "# Different ordering rules (set() -- arbitrary order, .unique() -- original order)\n",
    "# The values are identical - only the display order changes"
   ]
  },
  {
   "cell_type": "markdown",
   "id": "79f66476",
   "metadata": {},
   "source": [
    "**Key Finding**: \n",
    "American Airlines (AA) and Delta Air Lines (DL) serve 14 common destinations\n",
    "\n",
    "**Insight**:\n",
    "This significant route overlap between two major airlines indicates intense competition on popular routes including transcontinental (LAX, SFO, SEA) and Florida (MIA, FLL, MCO) markets"
   ]
  },
  {
   "cell_type": "code",
   "execution_count": 21,
   "id": "df0d4c4f",
   "metadata": {},
   "outputs": [
    {
     "name": "stdout",
     "output_type": "stream",
     "text": [
      "99\n",
      "{'TYS', 'DFW', 'JAX', 'CHO', 'SAV', 'JAC', 'ORD', 'ANC', 'IAH', 'ALB', 'MHT', 'GSP', 'RSW', 'CLE', 'GRR', 'SJC', 'MVY', 'CVG', 'BDL', 'SNA', 'DTW', 'EYW', 'PHX', 'ACK', 'LAS', 'IAD', 'SJU', 'SLC', 'PSE', 'MKE', 'AUS', 'CAE', 'EGE', 'TVC', 'MIA', 'CRW', 'XNA', 'BOS', 'ATL', 'TUL', 'MCI', 'MDW', 'BHM', 'STL', 'GSO', 'ILM', 'MEM', 'BTV', 'PDX', 'PHL', 'MSN', 'CHS', 'BQN', 'HNL', 'PVD', 'FLL', 'LAX', 'PIT', 'ORF', 'SMF', 'MSY', 'DCA', 'BUR', 'OMA', 'OKC', 'PWM', 'DAY', 'HOU', 'AVL', 'PBI', 'SEA', 'CMH', 'BZN', 'SAN', 'SDF', 'OAK', 'LGB', 'MYR', 'CLT', 'BGR', 'MCO', 'RDU', 'MSP', 'TPA', 'BWI', 'DSM', 'STT', 'SAT', 'SRQ', 'BUF', 'SYR', 'IND', 'SFO', 'DEN', 'BNA', 'CAK', 'RIC', 'ROC', 'ABQ'}\n"
     ]
    },
    {
     "data": {
      "text/plain": [
       "'\\nSELECT dest\\nFROM flights\\nEXCEPT\\nSELECT origin\\nFROM flights;\\n'"
      ]
     },
     "execution_count": 21,
     "metadata": {},
     "output_type": "execute_result"
    }
   ],
   "source": [
    "#EXCEPT\n",
    "# Which airports are arrival destinations but never departure origins?\n",
    "\n",
    "dest_set = set(flights_df['dest'])\n",
    "origin_set = set(flights_df['origin'])\n",
    "\n",
    "result = dest_set - origin_set\n",
    "\n",
    "print(len(result))\n",
    "print(result)\n",
    "'''\n",
    "SELECT dest\n",
    "FROM flights\n",
    "EXCEPT\n",
    "SELECT origin\n",
    "FROM flights;\n",
    "'''"
   ]
  },
  {
   "cell_type": "code",
   "execution_count": 26,
   "id": "41e8e955",
   "metadata": {},
   "outputs": [
    {
     "name": "stdout",
     "output_type": "stream",
     "text": [
      "{'JFK', 'EWR', 'LGA'}\n"
     ]
    }
   ],
   "source": [
    "# Which airports are departure origins but never arrival destinations?\n",
    "\n",
    "dest_set = set(flights_df['dest'])\n",
    "origin_set = set(flights_df['origin'])\n",
    "\n",
    "result = origin_set - dest_set\n",
    "print(result)\n",
    "# So it means all flights are from NYC to other US cities"
   ]
  },
  {
   "cell_type": "markdown",
   "id": "f2390f68",
   "metadata": {},
   "source": [
    "**Key Finding:**\n",
    "This shows that the database being analyzed collected flight statistics only from three New York airports (3) to other US airports (99)   "
   ]
  },
  {
   "cell_type": "code",
   "execution_count": 11,
   "id": "7b950830",
   "metadata": {},
   "outputs": [
    {
     "name": "stdout",
     "output_type": "stream",
     "text": [
      "998 aircraft have never flown\n",
      "{'N516LR', 'N198UW', 'N828MH', 'N956DN', 'N937AT', 'N704US', 'N506MJ', 'N8602F', 'N657UA', 'N940UW', 'N646DL', 'N193DN', 'N766SK', 'N512SW', 'N630VA', 'N289CT', 'N153DL', 'N8612K', 'N673UA', 'N618AA', 'N347AA', 'N941FR', 'N643SW', 'N510SW', 'N906DA', 'N360AA', 'N772SK', 'N361VA', 'N550NW', 'N647SW', 'N585AS', 'N453WN', 'N966AT', 'N740SK', 'N642WN', 'N623SW', 'N121UW', 'N371SW', 'N551AA', 'N632AW', 'N8308K', 'N631AW', 'N700UW', 'N562AS', 'N242WN', 'N543US', 'N726SK', 'N571UW', 'N8837B', 'N505MJ', 'N245AY', 'N121DE', 'N453UW', 'N523SW', 'N547UA', 'N628SW', 'N326AT', 'N717SA', 'N8888D', 'N694DL', 'N650SW', 'N622AW', 'N536AA', 'N388SW', 'N978SW', 'N746SW', 'N415WN', 'N559AS', 'N613DL', 'N565AS', 'N638SW', 'N64809', 'N764SW', 'N201LV', 'N693CA', 'N403AS', 'N302AS', 'N441WN', 'N757AT', 'N525AS', 'N825MH', 'N368SW', 'N907JB', 'N215WN', 'N372AA', 'N955AT', 'N914FJ', 'N430WN', 'N917WN', 'N449US', 'N842MH', 'N762SK', 'N8944B', 'N249WN', 'N401WN', 'N345NW', 'N478WN', 'N288WN', 'N230WN', 'N558AA', 'N922EV', 'N371NW', 'N531AS', 'N725SW', 'N668DN', 'N346SW', 'N642AA', 'N8515F', 'N993AT', 'N970AT', 'N8314L', 'N819AW', 'N331NB', 'N666UA', 'N844MH', 'N625AA', 'N434US', 'N908FJ', 'N846AS', 'N979AT', 'N674UA', 'N57863', 'N566AS', 'N683BR', 'N636WN', 'N241WN', 'N450UW', 'N12167', 'N637SW', 'N965DN', 'N641SW', 'N994AT', 'N903WN', 'N364SW', 'N175DZ', 'N828UA', 'N932DN', 'N569UW', 'N244WN', 'N221FR', 'N306AS', 'N416WN', 'N7744A', 'N367SW', 'N646UA', 'N422WN', 'N930AT', 'N391SW', 'N445WN', 'N438US', 'N396SW', 'N648SW', 'N8688C', 'N839MH', 'N169AT', 'N515MJ', 'N7738A', 'N27205', 'N773SA', 'N534AS', 'N938LR', 'N601WN', 'N240AT', 'N911DA', 'N181DN', 'N587NW', 'N437WN', 'N602SW', 'N521US', 'N103US', 'N560AA', 'N465WN', 'N843MH', 'N871AS', 'N956LR', 'N6713Y', 'N953WN', 'N509MJ', 'N485WN', 'N123UW', 'N522SW', 'N1611B', 'N671UA', 'N398AA', 'N948WN', 'N656UA', 'N265WN', 'N570AS', 'N373AA', 'N235WN', 'N848AS', 'N253WN', 'N902FJ', 'N521LR', 'N838MH', 'N595NW', 'N824AW', 'N809AW', 'N553NW', 'N491AA', 'N320AS', 'N761RR', 'N814AW', 'N73860', 'N27477', 'N960WN', 'N8305E', 'N813AY', 'N525VA', 'N596AS', 'N452UA', 'N910FJ', 'N789SW', 'N419US', 'N738CB', 'N841MH', 'N285AT', 'N724UW', 'N960DN', 'N177DZ', 'N831AW', 'N480AA', 'N8618N', 'N609SW', 'N732SW', 'N963WN', 'N529AS', 'N694SW', 'N812AY', 'N738US', 'N799SW', 'N929WN', 'N502MJ', 'N386HA', 'N56859', 'N557AS', 'N909FJ', 'N858AS', 'N1610D', 'N513AS', 'N444US', 'N7715E', 'N389AA', 'N758SW', 'N274WN', 'N932LR', 'N155DL', 'N713SW', 'N452UW', 'N659UA', 'N398SW', 'N57864', 'N907WN', 'N787SA', 'N904FJ', 'N14629', 'N6704Z', 'N625AW', 'N906WN', 'N825AW', 'N386SW', 'N7735A', 'N517UA', 'N613AA', 'N670SW', 'N518LR', 'N830AW', 'N399WN', 'N8969A', 'N8733G', 'N207WN', 'N913FJ', 'N247WN', 'N68159', 'N552UA', 'N455WN', 'N385HA', 'N837AW', 'N406US', 'N655DL', 'N8614M', 'N176AT', 'N134EV', 'N803SK', 'N173DZ', 'N57869', 'N8488D', 'N57016', 'N952WN', 'N925FJ', 'N905DE', 'N439US', 'N623DL', 'N8775A', 'N440US', 'N647UA', 'N385DN', 'N511SW', 'N767NC', 'N355AA', 'N790SK', 'N658DL', 'N940WN', 'N522US', 'N821AY', 'N360SW', 'N14186', 'N558AS', 'N508AY', 'N643DL', 'N315AS', 'N597AS', 'N913DN', 'N75851', 'N8302F', 'N602DL', 'N949WN', 'N289AT', 'N589AS', 'N660DL', 'N3755D', 'N663SW', 'N68802', 'N672UA', 'N7726A', 'N297WN', 'N659AW', 'N526AS', 'N548UW', 'N8600F', 'N446WN', 'N525SW', 'N659SW', 'N934DL', 'N845MH', 'N594AS', 'N250WN', 'N619SW', 'N768SK', 'N653UA', 'N1613B', 'N260WN', 'N454WN', 'N744SW', 'N899AT', 'N841AY', 'N8598B', 'N570UW', 'N851NW', 'N359NW', 'N590NW', 'N676UA', 'N278WN', 'N397SW', 'N583AS', 'N381HA', 'N639DL', 'N804AW', 'N964WN', 'N633SW', 'N8541D', 'N8329B', 'N279AT', 'N534US', 'N77867', 'N934FJ', 'N797SK', 'N538AS', 'N683DA', 'N478AA', 'N962DN', 'N615AA', 'N245WN', 'N829MH', 'N435WN', 'N706SW', 'N929AT', 'N929LR', 'N508AS', 'N921FJ', 'N937DN', 'N395SW', 'N68807', 'N902DA', 'N8608N', 'N504MJ', 'N915FJ', 'N563UW', 'N933AT', 'N780SW', 'N435AS', 'N794SK', 'N463UA', 'N835AW', 'N682DA', 'N503MJ', 'N1607B', 'N913EV', 'N26215', 'N441US', 'N840AS', 'N734SA', 'N533AS', 'N436AA', 'N357NW', 'N200PQ', 'N362NW', 'N343NB', 'N916DN', 'N946WN', 'N935LR', 'N782NC', 'N652UA', 'N936DL', 'N224WN', 'N427SW', 'N658SW', 'N516AS', 'N945DN', 'N953DN', 'N243WN', 'N394AA', 'N492AA', 'N641DL', 'N655WN', 'N305AS', 'N378SW', 'N539US', 'N284AT', 'N379SW', 'N817AW', 'N290WN', 'N8444F', 'N414WN', 'N423WN', 'N172DN', 'N579AS', 'N521SW', 'N349NW', 'N373SW', 'N656SW', 'N1200K', 'N515SW', 'N489AA', 'N548US', 'N514MJ', 'N8327A', 'N8943A', 'N957DN', 'N664DN', 'N972AT', 'N514SW', 'N701SK', 'N519AA', 'N658UA', 'N295PQ', 'N363AA', 'N963DN', 'N638DL', 'N684WN', 'N905DA', 'N903FJ', 'N545UW', 'N739GB', 'N639SW', 'N318AS', 'N295AT', 'N736SA', 'N537AS', 'N8313F', 'N268WN', 'N914DN', 'N986AT', 'N627AW', 'N644UA', 'N181PQ', 'N254WN', 'N947WN', 'N361SW', 'N637DL', 'N527SW', 'N175DN', 'N939DN', 'N8620H', 'N506AS', 'N563AS', 'N78866', 'N8603F', 'N907DL', 'N175AT', 'N507US', 'N654DL', 'N520AA', 'N330AT', 'N75861', 'N269WN', 'N966DL', 'N214WN', 'N363SW', 'N747SA', 'N870AS', 'N903DA', 'N613SW', 'N865DA', 'N383AA', 'N728SK', 'N509SW', 'N493WN', 'N430US', 'N8326F', 'N240WN', 'N156UW', 'N560AS', 'N8315C', 'N508SW', 'N508AA', 'N6702', 'N521AA', 'N460UW', 'N707SA', 'N569UA', 'N344AA', 'N624SW', 'N856NW', 'N223WN', 'N632SW', 'N382SW', 'N925WN', 'N522LR', 'N452WN', 'N409WN', 'N859AS', 'N608SW', 'N8307K', 'N1608', 'N827AW', 'N654SW', 'N365SW', 'N57857', 'N594NW', 'N547US', 'N660SW', 'N353SW', 'N826MH', 'N118US', 'N361AA', 'N849UA', 'N7702A', 'N913JB', 'N928DN', 'N273AT', 'N654UA', 'N709UW', 'N476WN', 'N347SW', 'N77865', 'N828AW', 'N255WN', 'N8970D', 'N607SW', 'N533US', 'N862DA', 'N837MH', 'N964DN', 'N391AA', 'N315AT', 'N375SW', 'N621VA', 'N651SW', 'N836AW', 'N256WN', 'N8619F', 'N513MJ', 'N338AT', 'N939LR', 'N340LV', 'N982AT', 'N600TR', 'N394DL', 'N45905', 'N778SK', 'N518AS', 'N944AT', 'N624AW', 'N697SW', 'N406WN', 'N785SK', 'N68805', 'N252WN', 'N980AT', 'N669SW', 'N975AT', 'N949AT', 'N350NA', 'N519US', 'N128UW', 'N333NW', 'N380HA', 'N362AA', 'N668UA', 'N852VA', 'N309AT', 'N698DL', 'N607LR', 'N178DZ', 'N435AA', 'N586AS', 'N770SA', 'N162PQ', 'N834AW', 'N556NW', 'N660UA', 'N929DN', 'N57862', 'N278AT', 'N541US', 'N603AT', 'N383HA', 'N126UW', 'N355SW', 'N824AS', 'N299AT', 'N276AT', 'N359AA', 'N943DN', 'N529VA', 'N719SW', 'N7812G', 'N587AS', 'N297PQ', 'N78003', 'N8839E', 'N951DL', 'N661UA', 'N685SW', 'N834MH', 'N614SW', 'N8913A', 'N961WN', 'N8319F', 'N433US', 'N636DL', 'N575AA', 'N603SW', 'N633AW', 'N336AT', 'N8615E', 'N953FR', 'N528AS', 'N143DA', 'N526SW', 'N752US', 'N833AY', 'N68801', 'N172DZ', 'N670US', 'N307AS', 'N673DL', 'N57868', 'N281AT', 'N7713A', 'N8623A', 'N8611F', 'N920FJ', 'N8745B', 'N386AA', 'N20904', 'N8303R', 'N911FJ', 'N918DH', 'N136EV', 'N31131', 'N642DL', 'N681DA', 'N461WN', 'N807AW', 'N495WN', 'N8896A', 'N710SK', 'N945WN', 'N531US', 'N821AW', 'N616SW', 'N354SW', 'N372SW', 'N8316H', 'N790SW', 'N176DN', 'N572UW', 'N170PQ', 'N705SW', 'N272AT', 'N653SW', 'N496AA', 'N291AT', 'N59053', 'N8921B', 'N78013', 'N831MH', 'N657SW', 'N463WN', 'N395HA', 'N486WN', 'N717JL', 'N536AS', 'N270WN', 'N641UA', 'N771SA', 'N36472', 'N554WN', 'N431WN', 'N77012', 'N350SW', 'N746SK', 'N642AW', 'N8605E', 'N927AT', 'N282WN', 'N827MH', 'N309AS', 'N693DL', 'N505SW', 'N941DN', 'N7724A', 'N612SW', 'N678CA', 'N36476', 'N433AS', 'N410WN', 'N640DL', 'N358SW', 'N8604K', 'N602XJ', 'N187PQ', 'N508MJ', 'N569AS', 'N37281', 'N652SW', 'N605SW', 'N634SW', 'N552AA', 'N677UA', 'N617SW', 'N760SW', 'N527AS', 'N565AA', 'N965AT', 'N376SW', 'N152DL', 'N777QC', 'N420UA', 'N380SW', 'N455UW', 'N776SK', 'N670DN', 'N908WN', 'N933LR', 'N791SW', 'N944DN', 'N392SW', 'N298WN', 'N352SW', 'N108UW', 'N564AS', 'N801AW', 'N781WN', 'N12109', 'N693SW', 'N171DN', 'N8924B', 'N912DN', 'N6710E', 'N556AS', 'N621SW', 'N8836A', 'N182DN', 'N173AT', 'N8672A', 'N283WN', 'N904DA', 'N8609A', 'N295WN', 'N961DN', 'N910DN', 'N900EV', 'N958DN', 'N370SW', 'N8317M', 'N649UA', 'N826AW', 'N27901', 'N323AS', 'N136DL', 'N37456', 'N810AW', 'N665UA', 'N535AS', 'N490WN', 'N476AA', 'N26906', 'N8321D', 'N593AS', 'N675MC', 'N608DA', 'N651UA', 'N813SK', 'N610WN', 'N8301J', 'N344SW', 'N667UA', 'N124US', 'N615DL', 'N772SW', 'N523US', 'N943FR', 'N442AS', 'N561UW', 'N408WN', 'N948FR', 'N893AT', 'N281WN', 'N8587E', 'N8933B', 'N604SW', 'N517AS', 'N930WN', 'N259WN', 'N930LR', 'N552AS', 'N464UA', 'N369SW', 'N835MH', 'N915WN', 'N486AA', 'N147PQ', 'N365NW', 'N220WN', 'N762NC', 'N912FJ', 'N702SK', 'N505AA', 'N793SA', 'N357SW', 'N299WN', 'N999DN', 'N921DN', 'N362SW', 'N390AA', 'N718SW', 'N687SW', 'N258WN', 'N438WN', 'N779NC', 'N102UW', 'N78509', 'N303AS', 'N917DN', 'N768SW', 'N8974C', 'N8325D', 'N662SW', 'N549US', 'N205FR', 'N959AT', 'N524SW', 'N786SW', 'N645SW', 'N794SW', 'N724SW', 'N8613K', 'N137DL', 'N907DA', 'N915DN', 'N568AS', 'N584AS', 'N525US', 'N635SW', 'N921WN', 'N409US', 'N503US', 'N568UW', 'N206FR', 'N66803', 'N542US', 'N625VA', 'N75432', 'N356SW', 'N532AS', 'N186DN', 'N606SW', 'N379AA', 'N475WN', 'N951WN', 'N6716C', 'N427US', 'N459WN', 'N703SW', 'N409AS', 'N8322X', 'N796SW', 'N520AS', 'N383SW', 'N906AT', 'N921AT', 'N789SK', 'N626AW', 'N922FJ', 'N170US', 'N8516C', 'N76062', 'N910FR', 'N8771A', 'N708SW', 'N754SW', 'N384SW', 'N8320J', 'N726SW', 'N924AT', 'N959WN', 'N206UA', 'N637VA', 'N8828D', 'N548UA', 'N840MH', 'N663UA', 'N532US', 'N986DL', 'N644SW', 'N317WN', 'N592AS', 'N854NW', 'N8758D', 'N549AS', 'N750AT', 'N780SK', 'N926EV', 'N296WN', 'N802AW', 'N228UA', 'N1609', 'N169DZ', 'N1604R', 'N442WN', 'N217JC', 'N600WN', 'N774NC', 'N655UA', 'N760SK', 'N530AS', 'N927LR', 'N809NW', 'N912WN', 'N287AT', 'N57870', 'N941UW', 'N432US', 'N7746C', 'N510MJ', 'N787UA', 'N919FJ', 'N555AY', 'N474WN', 'N370AA', 'N955DN', 'N184AT', 'N345SA', 'N37471', 'N820AW', 'N815AW', 'N487WN', 'N580UA', 'N8674A', 'N189DN', 'N928EV', 'N733SA', 'N971DL', 'N8606C', 'N901WN', 'N431AS', 'N393HA', 'N923DN', 'N390SW', 'N959DN', 'N705SK', 'N777UA', 'N615SW', 'N701GS', 'N812AW', 'N881AS', 'N988DL', 'N805AY', 'N261WN', 'N905FJ', 'N425LV', 'N943AT', 'N514AS', 'N178DN', 'N863DA'}\n"
     ]
    }
   ],
   "source": [
    "# Aircraft that are in the registry but have never flown\n",
    "\n",
    "pl_tail = set(planes_df['tailnum'])\n",
    "fl_tail = set(flights_df['tailnum'].dropna())   # .dropna() removes NaN tailnum in flights_df, IF EXISTS\n",
    "\n",
    "result = pl_tail - fl_tail\n",
    "\n",
    "print(len(result), \"aircraft have never flown\")\n",
    "print(result)\n"
   ]
  },
  {
   "cell_type": "markdown",
   "id": "d1229180",
   "metadata": {},
   "source": [
    "**Key Finding:**\n",
    "998 aircraft in the registry have never conducted any flights.\n",
    "\n",
    "**Insight:**\n",
    "This represents significant unused capacity in the aviation system"
   ]
  }
 ],
 "metadata": {
  "kernelspec": {
   "display_name": "Python 3",
   "language": "python",
   "name": "python3"
  },
  "language_info": {
   "codemirror_mode": {
    "name": "ipython",
    "version": 3
   },
   "file_extension": ".py",
   "mimetype": "text/x-python",
   "name": "python",
   "nbconvert_exporter": "python",
   "pygments_lexer": "ipython3",
   "version": "3.12.5"
  }
 },
 "nbformat": 4,
 "nbformat_minor": 5
}
