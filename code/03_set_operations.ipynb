{
 "cells": [
  {
   "cell_type": "code",
   "execution_count": 1,
   "id": "cbed1d78",
   "metadata": {},
   "outputs": [],
   "source": [
    "import pandas as pd\n",
    "import numpy as np\n",
    "from pathlib import Path"
   ]
  },
  {
   "cell_type": "code",
   "execution_count": 2,
   "id": "ec65adec",
   "metadata": {},
   "outputs": [
    {
     "data": {
      "text/plain": [
       "\"\\nConvert the 'time_hour' column in flights_df and weather_df to datetime64[ns] type, as it was 'object'.\\nThis was necessary because a merge on date/time types was not possible otherwise.\\n\\nThe dtype for flights_df was datetime64[ns], while for weather_df it was datetime64[ns, UTC]. Removed the UTC timezone.\\n\""
      ]
     },
     "execution_count": 2,
     "metadata": {},
     "output_type": "execute_result"
    }
   ],
   "source": [
    "basic_directory = Path.cwd()                            # directory of the file - folder \"code\"\n",
    "data_directory = basic_directory.parent / \"data\"        # go one level up and choose folder \"data\"\n",
    "\n",
    "# It's a common convention to add a _df suffix to a variable name to indicate it's a DataFrame.\n",
    "flights_df  = pd.read_csv(data_directory / \"flights.csv\")\n",
    "airlines_df = pd.read_csv(data_directory / \"airlines.csv\")\n",
    "airports_df = pd.read_csv(data_directory / \"airports.csv\")\n",
    "planes_df   = pd.read_csv(data_directory / \"planes.csv\")\n",
    "weather_df  = pd.read_csv(data_directory / \"weather.csv\")\n",
    "\n",
    "# Convert to datetime\n",
    "flights_df['time_hour'] = pd.to_datetime(flights_df['time_hour'])\n",
    "weather_df['time_hour'] = pd.to_datetime(weather_df['time_hour'])\n",
    "\n",
    "# Remove timezone\n",
    "weather_df['time_hour'] = weather_df['time_hour'].dt.tz_localize(None)\n",
    "\n",
    "'''\n",
    "Convert the 'time_hour' column in flights_df and weather_df to datetime64[ns] type, as it was 'object'.\n",
    "This was necessary because a merge on date/time types was not possible otherwise.\n",
    "\n",
    "The dtype for flights_df was datetime64[ns], while for weather_df it was datetime64[ns, UTC]. Removed the UTC timezone.\n",
    "'''"
   ]
  },
  {
   "cell_type": "code",
   "execution_count": null,
   "id": "6744d7da",
   "metadata": {},
   "outputs": [
    {
     "name": "stdout",
     "output_type": "stream",
     "text": [
      "                             name         entity_type\n",
      "0               Endeavor Air Inc.      airlines_vowel\n",
      "1          American Airlines Inc.      airlines_vowel\n",
      "2            Alaska Airlines Inc.      airlines_vowel\n",
      "3                 JetBlue Airways  airlines_consonant\n",
      "4            Delta Air Lines Inc.  airlines_consonant\n",
      "5        ExpressJet Airlines Inc.      airlines_vowel\n",
      "6          Frontier Airlines Inc.  airlines_consonant\n",
      "7     AirTran Airways Corporation      airlines_vowel\n",
      "8          Hawaiian Airlines Inc.  airlines_consonant\n",
      "9                       Envoy Air      airlines_vowel\n",
      "10          SkyWest Airlines Inc.  airlines_consonant\n",
      "11          United Air Lines Inc.      airlines_vowel\n",
      "12                US Airways Inc.      airlines_vowel\n",
      "13                 Virgin America  airlines_consonant\n",
      "14         Southwest Airlines Co.  airlines_consonant\n",
      "15              Lansdowne Airport            airports\n",
      "16  Moton Field Municipal Airport            airports\n",
      "17            Schaumburg Regional            airports\n",
      "18                Randall Airport            airports\n",
      "19          Jekyll Island Airport            airports\n",
      "20                        EMBRAER        manufacturer\n",
      "21               AIRBUS INDUSTRIE        manufacturer\n",
      "22               AIRBUS INDUSTRIE        manufacturer\n",
      "23               AIRBUS INDUSTRIE        manufacturer\n",
      "24                        EMBRAER        manufacturer\n",
      "(25, 2)\n"
     ]
    }
   ],
   "source": [
    "# Airlines with CASE logic\n",
    "\n",
    "airlines_part = (\n",
    "    airlines_df[['name']]\n",
    "    .head(15)\n",
    "    .assign(\n",
    "        entity_type=lambda df: np.where(\n",
    "            df['name'].str[0].str.upper().isin(['A','E','I','O','U']),  # .str[0] - takes the first letter of each airline name\n",
    "            'airlines_vowel',                                           # .str.upper() - capitalizes this letter (so that \"A\" and \"a\" are not different)\n",
    "            'airlines_consonant'                                        # .isin([‘A’,'E',‘I’,'O',‘U’]) - checks whether the word begins with a vowel\n",
    "        )\n",
    "    )\n",
    ")\n",
    "\n",
    "airports_part = (\n",
    "    airports_df[['name']]\n",
    "    .head(5)\n",
    "    .assign(entity_type='airports')\n",
    ")\n",
    "\n",
    "planes_part = (\n",
    "    planes_df[['manufacturer']]\n",
    "    .head(5)\n",
    "    .rename(columns={'manufacturer':'name'})    # Renamed 'manufacturer' to 'name' so that all DataFrames have a common column for names\n",
    "    .assign(entity_type='manufacturer')\n",
    ")\n",
    "\n",
    "union_all = pd.concat([airlines_part, airports_part, planes_part], ignore_index=True)\n",
    "print(union_all)\n",
    "print(union_all.shape)"
   ]
  },
  {
   "cell_type": "code",
   "execution_count": 11,
   "id": "3569063e",
   "metadata": {},
   "outputs": [
    {
     "name": "stdout",
     "output_type": "stream",
     "text": [
      "['B6' 'AA' 'UA' 'DL' '9E' 'US' 'MQ' 'EV']\n",
      "8\n"
     ]
    },
    {
     "data": {
      "text/plain": [
       "'\\n# An alternative to .isin, which is more convenient here.\\n\\njfk = set(flights_df.loc[flights_df[\"origin\"]==\"JFK\", \"carrier\"])\\nlga = set(flights_df.loc[flights_df[\"origin\"]==\"LGA\", \"carrier\"])\\newr = set(flights_df.loc[flights_df[\"origin\"]==\"EWR\", \"carrier\"])\\n\\n# The intersection of three sets\\nintersect_carriers = jfk & lga & ewr\\nprint(intersect_carriers)\\n\\n'"
      ]
     },
     "execution_count": 11,
     "metadata": {},
     "output_type": "execute_result"
    }
   ],
   "source": [
    "# Airlines that fly from all three NYC airports\n",
    "\n",
    "intersect = flights_df.loc[flights_df[\"origin\"]==\"JFK\", \"carrier\"] \\\n",
    "    .isin(flights_df.loc[flights_df[\"origin\"]==\"LGA\", \"carrier\"]) \\\n",
    "    & flights_df.loc[flights_df[\"origin\"]==\"JFK\", \"carrier\"] \\\n",
    "    .isin(flights_df.loc[flights_df[\"origin\"]==\"EWR\", \"carrier\"])\n",
    "\n",
    "result = flights_df.loc[flights_df[\"origin\"]==\"JFK\", \"carrier\"][intersect].unique()\n",
    "\n",
    "print(result)\n",
    "print(len(result))\n",
    "\n",
    "# flights_df.loc[flights_df[\"origin\"]==\"JFK\", \"carrier\"] - takes the \"carrier\" column from rows where [\"origin\"]==\"JFK\"\n",
    "# .isin(flights_df.loc[flights_df[\"origin\"]==\"LGA\", \"carrier\"]) - returns a True/False array where \"carrier\" from [\"origin\"]==\"JFK\" also appears among [\"origin\"]==\"LGA\"\n",
    "# Repeated once more, but with \"JFK\" and \"EWR\"\n",
    "\n",
    "# flights_df.loc[flights_df[\"origin\"]==\"JFK\", \"carrier\"][intersect].unique()\n",
    "# Again, takes the carriers from JFK\n",
    "# [intersect] - filters only the rows where intersect == True\n",
    "# .unique() - returns the unique carrier values (it is used to avoid repeating the airline names multiple times)\n",
    "\n",
    "'''\n",
    "# flights_df[\"origin\"]==\"JFK\" - creates a boolean array (True/False) for all values in 'origin'. True if \"JFK\".\n",
    "# flights_df.loc[...] - selects only those rows where flights_df[\"origin\"]==\"JFK\" is True.\n",
    "# ..., \"carrier\"] - returns only the \"carrier\" column from the selection.\n",
    "\n",
    "# .isin() checks if a value is present in another list (e.g., if a carrier from JFK is also in LGA).\n",
    "\n",
    "# .unique() is used to avoid repeating the airline names multiple times.\n",
    "'''\n",
    "\n",
    "'''\n",
    "# An alternative to .isin, which is more convenient here.\n",
    "\n",
    "jfk = set(flights_df.loc[flights_df[\"origin\"]==\"JFK\", \"carrier\"])\n",
    "lga = set(flights_df.loc[flights_df[\"origin\"]==\"LGA\", \"carrier\"])\n",
    "ewr = set(flights_df.loc[flights_df[\"origin\"]==\"EWR\", \"carrier\"])\n",
    "\n",
    "# The intersection of three sets\n",
    "intersect_carriers = jfk & lga & ewr\n",
    "print(intersect_carriers)\n",
    "\n",
    "'''\n"
   ]
  },
  {
   "cell_type": "markdown",
   "id": "0d55da45",
   "metadata": {},
   "source": [
    "**Key Finding:** \n",
    "Only 8 of the 16 airlines listed in the database operate flights from all three major New York airports. \n",
    "This suggests that operating from all three major New York airports is relatively uncommon among airlines"
   ]
  },
  {
   "cell_type": "code",
   "execution_count": 7,
   "id": "3c632f5f",
   "metadata": {},
   "outputs": [
    {
     "name": "stdout",
     "output_type": "stream",
     "text": [
      "{'MIA', 'FLL', 'LAX', 'BOS', 'MCO', 'SFO', 'AUS', 'PBI', 'STT', 'SEA', 'TPA', 'SAN', 'LAS', 'SJU'}\n",
      "['BOS' 'SJU' 'MIA' 'SFO' 'LAX' 'STT' 'MCO' 'AUS' 'LAS' 'SEA' 'SAN' 'FLL'\n",
      " 'TPA' 'PBI']\n",
      "True\n"
     ]
    }
   ],
   "source": [
    "# Destinations served by both American Airlines and Delta\n",
    "\n",
    "aa_dests = set(flights_df.loc[flights_df['carrier']==\"AA\", \"dest\"])\n",
    "dl_dests = set(flights_df.loc[flights_df['carrier']==\"DL\", \"dest\"])\n",
    "intersect = aa_dests & dl_dests\n",
    "print(intersect)\n",
    "# The data type is set, shown with {} brackets\n",
    "# Arbitrary output order\n",
    "\n",
    "intersect1 = flights_df.loc[flights_df['carrier']==\"AA\", \"dest\"] \\\n",
    "            .isin(flights_df.loc[flights_df['carrier']==\"DL\", \"dest\"])\n",
    "intersect1 = flights_df.loc[flights_df['carrier']==\"AA\", \"dest\"][intersect1].unique()\n",
    "print(intersect1)\n",
    "# The data type is numpy.ndarray, shown with [] brackets\n",
    "# Keeps the order of the source data\n",
    "\n",
    "print(set(intersect1) == intersect)\n",
    "# Different ordering rules (set() -- arbitrary order, .unique() -- original order)\n",
    "# The values are identical - only the display order changes"
   ]
  },
  {
   "cell_type": "markdown",
   "id": "79f66476",
   "metadata": {},
   "source": [
    "**Key Finding**: \n",
    "American Airlines (AA) and Delta Air Lines (DL) serve 14 common destinations\n",
    "\n",
    "**Insight**:\n",
    "This significant route overlap between two major airlines indicates intense competition on popular routes including transcontinental (LAX, SFO, SEA) and Florida (MIA, FLL, MCO) markets"
   ]
  },
  {
   "cell_type": "code",
   "execution_count": 21,
   "id": "df0d4c4f",
   "metadata": {},
   "outputs": [
    {
     "name": "stdout",
     "output_type": "stream",
     "text": [
      "99\n",
      "{'TYS', 'DFW', 'JAX', 'CHO', 'SAV', 'JAC', 'ORD', 'ANC', 'IAH', 'ALB', 'MHT', 'GSP', 'RSW', 'CLE', 'GRR', 'SJC', 'MVY', 'CVG', 'BDL', 'SNA', 'DTW', 'EYW', 'PHX', 'ACK', 'LAS', 'IAD', 'SJU', 'SLC', 'PSE', 'MKE', 'AUS', 'CAE', 'EGE', 'TVC', 'MIA', 'CRW', 'XNA', 'BOS', 'ATL', 'TUL', 'MCI', 'MDW', 'BHM', 'STL', 'GSO', 'ILM', 'MEM', 'BTV', 'PDX', 'PHL', 'MSN', 'CHS', 'BQN', 'HNL', 'PVD', 'FLL', 'LAX', 'PIT', 'ORF', 'SMF', 'MSY', 'DCA', 'BUR', 'OMA', 'OKC', 'PWM', 'DAY', 'HOU', 'AVL', 'PBI', 'SEA', 'CMH', 'BZN', 'SAN', 'SDF', 'OAK', 'LGB', 'MYR', 'CLT', 'BGR', 'MCO', 'RDU', 'MSP', 'TPA', 'BWI', 'DSM', 'STT', 'SAT', 'SRQ', 'BUF', 'SYR', 'IND', 'SFO', 'DEN', 'BNA', 'CAK', 'RIC', 'ROC', 'ABQ'}\n"
     ]
    },
    {
     "data": {
      "text/plain": [
       "'\\nSELECT dest\\nFROM flights\\nEXCEPT\\nSELECT origin\\nFROM flights;\\n'"
      ]
     },
     "execution_count": 21,
     "metadata": {},
     "output_type": "execute_result"
    }
   ],
   "source": [
    "#EXCEPT\n",
    "# Which airports are arrival destinations but never departure origins?\n",
    "\n",
    "dest_set = set(flights_df['dest'])\n",
    "origin_set = set(flights_df['origin'])\n",
    "\n",
    "result = dest_set - origin_set\n",
    "\n",
    "print(len(result))\n",
    "print(result)\n",
    "'''\n",
    "SELECT dest\n",
    "FROM flights\n",
    "EXCEPT\n",
    "SELECT origin\n",
    "FROM flights;\n",
    "'''"
   ]
  },
  {
   "cell_type": "code",
   "execution_count": 26,
   "id": "41e8e955",
   "metadata": {},
   "outputs": [
    {
     "name": "stdout",
     "output_type": "stream",
     "text": [
      "{'JFK', 'EWR', 'LGA'}\n"
     ]
    }
   ],
   "source": [
    "# Which airports are departure origins but never arrival destinations?\n",
    "\n",
    "dest_set = set(flights_df['dest'])\n",
    "origin_set = set(flights_df['origin'])\n",
    "\n",
    "result = origin_set - dest_set\n",
    "print(result)\n",
    "# So it means all flights are from NYC to other US cities"
   ]
  },
  {
   "cell_type": "markdown",
   "id": "f2390f68",
   "metadata": {},
   "source": [
    "**Key Finding:**\n",
    "This shows that the database being analyzed collected flight statistics only from three New York airports (3) to other US airports (99)   "
   ]
  },
  {
   "cell_type": "code",
   "execution_count": 4,
   "id": "7b950830",
   "metadata": {},
   "outputs": [
    {
     "name": "stdout",
     "output_type": "stream",
     "text": [
      "998 aircraft have never flown\n",
      "{'N621SW', 'N357SW', 'N824AS', 'N776SK', 'N361VA', 'N913JB', 'N128UW', 'N925FJ', 'N525VA', 'N906WN', 'N446WN', 'N986DL', 'N718SW', 'N78003', 'N607LR', 'N780SK', 'N910DN', 'N521AA', 'N515SW', 'N403AS', 'N1200K', 'N658UA', 'N856NW', 'N547US', 'N812AW', 'N8775A', 'N852VA', 'N285AT', 'N516LR', 'N846AS', 'N8933B', 'N36472', 'N7746C', 'N638SW', 'N379AA', 'N562AS', 'N915WN', 'N641UA', 'N772SW', 'N460UW', 'N956LR', 'N804AW', 'N525SW', 'N8836A', 'N7702A', 'N658SW', 'N8313F', 'N333NW', 'N420UA', 'N354SW', 'N8600F', 'N459WN', 'N789SW', 'N539US', 'N693SW', 'N255WN', 'N649UA', 'N3755D', 'N8896A', 'N36476', 'N921AT', 'N431WN', 'N703SW', 'N147PQ', 'N272AT', 'N297WN', 'N296WN', 'N706SW', 'N951DL', 'N794SK', 'N803SK', 'N281AT', 'N947WN', 'N660UA', 'N917DN', 'N508MJ', 'N136DL', 'N365NW', 'N945WN', 'N780SW', 'N623SW', 'N126UW', 'N602XJ', 'N899AT', 'N907DA', 'N666UA', 'N651UA', 'N900EV', 'N622AW', 'N463WN', 'N240WN', 'N422WN', 'N536AS', 'N259WN', 'N518LR', 'N7735A', 'N904DA', 'N826AW', 'N452UW', 'N1608', 'N205FR', 'N842MH', 'N922EV', 'N537AS', 'N651SW', 'N521LR', 'N8888D', 'N64809', 'N566AS', 'N668UA', 'N8327A', 'N182DN', 'N845MH', 'N6704Z', 'N260WN', 'N605SW', 'N452UA', 'N934DL', 'N609SW', 'N659AW', 'N644UA', 'N279AT', 'N175DN', 'N840AS', 'N435AA', 'N676UA', 'N250WN', 'N173DZ', 'N78013', 'N607SW', 'N902DA', 'N276AT', 'N486AA', 'N913FJ', 'N376SW', 'N137DL', 'N959AT', 'N75861', 'N935LR', 'N8515F', 'N485WN', 'N8598B', 'N513MJ', 'N8613K', 'N401WN', 'N364SW', 'N615SW', 'N508SW', 'N556NW', 'N350NA', 'N906AT', 'N521US', 'N814AW', 'N1611B', 'N530AS', 'N911DA', 'N431AS', 'N535AS', 'N295WN', 'N452WN', 'N491AA', 'N505SW', 'N659SW', 'N933AT', 'N493WN', 'N283WN', 'N592AS', 'N516AS', 'N187PQ', 'N903FJ', 'N999DN', 'N638DL', 'N826MH', 'N1609', 'N626AW', 'N386AA', 'N693CA', 'N118US', 'N674UA', 'N726SW', 'N347AA', 'N831AW', 'N844MH', 'N517AS', 'N657SW', 'N683DA', 'N344SW', 'N865DA', 'N8602F', 'N642AA', 'N978SW', 'N937DN', 'N155DL', 'N12167', 'N786SW', 'N435WN', 'N441WN', 'N585AS', 'N406WN', 'N684WN', 'N27901', 'N171DN', 'N8619F', 'N143DA', 'N642DL', 'N594AS', 'N661UA', 'N966DL', 'N709UW', 'N835MH', 'N297PQ', 'N986AT', 'N430WN', 'N288WN', 'N572UW', 'N8612K', 'N57863', 'N550NW', 'N153DL', 'N955DN', 'N427SW', 'N305AS', 'N632SW', 'N600WN', 'N920FJ', 'N201LV', 'N580UA', 'N608DA', 'N372SW', 'N549US', 'N309AT', 'N698DL', 'N68807', 'N281WN', 'N523SW', 'N45905', 'N657UA', 'N432US', 'N870AS', 'N625AA', 'N380HA', 'N797SK', 'N912WN', 'N827MH', 'N223WN', 'N726SK', 'N59053', 'N175AT', 'N603AT', 'N921FJ', 'N757AT', 'N200PQ', 'N802AW', 'N728SK', 'N284AT', 'N746SW', 'N433AS', 'N596AS', 'N929AT', 'N590NW', 'N124US', 'N773SA', 'N68159', 'N252WN', 'N777UA', 'N810AW', 'N14186', 'N656SW', 'N650SW', 'N274WN', 'N438US', 'N78866', 'N843MH', 'N37456', 'N476WN', 'N198UW', 'N338AT', 'N659UA', 'N694DL', 'N553NW', 'N136EV', 'N514AS', 'N928DN', 'N964DN', 'N670SW', 'N906DA', 'N912DN', 'N667UA', 'N442AS', 'N442WN', 'N570AS', 'N955AT', 'N717SA', 'N552AS', 'N919FJ', 'N707SA', 'N564AS', 'N8606C', 'N367SW', 'N796SW', 'N569UW', 'N724SW', 'N409WN', 'N841MH', 'N380SW', 'N396SW', 'N419US', 'N606SW', 'N904FJ', 'N8837B', 'N941UW', 'N356SW', 'N8488D', 'N794SW', 'N8614M', 'N700UW', 'N922FJ', 'N762NC', 'N960WN', 'N547UA', 'N330AT', 'N373SW', 'N178DN', 'N526SW', 'N637VA', 'N558AA', 'N767NC', 'N379SW', 'N625AW', 'N926EV', 'N230WN', 'N531US', 'N8745B', 'N355AA', 'N601WN', 'N932DN', 'N654DL', 'N673DL', 'N630VA', 'N8672A', 'N701GS', 'N971DL', 'N57857', 'N295AT', 'N506MJ', 'N587AS', 'N414WN', 'N152DL', 'N170US', 'N415WN', 'N841AY', 'N486WN', 'N673UA', 'N57016', 'N625VA', 'N782NC', 'N533AS', 'N821AW', 'N8329B', 'N465WN', 'N738US', 'N526AS', 'N390SW', 'N350SW', 'N838MH', 'N509MJ', 'N480AA', 'N436AA', 'N635SW', 'N256WN', 'N761RR', 'N478AA', 'N8758D', 'N908FJ', 'N617SW', 'N511SW', 'N302AS', 'N513AS', 'N8615E', 'N245AY', 'N655DL', 'N508AS', 'N548US', 'N660DL', 'N8444F', 'N662SW', 'N993AT', 'N463UA', 'N921WN', 'N665UA', 'N943AT', 'N893AT', 'N618AA', 'N108UW', 'N503US', 'N508AA', 'N520AA', 'N602SW', 'N344AA', 'N372AA', 'N829MH', 'N965AT', 'N8315C', 'N398AA', 'N247WN', 'N1607B', 'N835AW', 'N395HA', 'N7744A', 'N395SW', 'N444US', 'N8604K', 'N849UA', 'N416WN', 'N670DN', 'N386SW', 'N633AW', 'N8609A', 'N8771A', 'N643DL', 'N809AW', 'N517UA', 'N957DN', 'N787UA', 'N946WN', 'N349NW', 'N758SW', 'N261WN', 'N409AS', 'N918DH', 'N754SW', 'N385DN', 'N360SW', 'N289AT', 'N575AA', 'N336AT', 'N913DN', 'N819AW', 'N641DL', 'N287AT', 'N555AY', 'N644SW', 'N438WN', 'N434US', 'N8828D', 'N840MH', 'N522US', 'N945DN', 'N406US', 'N360AA', 'N936DL', 'N643SW', 'N940UW', 'N664DN', 'N258WN', 'N249WN', 'N440US', 'N7812G', 'N768SK', 'N393HA', 'N768SW', 'N916DN', 'N8839E', 'N435AS', 'N927LR', 'N614SW', 'N655UA', 'N910FR', 'N910FJ', 'N717JL', 'N496AA', 'N8307K', 'N8308K', 'N8326F', 'N169AT', 'N186DN', 'N8587E', 'N306AS', 'N282WN', 'N613AA', 'N837MH', 'N8608N', 'N593AS', 'N439US', 'N169DZ', 'N859AS', 'N940WN', 'N907DL', 'N624AW', 'N8924B', 'N653UA', 'N527AS', 'N694SW', 'N207WN', 'N789SK', 'N937AT', 'N362SW', 'N914DN', 'N489AA', 'N269WN', 'N242WN', 'N268WN', 'N655WN', 'N862DA', 'N425LV', 'N27477', 'N206UA', 'N905FJ', 'N8316H', 'N352SW', 'N834AW', 'N948WN', 'N677UA', 'N719SW', 'N964WN', 'N907JB', 'N172DN', 'N505AA', 'N449US', 'N944AT', 'N668DN', 'N464UA', 'N534US', 'N781WN', 'N57862', 'N31131', 'N68805', 'N522LR', 'N569UA', 'N548UA', 'N121DE', 'N554WN', 'N532US', 'N653SW', 'N923DN', 'N642WN', 'N399WN', 'N917WN', 'N8913A', 'N645SW', 'N979AT', 'N557AS', 'N214WN', 'N8623A', 'N176AT', 'N652SW', 'N813AY', 'N675MC', 'N475WN', 'N809NW', 'N948FR', 'N75432', 'N37471', 'N750AT', 'N760SK', 'N736SA', 'N162PQ', 'N787SA', 'N243WN', 'N7726A', 'N663UA', 'N358SW', 'N821AY', 'N616SW', 'N738CB', 'N953WN', 'N608SW', 'N959DN', 'N8943A', 'N317WN', 'N778SK', 'N949AT', 'N362AA', 'N299WN', 'N455WN', 'N959WN', 'N678CA', 'N813SK', 'N430US', 'N807AW', 'N245WN', 'N299AT', 'N487WN', 'N378SW', 'N331NB', 'N8541D', 'N525AS', 'N824AW', 'N563AS', 'N345NW', 'N375SW', 'N725SW', 'N610WN', 'N913EV', 'N961WN', 'N724UW', 'N740SK', 'N613SW', 'N764SW', 'N244WN', 'N370AA', 'N8322X', 'N831MH', 'N851NW', 'N385HA', 'N905DE', 'N361SW', 'N383AA', 'N930WN', 'N8974C', 'N515MJ', 'N383HA', 'N739GB', 'N8944B', 'N534AS', 'N303AS', 'N929WN', 'N734SA', 'N791SW', 'N648SW', 'N825MH', 'N569AS', 'N57868', 'N75851', 'N121UW', 'N6713Y', 'N270WN', 'N359AA', 'N27205', 'N708SW', 'N318AS', 'N369SW', 'N549AS', 'N524SW', 'N505MJ', 'N777QC', 'N912FJ', 'N478WN', 'N291AT', 'N682DA', 'N654UA', 'N37281', 'N952WN', 'N123UW', 'N938LR', 'N298WN', 'N619SW', 'N902FJ', 'N930LR', 'N951WN', 'N514MJ', 'N604SW', 'N8605E', 'N295PQ', 'N189DN', 'N837AW', 'N962DN', 'N901WN', 'N713SW', 'N253WN', 'N552AA', 'N507US', 'N963WN', 'N774NC', 'N7724A', 'N26215', 'N14629', 'N368SW', 'N382SW', 'N587NW', 'N637SW', 'N538AS', 'N624SW', 'N833AY', 'N102UW', 'N8320J', 'N975AT', 'N455UW', 'N705SW', 'N177DZ', 'N681DA', 'N525US', 'N863DA', 'N647SW', 'N389AA', 'N408WN', 'N636DL', 'N178DZ', 'N309AS', 'N323AS', 'N384SW', 'N930AT', 'N390AA', 'N181PQ', 'N733SA', 'N652UA', 'N559AS', 'N943FR', 'N12109', 'N78509', 'N77012', 'N254WN', 'N908WN', 'N184AT', 'N391AA', 'N353SW', 'N8301J', 'N982AT', 'N1613B', 'N373AA', 'N57864', 'N579AS', 'N929LR', 'N370SW', 'N73860', 'N793SA', 'N7715E', 'N453WN', 'N994AT', 'N522SW', 'N933LR', 'N956DN', 'N671UA', 'N928EV', 'N627AW', 'N523US', 'N949WN', 'N441US', 'N7713A', 'N532AS', 'N953DN', 'N529VA', 'N278AT', 'N8603F', 'N570UW', 'N639DL', 'N383SW', 'N710SK', 'N56859', 'N433US', 'N932LR', 'N594NW', 'N612SW', 'N988DL', 'N235WN', 'N518AS', 'N8305E', 'N805AY', 'N871AS', 'N705SK', 'N637DL', 'N752US', 'N602DL', 'N943DN', 'N636WN', 'N357NW', 'N801AW', 'N8319F', 'N914FJ', 'N1604R', 'N241WN', 'N828MH', 'N924AT', 'N397SW', 'N8618N', 'N960DN', 'N558AS', 'N747SA', 'N687SW', 'N66803', 'N391SW', 'N921DN', 'N8969A', 'N240AT', 'N77865', 'N445WN', 'N381HA', 'N785SK', 'N704US', 'N512SW', 'N315AT', 'N1610D', 'N907WN', 'N57870', 'N307AS', 'N519AA', 'N6710E', 'N958DN', 'N744SW', 'N514SW', 'N561UW', 'N536AA', 'N828UA', 'N634SW', 'N641SW', 'N76062', 'N437WN', 'N980AT', 'N669SW', 'N953FR', 'N941FR', 'N68802', 'N640DL', 'N903DA', 'N533US', 'N206FR', 'N172DZ', 'N583AS', 'N881AS', 'N631AW', 'N584AS', 'N639SW', 'N766SK', 'N320AS', 'N909FJ', 'N970AT', 'N560AS', 'N454WN', 'N663SW', 'N361AA', 'N697SW', 'N410WN', 'N621VA', 'N57869', 'N506AS', 'N8688C', 'N615AA', 'N423WN', 'N654SW', 'N6702', 'N474WN', 'N347SW', 'N359NW', 'N646UA', 'N836AW', 'N966AT', 'N6716C', 'N315AS', 'N394AA', 'N345SA', 'N568AS', 'N790SW', 'N156UW', 'N265WN', 'N509SW', 'N508AY', 'N799SW', 'N363AA', 'N915DN', 'N927AT', 'N944DN', 'N633SW', 'N963DN', 'N7738A', 'N221FR', 'N834MH', 'N545UW', 'N326AT', 'N273AT', 'N683BR', 'N858AS', 'N388SW', 'N427US', 'N502MJ', 'N8302F', 'N503MJ', 'N672UA', 'N371NW', 'N961DN', 'N762SK', 'N490WN', 'N603SW', 'N670US', 'N8303R', 'N760SW', 'N623DL', 'N228UA', 'N903WN', 'N905DA', 'N103US', 'N450UW', 'N386HA', 'N8325D', 'N830AW', 'N771SA', 'N340LV', 'N556AS', 'N770SA', 'N589AS', 'N646DL', 'N8611F', 'N453UW', 'N26906', 'N568UW', 'N571UW', 'N560AA', 'N215WN', 'N941DN', 'N628SW', 'N409US', 'N173AT', 'N642AW', 'N521SW', 'N848AS', 'N658DL', 'N586AS', 'N476AA', 'N8674A', 'N693DL', 'N492AA', 'N779NC', 'N939DN', 'N600TR', 'N8620H', 'N565AS', 'N565AA', 'N68801', 'N371SW', 'N217JC', 'N815AW', 'N543US', 'N548UW', 'N504MJ', 'N597AS', 'N20904', 'N176DN', 'N965DN', 'N911FJ', 'N529AS', 'N495WN', 'N972AT', 'N772SK', 'N528AS', 'N8314L', 'N289CT', 'N828AW', 'N702SK', 'N531AS', 'N854NW', 'N355SW', 'N8321D', 'N527SW', 'N825AW', 'N934FJ', 'N746SK', 'N701SK', 'N552UA', 'N220WN', 'N827AW', 'N563UW', 'N363SW', 'N134EV', 'N510MJ', 'N519US', 'N542US', 'N392SW', 'N656UA', 'N8317M', 'N595NW', 'N290WN', 'N613DL', 'N915FJ', 'N343NB', 'N394DL', 'N817AW', 'N193DN', 'N541US', 'N346SW', 'N820AW', 'N398SW', 'N685SW', 'N520AS', 'N278WN', 'N461WN', 'N660SW', 'N8921B', 'N939LR', 'N365SW', 'N8970D', 'N812AY', 'N615DL', 'N175DZ', 'N647UA', 'N925WN', 'N170PQ', 'N732SW', 'N790SK', 'N224WN', 'N181DN', 'N362NW', 'N929DN', 'N839MH', 'N510SW', 'N632AW', 'N8733G', 'N551AA', 'N8516C', 'N77867'}\n"
     ]
    }
   ],
   "source": [
    "# Aircraft that are in the registry but have never flown\n",
    "\n",
    "pl_tail = set(planes_df['tailnum'])\n",
    "fl_tail = set(flights_df['tailnum'].dropna())   # .dropna() removes NaN tailnum in flights_df, IF EXISTS\n",
    "\n",
    "result = pl_tail - fl_tail\n",
    "\n",
    "print(len(result), \"aircraft have never flown\")\n",
    "print(result)\n"
   ]
  },
  {
   "cell_type": "markdown",
   "id": "d1229180",
   "metadata": {},
   "source": [
    "**Key Finding:**\n",
    "998 aircraft in the registry have never conducted any flights.\n",
    "\n",
    "**Insight:**\n",
    "This represents significant unused capacity in the aviation system"
   ]
  }
 ],
 "metadata": {
  "kernelspec": {
   "display_name": "Python 3",
   "language": "python",
   "name": "python3"
  },
  "language_info": {
   "codemirror_mode": {
    "name": "ipython",
    "version": 3
   },
   "file_extension": ".py",
   "mimetype": "text/x-python",
   "name": "python",
   "nbconvert_exporter": "python",
   "pygments_lexer": "ipython3",
   "version": "3.12.5"
  }
 },
 "nbformat": 4,
 "nbformat_minor": 5
}
