{
 "cells": [
  {
   "cell_type": "code",
   "execution_count": 1,
   "id": "cbed1d78",
   "metadata": {},
   "outputs": [],
   "source": [
    "import pandas as pd\n",
    "import numpy as np\n",
    "from pathlib import Path"
   ]
  },
  {
   "cell_type": "code",
   "execution_count": null,
   "id": "ec65adec",
   "metadata": {},
   "outputs": [
    {
     "data": {
      "text/plain": [
       "'\\nПреобразуем колонку time_hour в flights_df и weather_df в тип datetime64[ns], потому что был object\\nПотому что нельзя было делать merge по дате/времени\\n\\nУ flights_df был тип - datetime64[ns]. У weather_df - datetime64[ns, UTC]. Убрал таймзону UTC\\n'"
      ]
     },
     "execution_count": 2,
     "metadata": {},
     "output_type": "execute_result"
    }
   ],
   "source": [
    "basic_directory = Path.cwd()                            # directory of the file - folder \"code\"\n",
    "data_directory = basic_directory.parent / \"data\"        # go one level up and choose folder \"data\"\n",
    "\n",
    "# It's a common convention to add a _df suffix to a variable name to indicate it's a DataFrame.\n",
    "flights_df  = pd.read_csv(data_directory / \"flights.csv\")\n",
    "airlines_df = pd.read_csv(data_directory / \"airlines.csv\")\n",
    "airports_df = pd.read_csv(data_directory / \"airports.csv\")\n",
    "planes_df   = pd.read_csv(data_directory / \"planes.csv\")\n",
    "weather_df  = pd.read_csv(data_directory / \"weather.csv\")\n",
    "\n",
    "# Convert to datetime\n",
    "flights_df['time_hour'] = pd.to_datetime(flights_df['time_hour'])\n",
    "weather_df['time_hour'] = pd.to_datetime(weather_df['time_hour'])\n",
    "\n",
    "# Remove timezone\n",
    "weather_df['time_hour'] = weather_df['time_hour'].dt.tz_localize(None)\n",
    "\n",
    "'''\n",
    "Convert the 'time_hour' column in flights_df and weather_df to datetime64[ns] type, as it was 'object'.\n",
    "This was necessary because a merge on date/time types was not possible otherwise.\n",
    "\n",
    "The dtype for flights_df was datetime64[ns], while for weather_df it was datetime64[ns, UTC]. Removed the UTC timezone.\n",
    "'''"
   ]
  },
  {
   "cell_type": "code",
   "execution_count": 9,
   "id": "6744d7da",
   "metadata": {},
   "outputs": [
    {
     "name": "stdout",
     "output_type": "stream",
     "text": [
      "                             name         entity_type\n",
      "0               Endeavor Air Inc.      airlines_vowel\n",
      "1          American Airlines Inc.      airlines_vowel\n",
      "2            Alaska Airlines Inc.      airlines_vowel\n",
      "3                 JetBlue Airways  airlines_consonant\n",
      "4            Delta Air Lines Inc.  airlines_consonant\n",
      "5               Lansdowne Airport            airports\n",
      "6   Moton Field Municipal Airport            airports\n",
      "7             Schaumburg Regional            airports\n",
      "8                 Randall Airport            airports\n",
      "9           Jekyll Island Airport            airports\n",
      "10                        EMBRAER        manufacturer\n",
      "11               AIRBUS INDUSTRIE        manufacturer\n",
      "12               AIRBUS INDUSTRIE        manufacturer\n",
      "13               AIRBUS INDUSTRIE        manufacturer\n",
      "14                        EMBRAER        manufacturer\n"
     ]
    },
    {
     "data": {
      "text/plain": [
       "\"\\nSELECT\\n    CASE\\n        WHEN UPPER(LEFT(name, 1)) IN ('A', 'E', 'I', 'O', 'U')\\n        THEN 'airlines_vowel'\\n        ELSE 'airlines_consonant'   \\n    END AS entity_type, name\\nFROM airlines\\nUNION ALL\\n\\nSELECT 'airports', name -- для последующий SELECT в своей колонке не нужно указывать название\\nFROM airports\\nUNION ALL\\n\\nSELECT 'manufacturer', manufacturer\\nFROM planes\\nWHERE manufacturer IS NOT NULL; -- Исключаем пустые значения\\n\""
      ]
     },
     "execution_count": 9,
     "metadata": {},
     "output_type": "execute_result"
    }
   ],
   "source": [
    "# airlines с CASE\n",
    "airlines_part = (\n",
    "    airlines_df[['name']]\n",
    "    .head(5)\n",
    "    .assign(\n",
    "        entity_type=lambda df: np.where(\n",
    "            df['name'].str[0].str.upper().isin(['A','E','I','O','U']),\n",
    "            'airlines_vowel',\n",
    "            'airlines_consonant'\n",
    "        )\n",
    "    )\n",
    ")\n",
    "\n",
    "airports_part = (\n",
    "    airports_df[['name']]\n",
    "    .head(5)\n",
    "    .assign(entity_type='airports')\n",
    ")\n",
    "\n",
    "planes_part = (\n",
    "    planes_df[['manufacturer']]\n",
    "    .head(5)\n",
    "    .rename(columns={'manufacturer':'name'}) # переименовать manufacturer в name, чтобы не создалась отдельная колонка\n",
    "    .assign(entity_type='manufacturer')\n",
    ")\n",
    "\n",
    "union_all = pd.concat([airlines_part, airports_part, planes_part], ignore_index=True)\n",
    "print(union_all)\n",
    "\n",
    "'''\n",
    "SELECT\n",
    "    CASE\n",
    "        WHEN UPPER(LEFT(name, 1)) IN ('A', 'E', 'I', 'O', 'U')\n",
    "        THEN 'airlines_vowel'\n",
    "        ELSE 'airlines_consonant'   \n",
    "    END AS entity_type, name\n",
    "FROM airlines\n",
    "UNION ALL\n",
    "\n",
    "SELECT 'airports', name -- для последующий SELECT в своей колонке не нужно указывать название\n",
    "FROM airports\n",
    "UNION ALL\n",
    "\n",
    "SELECT 'manufacturer', manufacturer\n",
    "FROM planes\n",
    "WHERE manufacturer IS NOT NULL; -- Исключаем пустые значения\n",
    "'''"
   ]
  },
  {
   "cell_type": "code",
   "execution_count": null,
   "id": "3569063e",
   "metadata": {},
   "outputs": [
    {
     "name": "stdout",
     "output_type": "stream",
     "text": [
      "['B6' 'AA' 'UA' 'DL' '9E' 'US' 'MQ' 'EV']\n"
     ]
    },
    {
     "data": {
      "text/plain": [
       "\"\\nSELECT carrier FROM flights WHERE origin = 'JFK'\\nINTERSECT\\nSELECT carrier FROM flights WHERE origin = 'LGA'\\nINTERSECT  \\nSELECT carrier FROM flights WHERE origin = 'EWR';\\n\""
      ]
     },
     "execution_count": 12,
     "metadata": {},
     "output_type": "execute_result"
    }
   ],
   "source": [
    "intersect = flights_df.loc[flights_df[\"origin\"]==\"JFK\", \"carrier\"] \\\n",
    "    .isin(flights_df.loc[flights_df[\"origin\"]==\"LGA\", \"carrier\"]) \\\n",
    "    & flights_df.loc[flights_df[\"origin\"]==\"JFK\", \"carrier\"] \\\n",
    "    .isin(flights_df.loc[flights_df[\"origin\"]==\"EWR\", \"carrier\"])\n",
    "\n",
    "result = flights_df.loc[flights_df[\"origin\"]==\"JFK\", \"carrier\"][intersect].unique()\n",
    "print(result)\n",
    "'''\n",
    "-- Авиакомпании, которые летают из всех трех аэропортов NYC\n",
    "\n",
    "flights_df[\"origin\"]==\"JFK\" - создаёт массив True/False для всех значений в origin. True если \"JFK\"\n",
    "flights_df.loc[...] - берёт только те значения, где flights_df[\"origin\"]==\"JFK\" выдаёт True\n",
    "..., \"carrier\"] - выдаёт только колонку \"carrier\" оттуда\n",
    "\n",
    ".isin() проверяет, содержиться ли это значение в другом списке (есть ли True в LGA там же, где и в JFK)\n",
    "\n",
    ".unique() - для того чтобы не повторялись компании столько раз, сколько для трёх аэропортов было True. Только один\n",
    "'''\n",
    "\n",
    "'''\n",
    "Аналог .isin, только с ним удобнее.\n",
    "\n",
    "jfk = set(flights_df.loc[flights_df[\"origin\"]==\"JFK\", \"carrier\"])\n",
    "lga = set(flights_df.loc[flights_df[\"origin\"]==\"LGA\", \"carrier\"])\n",
    "ewr = set(flights_df.loc[flights_df[\"origin\"]==\"EWR\", \"carrier\"])\n",
    "\n",
    "# пересечение трёх множеств\n",
    "intersect_carriers = jfk & lga & ewr\n",
    "print(intersect_carriers)\n",
    "\n",
    "'''\n",
    "\n",
    "'''\n",
    "SELECT carrier FROM flights WHERE origin = 'JFK'\n",
    "INTERSECT\n",
    "SELECT carrier FROM flights WHERE origin = 'LGA'\n",
    "INTERSECT  \n",
    "SELECT carrier FROM flights WHERE origin = 'EWR';\n",
    "'''"
   ]
  },
  {
   "cell_type": "code",
   "execution_count": null,
   "id": "3c632f5f",
   "metadata": {},
   "outputs": [
    {
     "name": "stdout",
     "output_type": "stream",
     "text": [
      "{'TPA', 'SJU', 'AUS', 'SEA', 'BOS', 'SAN', 'LAX', 'SFO', 'LAS', 'PBI', 'MIA', 'STT', 'MCO', 'FLL'}\n"
     ]
    },
    {
     "data": {
      "text/plain": [
       "\"\\n-- Куда летали и American Airlines, и Delta\\nSELECT dest \\nFROM flights\\nWHERE carrier = 'AA'\\nINTERSECT\\nSELECT dest \\nFROM flights \\nWHERE carrier = 'DL';\\n\""
      ]
     },
     "execution_count": 17,
     "metadata": {},
     "output_type": "execute_result"
    }
   ],
   "source": [
    "aa_dests = set(flights_df.loc[flights_df['carrier']==\"AA\", \"dest\"])\n",
    "dl_dests = set(flights_df.loc[flights_df['carrier']==\"DL\", \"dest\"])\n",
    "\n",
    "intersect = aa_dests & dl_dests\n",
    "print(intersect)\n",
    "'''\n",
    "если делать через .isin(), то сначала строится булевый массив (True/False для каждой строки),\n",
    "потом берутся True и сравниваются с другим массивом. Это долго, поэтому лучше через set() & set()\n",
    "\n",
    "set() & set() - сразу пересечение как в INTERSECT (SQL)\n",
    "'''\n",
    "\n",
    "'''\n",
    "-- Куда летали и American Airlines, и Delta\n",
    "SELECT dest \n",
    "FROM flights\n",
    "WHERE carrier = 'AA'\n",
    "INTERSECT\n",
    "SELECT dest \n",
    "FROM flights \n",
    "WHERE carrier = 'DL';\n",
    "'''"
   ]
  },
  {
   "cell_type": "code",
   "execution_count": 21,
   "id": "df0d4c4f",
   "metadata": {},
   "outputs": [
    {
     "name": "stdout",
     "output_type": "stream",
     "text": [
      "{'GSO', 'MEM', 'PHX', 'TPA', 'XNA', 'MDW', 'SDF', 'RDU', 'LGB', 'DCA', 'GSP', 'CAK', 'SMF', 'PHL', 'BNA', 'SAT', 'RSW', 'MCI', 'IND', 'PIT', 'DFW', 'LAS', 'PVD', 'SAV', 'CRW', 'OAK', 'STT', 'ABQ', 'CMH', 'GRR', 'DEN', 'ANC', 'BGR', 'BHM', 'PWM', 'CHO', 'ACK', 'MKE', 'MIA', 'PSE', 'IAH', 'IAD', 'TYS', 'STL', 'LAX', 'SFO', 'AVL', 'BTV', 'SRQ', 'SLC', 'BZN', 'SJU', 'MHT', 'SEA', 'BDL', 'MYR', 'AUS', 'BOS', 'ALB', 'TUL', 'OKC', 'TVC', 'JAC', 'FLL', 'MCO', 'BUF', 'BUR', 'HOU', 'MVY', 'SAN', 'PDX', 'ATL', 'CVG', 'OMA', 'MSN', 'ORD', 'BWI', 'EGE', 'CLT', 'MSP', 'DAY', 'DSM', 'ORF', 'JAX', 'CHS', 'MSY', 'HNL', 'CAE', 'EYW', 'CLE', 'RIC', 'BQN', 'ILM', 'SNA', 'DTW', 'ROC', 'PBI', 'SJC', 'SYR'}\n"
     ]
    },
    {
     "data": {
      "text/plain": [
       "'\\nSELECT dest\\nFROM flights\\nEXCEPT\\nSELECT origin\\nFROM flights;\\n'"
      ]
     },
     "execution_count": 21,
     "metadata": {},
     "output_type": "execute_result"
    }
   ],
   "source": [
    "#EXCEPT\n",
    "# В какие аэропорты прилетают, но из которых НЕ вылетают?\n",
    "dest_set = set(flights_df['dest'])\n",
    "origin_set = set(flights_df['origin'])\n",
    "\n",
    "result = dest_set - origin_set\n",
    "print(result)\n",
    "\n",
    "'''\n",
    "SELECT dest\n",
    "FROM flights\n",
    "EXCEPT\n",
    "SELECT origin\n",
    "FROM flights;\n",
    "'''"
   ]
  },
  {
   "cell_type": "code",
   "execution_count": 20,
   "id": "41e8e955",
   "metadata": {},
   "outputs": [
    {
     "name": "stdout",
     "output_type": "stream",
     "text": [
      "{'LGA', 'EWR', 'JFK'}\n"
     ]
    }
   ],
   "source": [
    "# Из каких каких аэропортов вылетают, но в которые НЕ прилетают?\n",
    "\n",
    "dest_set = set(flights_df['dest'])\n",
    "origin_set = set(flights_df['origin'])\n",
    "\n",
    "result = origin_set - dest_set\n",
    "print(result)\n"
   ]
  },
  {
   "cell_type": "code",
   "execution_count": null,
   "id": "7b950830",
   "metadata": {},
   "outputs": [
    {
     "name": "stdout",
     "output_type": "stream",
     "text": [
      "998 самолётов ни разу не летали\n",
      "{'N563AS', 'N666UA', 'N959DN', 'N254WN', 'N449US', 'N911DA', 'N516LR', 'N126UW', 'N523SW', 'N828MH', 'N252WN', 'N561UW', 'N8605E', 'N184AT', 'N383AA', 'N659UA', 'N8620H', 'N672UA', 'N75432', 'N390SW', 'N685SW', 'N601WN', 'N768SK', 'N8896A', 'N284AT', 'N338AT', 'N627AW', 'N269WN', 'N698DL', 'N636WN', 'N643DL', 'N944AT', 'N910DN', 'N435AS', 'N568AS', 'N398SW', 'N557AS', 'N676UA', 'N6710E', 'N797SK', 'N8618N', 'N534AS', 'N943AT', 'N552AA', 'N103US', 'N531US', 'N957DN', 'N910FJ', 'N978SW', 'N658UA', 'N658DL', 'N905DA', 'N805AY', 'N826AW', 'N318AS', 'N444US', 'N870AS', 'N529VA', 'N641SW', 'N480AA', 'N609SW', 'N545UW', 'N901WN', 'N392SW', 'N556NW', 'N31131', 'N710SK', 'N555AY', 'N3755D', 'N68807', 'N432US', 'N521LR', 'N654SW', 'N972AT', 'N440US', 'N398AA', 'N485WN', 'N787SA', 'N619SW', 'N738CB', 'N764SW', 'N27205', 'N902FJ', 'N671UA', 'N835MH', 'N8317M', 'N518LR', 'N830AW', 'N683BR', 'N371SW', 'N7726A', 'N975AT', 'N858AS', 'N660UA', 'N345NW', 'N378SW', 'N701SK', 'N929WN', 'N770SA', 'N617SW', 'N1608', 'N173DZ', 'N653UA', 'N760SW', 'N224WN', 'N636DL', 'N220WN', 'N594NW', 'N944DN', 'N803SK', 'N659AW', 'N121UW', 'N415WN', 'N993AT', 'N703SW', 'N597AS', 'N637DL', 'N659SW', 'N249WN', 'N295AT', 'N176AT', 'N347SW', 'N323AS', 'N489AA', 'N615DL', 'N934DL', 'N907DA', 'N767NC', 'N532US', 'N652UA', 'N57864', 'N299AT', 'N587AS', 'N37281', 'N913JB', 'N8943A', 'N8623A', 'N491AA', 'N331NB', 'N492AA', 'N36476', 'N416WN', 'N45905', 'N340LV', 'N437WN', 'N754SW', 'N128UW', 'N357SW', 'N8970D', 'N923DN', 'N752US', 'N278AT', 'N705SW', 'N431AS', 'N8615E', 'N613SW', 'N812AW', 'N556AS', 'N368SW', 'N68159', 'N824AS', 'N502MJ', 'N523US', 'N26215', 'N668UA', 'N8315C', 'N650SW', 'N549AS', 'N563UW', 'N6716C', 'N147PQ', 'N253WN', 'N760SK', 'N7715E', 'N453WN', 'N838MH', 'N108UW', 'N295PQ', 'N326AT', 'N255WN', 'N646UA', 'N547UA', 'N907DL', 'N825AW', 'N644SW', 'N646DL', 'N809AW', 'N206FR', 'N453UW', 'N8319F', 'N505AA', 'N408WN', 'N718SW', 'N663SW', 'N8515F', 'N8602F', 'N899AT', 'N603SW', 'N26906', 'N396SW', 'N8313F', 'N282WN', 'N394DL', 'N8302F', 'N230WN', 'N78866', 'N670DN', 'N317WN', 'N279AT', 'N57016', 'N902DA', 'N700UW', 'N625AA', 'N370AA', 'N988DL', 'N520AS', 'N804AW', 'N979AT', 'N6704Z', 'N774NC', 'N613AA', 'N939LR', 'N579AS', 'N910FR', 'N789SK', 'N630VA', 'N623SW', 'N572UW', 'N8603F', 'N152DL', 'N641UA', 'N1200K', 'N548UA', 'N343NB', 'N8327A', 'N562AS', 'N959AT', 'N610WN', 'N921AT', 'N852VA', 'N505MJ', 'N661UA', 'N548US', 'N708SW', 'N414WN', 'N552AS', 'N953DN', 'N136EV', 'N272AT', 'N907WN', 'N642AA', 'N670SW', 'N789SW', 'N198UW', 'N602SW', 'N181PQ', 'N57863', 'N513MJ', 'N717SA', 'N959WN', 'N518AS', 'N537AS', 'N56859', 'N258WN', 'N78509', 'N930AT', 'N794SW', 'N655DL', 'N8541D', 'N508AA', 'N287AT', 'N814AW', 'N175DZ', 'N510MJ', 'N955DN', 'N587NW', 'N352SW', 'N526SW', 'N362NW', 'N296WN', 'N307AS', 'N214WN', 'N912FJ', 'N519US', 'N952WN', 'N697SW', 'N651SW', 'N8488D', 'N930LR', 'N57857', 'N309AT', 'N281AT', 'N245WN', 'N683DA', 'N478WN', 'N136DL', 'N625AW', 'N295WN', 'N543US', 'N505SW', 'N634SW', 'N635SW', 'N464UA', 'N525AS', 'N276AT', 'N645SW', 'N536AS', 'N623DL', 'N362SW', 'N768SW', 'N575AA', 'N303AS', 'N551AA', 'N813SK', 'N649UA', 'N431WN', 'N361SW', 'N77012', 'N7812G', 'N533AS', 'N461WN', 'N934FJ', 'N948WN', 'N842MH', 'N834MH', 'N552UA', 'N660DL', 'N802AW', 'N217JC', 'N450UW', 'N916DN', 'N782NC', 'N265WN', 'N389AA', 'N525VA', 'N713SW', 'N306AS', 'N406US', 'N522LR', 'N943FR', 'N509SW', 'N772SK', 'N626AW', 'N778SK', 'N949AT', 'N454WN', 'N532AS', 'N486AA', 'N935LR', 'N758SW', 'N181DN', 'N859AS', 'N848AS', 'N363SW', 'N833AY', 'N8322X', 'N746SK', 'N506AS', 'N383SW', 'N929LR', 'N380HA', 'N584AS', 'N409US', 'N8688C', 'N633SW', 'N475WN', 'N965DN', 'N960DN', 'N1604R', 'N361VA', 'N434US', 'N177DZ', 'N656SW', 'N980AT', 'N8613K', 'N525SW', 'N677UA', 'N946WN', 'N621SW', 'N725SW', 'N821AW', 'N8924B', 'N259WN', 'N933AT', 'N68805', 'N529AS', 'N734SA', 'N915WN', 'N385DN', 'N522US', 'N845MH', 'N14629', 'N375SW', 'N283WN', 'N123UW', 'N268WN', 'N309AS', 'N615SW', 'N951DL', 'N913DN', 'N169AT', 'N717JL', 'N799SW', 'N409WN', 'N137DL', 'N911FJ', 'N628SW', 'N583AS', 'N724UW', 'N655WN', 'N900EV', 'N173AT', 'N694DL', 'N8301J', 'N362AA', 'N812AY', 'N386SW', 'N903FJ', 'N558AA', 'N949WN', 'N182DN', 'N648SW', 'N607LR', 'N423WN', 'N452UW', 'N8444F', 'N435WN', 'N836AW', 'N288WN', 'N906WN', 'N390AA', 'N496AA', 'N839MH', 'N673UA', 'N78003', 'N171DN', 'N493WN', 'N647UA', 'N631AW', 'N917DN', 'N27477', 'N361AA', 'N356SW', 'N59053', 'N844MH', 'N474WN', 'N761RR', 'N585AS', 'N442AS', 'N8921B', 'N504MJ', 'N826MH', 'N856NW', 'N373AA', 'N927AT', 'N8305E', 'N947WN', 'N941UW', 'N320AS', 'N570AS', 'N516AS', 'N777UA', 'N964WN', 'N508AS', 'N813AY', 'N436AA', 'N553NW', 'N235WN', 'N738US', 'N365NW', 'N963DN', 'N766SK', 'N937AT', 'N8303R', 'N593AS', 'N393HA', 'N513AS', 'N355SW', 'N172DN', 'N746SW', 'N940WN', 'N8604K', 'N360SW', 'N724SW', 'N382SW', 'N459WN', 'N102UW', 'N827AW', 'N651UA', 'N8606C', 'N7713A', 'N278WN', 'N1609', 'N172DZ', 'N925WN', 'N602XJ', 'N530AS', 'N476WN', 'N605SW', 'N728SK', 'N409AS', 'N794SK', 'N524SW', 'N658SW', 'N834AW', 'N837AW', 'N707SA', 'N124US', 'N8609A', 'N827MH', 'N893AT', 'N465WN', 'N732SW', 'N632SW', 'N612SW', 'N682DA', 'N817AW', 'N6702', 'N733SA', 'N906DA', 'N391SW', 'N851NW', 'N8674A', 'N571UW', 'N178DN', 'N927LR', 'N913FJ', 'N406WN', 'N245AY', 'N921FJ', 'N391AA', 'N455UW', 'N200PQ', 'N14186', 'N8598B', 'N260WN', 'N941FR', 'N999DN', 'N221FR', 'N514MJ', 'N560AS', 'N568UW', 'N604SW', 'N905DE', 'N508SW', 'N8321D', 'N639SW', 'N719SW', 'N8888D', 'N8316H', 'N422WN', 'N336AT', 'N281WN', 'N970AT', 'N831AW', 'N517AS', 'N603AT', 'N600WN', 'N647SW', 'N425LV', 'N660SW', 'N793SA', 'N801AW', 'N512SW', 'N938LR', 'N772SW', 'N854NW', 'N586AS', 'N956LR', 'N777QC', 'N945WN', 'N580UA', 'N618AA', 'N8320J', 'N810AW', 'N357NW', 'N358SW', 'N215WN', 'N517UA', 'N820AW', 'N881AS', 'N397SW', 'N669SW', 'N380SW', 'N508AY', 'N223WN', 'N244WN', 'N509MJ', 'N687SW', 'N608SW', 'N614SW', 'N616SW', 'N662SW', 'N776SK', 'N435AA', 'N350NA', 'N655UA', 'N702SK', 'N193DN', 'N441WN', 'N8587E', 'N8600F', 'N8836A', 'N170US', 'N503US', 'N939DN', 'N162PQ', 'N937DN', 'N355AA', 'N394AA', 'N908WN', 'N948FR', 'N824AW', 'N547US', 'N740SK', 'N507US', 'N771SA', 'N433US', 'N514SW', 'N928DN', 'N674UA', 'N395HA', 'N966AT', 'N515MJ', 'N922EV', 'N924AT', 'N1607B', 'N360AA', 'N57870', 'N637SW', 'N176DN', 'N912DN', 'N57868', 'N539US', 'N487WN', 'N401WN', 'N919FJ', 'N399WN', 'N514AS', 'N607SW', 'N363AA', 'N379AA', 'N8758D', 'N694SW', 'N384SW', 'N442WN', 'N904DA', 'N815AW', 'N762NC', 'N289CT', 'N8933B', 'N796SW', 'N178DZ', 'N964DN', 'N8608N', 'N273AT', 'N642AW', 'N206UA', 'N642WN', 'N455WN', 'N936DL', 'N8745B', 'N8775A', 'N962DN', 'N819AW', 'N693CA', 'N709UW', 'N589AS', 'N66803', 'N527SW', 'N958DN', 'N781WN', 'N170PQ', 'N670US', 'N613DL', 'N7738A', 'N350SW', 'N705SK', 'N369SW', 'N994AT', 'N785SK', 'N736SA', 'N653SW', 'N410WN', 'N693SW', 'N773SA', 'N787UA', 'N207WN', 'N175DN', 'N1610D', 'N929AT', 'N747SA', 'N831MH', 'N8672A', 'N558AS', 'N608DA', 'N862DA', 'N8837B', 'N953WN', 'N554WN', 'N840MH', 'N506MJ', 'N528AS', 'N243WN', 'N965AT', 'N955AT', 'N8828D', 'N739GB', 'N270WN', 'N452UA', 'N548UW', 'N654UA', 'N446WN', 'N7724A', 'N1611B', 'N240AT', 'N57869', 'N913EV', 'N961DN', 'N790SK', 'N642DL', 'N526AS', 'N837MH', 'N373SW', 'N640DL', 'N982AT', 'N68801', 'N490WN', 'N809NW', 'N36472', 'N786SW', 'N486WN', 'N445WN', 'N522SW', 'N668DN', 'N27901', 'N835AW', 'N354SW', 'N381HA', 'N750AT', 'N912WN', 'N966DL', 'N452WN', 'N503MJ', 'N871AS', 'N521AA', 'N73860', 'N641DL', 'N8516C', 'N917WN', 'N433AS', 'N371NW', 'N684WN', 'N77865', 'N8325D', 'N963WN', 'N7744A', 'N915FJ', 'N8329B', 'N8611F', 'N825MH', 'N12167', 'N511SW', 'N186DN', 'N495WN', 'N8944B', 'N169DZ', 'N364SW', 'N8307K', 'N600TR', 'N569AS', 'N757AT', 'N250WN', 'N8326F', 'N189DN', 'N951WN', 'N427SW', 'N933LR', 'N156UW', 'N675MC', 'N8314L', 'N925FJ', 'N693DL', 'N840AS', 'N986DL', 'N8839E', 'N256WN', 'N821AY', 'N726SK', 'N8771A', 'N76062', 'N155DL', 'N701GS', 'N932DN', 'N780SW', 'N863DA', 'N403AS', 'N906AT', 'N941DN', 'N439US', 'N828UA', 'N68802', 'N344SW', 'N460UW', 'N121DE', 'N228UA', 'N419US', 'N291AT', 'N8612K', 'N420UA', 'N297PQ', 'N8913A', 'N20904', 'N242WN', 'N932LR', 'N569UW', 'N315AS', 'N274WN', 'N302AS', 'N904FJ', 'N905FJ', 'N37456', 'N633AW', 'N665UA', 'N928EV', 'N843MH', 'N476AA', 'N187PQ', 'N907JB', 'N903DA', 'N908FJ', 'N914FJ', 'N37471', 'N849UA', 'N828AW', 'N606SW', 'N8308K', 'N706SW', 'N143DA', 'N841AY', 'N681DA', 'N639DL', 'N346SW', 'N353SW', 'N75851', 'N971DL', 'N564AS', 'N921WN', 'N986AT', 'N644UA', 'N667UA', 'N943DN', 'N7702A', 'N566AS', 'N379SW', 'N521SW', 'N385HA', 'N241WN', 'N57862', 'N508MJ', 'N536AA', 'N791SW', 'N78013', 'N726SW', 'N372AA', 'N344AA', 'N359AA', 'N64809', 'N333NW', 'N538AS', 'N430US', 'N376SW', 'N565AS', 'N365SW', 'N240WN', 'N201LV', 'N533US', 'N592AS', 'N463UA', 'N330AT', 'N918DH', 'N643SW', 'N510SW', 'N289AT', 'N621VA', 'N790SW', 'N953FR', 'N921DN', 'N625VA', 'N305AS', 'N656UA', 'N349NW', 'N846AS', 'N6713Y', 'N77867', 'N297WN', 'N298WN', 'N367SW', 'N315AT', 'N395SW', 'N622AW', 'N559AS', 'N624AW', 'N550NW', 'N359NW', 'N388SW', 'N541US', 'N704US', 'N7746C', 'N654DL', 'N915DN', 'N542US', 'N535AS', 'N673DL', 'N960WN', 'N569UA', 'N370SW', 'N372SW', 'N7735A', 'N638DL', 'N779NC', 'N438US', 'N8619F', 'N345SA', 'N595NW', 'N657SW', 'N515SW', 'N780SK', 'N438WN', 'N118US', 'N922FJ', 'N521US', 'N347AA', 'N520AA', 'N134EV', 'N920FJ', 'N663UA', 'N657UA', 'N615AA', 'N945DN', 'N914DN', 'N205FR', 'N285AT', 'N261WN', 'N299WN', 'N930WN', 'N632AW', 'N565AA', 'N590NW', 'N865DA', 'N153DL', 'N478AA', 'N549US', 'N652SW', 'N527AS', 'N534US', 'N383HA', 'N929DN', 'N75861', 'N427US', 'N290WN', 'N8614M', 'N829MH', 'N463WN', 'N807AW', 'N560AA', 'N678CA', 'N940UW', 'N525US', 'N624SW', 'N12109', 'N762SK', 'N8969A', 'N247WN', 'N441US', 'N531AS', 'N519AA', 'N637VA', 'N602DL', 'N841MH', 'N175AT', 'N8974C', 'N926EV', 'N8733G', 'N430WN', 'N961WN', 'N903WN', 'N664DN', 'N909FJ', 'N596AS', 'N594AS', 'N638SW', 'N386AA', 'N386HA', 'N570UW', 'N956DN', 'N744SW', 'N1613B'}\n"
     ]
    },
    {
     "data": {
      "text/plain": [
       "'\\nSELECT tailnum \\nFROM planes\\nEXCEPT\\nSELECT tailnum \\nFROM flights \\nWHERE tailnum IS NOT NULL; -- 998 самолётов ни разу не летали\\n'"
      ]
     },
     "execution_count": 24,
     "metadata": {},
     "output_type": "execute_result"
    }
   ],
   "source": [
    "#Самолеты, которые есть в регистре, но никогда не летали\n",
    "pl_tail = set(planes_df['tailnum'])\n",
    "fl_tail = set(flights_df['tailnum'].dropna())\n",
    "\n",
    "result = pl_tail - fl_tail\n",
    "\n",
    "print(len(result), \"самолётов ни разу не летали\")\n",
    "print(result)\n",
    "'''\n",
    "SELECT tailnum \n",
    "FROM planes\n",
    "EXCEPT\n",
    "SELECT tailnum \n",
    "FROM flights \n",
    "WHERE tailnum IS NOT NULL; -- 998 самолётов ни разу не летали\n",
    "'''"
   ]
  }
 ],
 "metadata": {
  "kernelspec": {
   "display_name": "Python 3",
   "language": "python",
   "name": "python3"
  },
  "language_info": {
   "codemirror_mode": {
    "name": "ipython",
    "version": 3
   },
   "file_extension": ".py",
   "mimetype": "text/x-python",
   "name": "python",
   "nbconvert_exporter": "python",
   "pygments_lexer": "ipython3",
   "version": "3.12.5"
  }
 },
 "nbformat": 4,
 "nbformat_minor": 5
}
