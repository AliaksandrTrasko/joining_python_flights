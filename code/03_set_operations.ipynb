{
 "cells": [
  {
   "cell_type": "code",
   "execution_count": 1,
   "id": "cbed1d78",
   "metadata": {},
   "outputs": [],
   "source": [
    "import pandas as pd\n",
    "import numpy as np\n",
    "from pathlib import Path"
   ]
  },
  {
   "cell_type": "code",
   "execution_count": 2,
   "id": "ec65adec",
   "metadata": {},
   "outputs": [
    {
     "data": {
      "text/plain": [
       "\"\\nConvert the 'time_hour' column in flights_df and weather_df to datetime64[ns] type, as it was 'object'.\\nThis was necessary because a merge on date/time types was not possible otherwise.\\n\\nThe dtype for flights_df was datetime64[ns], while for weather_df it was datetime64[ns, UTC]. Removed the UTC timezone.\\n\""
      ]
     },
     "execution_count": 2,
     "metadata": {},
     "output_type": "execute_result"
    }
   ],
   "source": [
    "basic_directory = Path.cwd()                            # directory of the file - folder \"code\"\n",
    "data_directory = basic_directory.parent / \"data\"        # go one level up and choose folder \"data\"\n",
    "\n",
    "# It's a common convention to add a _df suffix to a variable name to indicate it's a DataFrame.\n",
    "flights_df  = pd.read_csv(data_directory / \"flights.csv\")\n",
    "airlines_df = pd.read_csv(data_directory / \"airlines.csv\")\n",
    "airports_df = pd.read_csv(data_directory / \"airports.csv\")\n",
    "planes_df   = pd.read_csv(data_directory / \"planes.csv\")\n",
    "weather_df  = pd.read_csv(data_directory / \"weather.csv\")\n",
    "\n",
    "# Convert to datetime\n",
    "flights_df['time_hour'] = pd.to_datetime(flights_df['time_hour'])\n",
    "weather_df['time_hour'] = pd.to_datetime(weather_df['time_hour'])\n",
    "\n",
    "# Remove timezone\n",
    "weather_df['time_hour'] = weather_df['time_hour'].dt.tz_localize(None)\n",
    "\n",
    "'''\n",
    "Convert the 'time_hour' column in flights_df and weather_df to datetime64[ns] type, as it was 'object'.\n",
    "This was necessary because a merge on date/time types was not possible otherwise.\n",
    "\n",
    "The dtype for flights_df was datetime64[ns], while for weather_df it was datetime64[ns, UTC]. Removed the UTC timezone.\n",
    "'''"
   ]
  },
  {
   "cell_type": "code",
   "execution_count": null,
   "id": "6744d7da",
   "metadata": {},
   "outputs": [
    {
     "name": "stdout",
     "output_type": "stream",
     "text": [
      "                             name         entity_type\n",
      "0               Endeavor Air Inc.      airlines_vowel\n",
      "1          American Airlines Inc.      airlines_vowel\n",
      "2            Alaska Airlines Inc.      airlines_vowel\n",
      "3                 JetBlue Airways  airlines_consonant\n",
      "4            Delta Air Lines Inc.  airlines_consonant\n",
      "5        ExpressJet Airlines Inc.      airlines_vowel\n",
      "6          Frontier Airlines Inc.  airlines_consonant\n",
      "7     AirTran Airways Corporation      airlines_vowel\n",
      "8          Hawaiian Airlines Inc.  airlines_consonant\n",
      "9                       Envoy Air      airlines_vowel\n",
      "10          SkyWest Airlines Inc.  airlines_consonant\n",
      "11          United Air Lines Inc.      airlines_vowel\n",
      "12                US Airways Inc.      airlines_vowel\n",
      "13                 Virgin America  airlines_consonant\n",
      "14         Southwest Airlines Co.  airlines_consonant\n",
      "15              Lansdowne Airport            airports\n",
      "16  Moton Field Municipal Airport            airports\n",
      "17            Schaumburg Regional            airports\n",
      "18                Randall Airport            airports\n",
      "19          Jekyll Island Airport            airports\n",
      "20                        EMBRAER        manufacturer\n",
      "21               AIRBUS INDUSTRIE        manufacturer\n",
      "22               AIRBUS INDUSTRIE        manufacturer\n",
      "23               AIRBUS INDUSTRIE        manufacturer\n",
      "24                        EMBRAER        manufacturer\n",
      "(25, 2)\n"
     ]
    }
   ],
   "source": [
    "# Airlines with CASE logic\n",
    "\n",
    "airlines_part = (\n",
    "    airlines_df[['name']]\n",
    "    .head(15)\n",
    "    .assign(\n",
    "        entity_type=lambda df: np.where(\n",
    "            df['name'].str[0].str.upper().isin(['A','E','I','O','U']),  # .str[0] - takes the first letter of each airline name\n",
    "            'airlines_vowel',                                           # .str.upper() - capitalizes this letter (so that \"A\" and \"a\" are not different)\n",
    "            'airlines_consonant'                                        # .isin([‘A’,'E',‘I’,'O',‘U’]) - checks whether the word begins with a vowel\n",
    "        )\n",
    "    )\n",
    ")\n",
    "\n",
    "airports_part = (\n",
    "    airports_df[['name']]\n",
    "    .head(5)\n",
    "    .assign(entity_type='airports')\n",
    ")\n",
    "\n",
    "planes_part = (\n",
    "    planes_df[['manufacturer']]\n",
    "    .head(5)\n",
    "    .rename(columns={'manufacturer':'name'})    # Renamed 'manufacturer' to 'name' so that all DataFrames have a common column for names\n",
    "    .assign(entity_type='manufacturer')\n",
    ")\n",
    "\n",
    "union_all = pd.concat([airlines_part, airports_part, planes_part], ignore_index=True)\n",
    "print(union_all)\n",
    "print(union_all.shape)"
   ]
  },
  {
   "cell_type": "code",
   "execution_count": 11,
   "id": "3569063e",
   "metadata": {},
   "outputs": [
    {
     "name": "stdout",
     "output_type": "stream",
     "text": [
      "['B6' 'AA' 'UA' 'DL' '9E' 'US' 'MQ' 'EV']\n",
      "8\n"
     ]
    },
    {
     "data": {
      "text/plain": [
       "'\\n# An alternative to .isin, which is more convenient here.\\n\\njfk = set(flights_df.loc[flights_df[\"origin\"]==\"JFK\", \"carrier\"])\\nlga = set(flights_df.loc[flights_df[\"origin\"]==\"LGA\", \"carrier\"])\\newr = set(flights_df.loc[flights_df[\"origin\"]==\"EWR\", \"carrier\"])\\n\\n# The intersection of three sets\\nintersect_carriers = jfk & lga & ewr\\nprint(intersect_carriers)\\n\\n'"
      ]
     },
     "execution_count": 11,
     "metadata": {},
     "output_type": "execute_result"
    }
   ],
   "source": [
    "# Airlines that fly from all three NYC airports\n",
    "\n",
    "intersect = flights_df.loc[flights_df[\"origin\"]==\"JFK\", \"carrier\"] \\\n",
    "    .isin(flights_df.loc[flights_df[\"origin\"]==\"LGA\", \"carrier\"]) \\\n",
    "    & flights_df.loc[flights_df[\"origin\"]==\"JFK\", \"carrier\"] \\\n",
    "    .isin(flights_df.loc[flights_df[\"origin\"]==\"EWR\", \"carrier\"])\n",
    "\n",
    "result = flights_df.loc[flights_df[\"origin\"]==\"JFK\", \"carrier\"][intersect].unique()\n",
    "\n",
    "print(result)\n",
    "print(len(result))\n",
    "\n",
    "# flights_df.loc[flights_df[\"origin\"]==\"JFK\", \"carrier\"] - takes the \"carrier\" column from rows where [\"origin\"]==\"JFK\"\n",
    "# .isin(flights_df.loc[flights_df[\"origin\"]==\"LGA\", \"carrier\"]) - returns a True/False array where \"carrier\" from [\"origin\"]==\"JFK\" also appears among [\"origin\"]==\"LGA\"\n",
    "# Repeated once more, but with \"JFK\" and \"EWR\"\n",
    "\n",
    "# flights_df.loc[flights_df[\"origin\"]==\"JFK\", \"carrier\"][intersect].unique()\n",
    "# Again, takes the carriers from JFK\n",
    "# [intersect] - filters only the rows where intersect == True\n",
    "# .unique() - returns the unique carrier values (it is used to avoid repeating the airline names multiple times)\n",
    "\n",
    "'''\n",
    "# flights_df[\"origin\"]==\"JFK\" - creates a boolean array (True/False) for all values in 'origin'. True if \"JFK\".\n",
    "# flights_df.loc[...] - selects only those rows where flights_df[\"origin\"]==\"JFK\" is True.\n",
    "# ..., \"carrier\"] - returns only the \"carrier\" column from the selection.\n",
    "\n",
    "# .isin() checks if a value is present in another list (e.g., if a carrier from JFK is also in LGA).\n",
    "\n",
    "# .unique() is used to avoid repeating the airline names multiple times.\n",
    "'''\n",
    "\n",
    "'''\n",
    "# An alternative to .isin, which is more convenient here.\n",
    "\n",
    "jfk = set(flights_df.loc[flights_df[\"origin\"]==\"JFK\", \"carrier\"])\n",
    "lga = set(flights_df.loc[flights_df[\"origin\"]==\"LGA\", \"carrier\"])\n",
    "ewr = set(flights_df.loc[flights_df[\"origin\"]==\"EWR\", \"carrier\"])\n",
    "\n",
    "# The intersection of three sets\n",
    "intersect_carriers = jfk & lga & ewr\n",
    "print(intersect_carriers)\n",
    "\n",
    "'''\n"
   ]
  },
  {
   "cell_type": "markdown",
   "id": "0d55da45",
   "metadata": {},
   "source": [
    "**Key Finding:** \n",
    "Only 8 of the 16 airlines listed in the database operate flights from all three major New York airports. \n",
    "This suggests that operating from all three major New York airports is relatively uncommon among airlines"
   ]
  },
  {
   "cell_type": "code",
   "execution_count": 7,
   "id": "3c632f5f",
   "metadata": {},
   "outputs": [
    {
     "name": "stdout",
     "output_type": "stream",
     "text": [
      "{'MIA', 'FLL', 'LAX', 'BOS', 'MCO', 'SFO', 'AUS', 'PBI', 'STT', 'SEA', 'TPA', 'SAN', 'LAS', 'SJU'}\n",
      "['BOS' 'SJU' 'MIA' 'SFO' 'LAX' 'STT' 'MCO' 'AUS' 'LAS' 'SEA' 'SAN' 'FLL'\n",
      " 'TPA' 'PBI']\n",
      "True\n"
     ]
    }
   ],
   "source": [
    "# Destinations served by both American Airlines and Delta\n",
    "\n",
    "aa_dests = set(flights_df.loc[flights_df['carrier']==\"AA\", \"dest\"])\n",
    "dl_dests = set(flights_df.loc[flights_df['carrier']==\"DL\", \"dest\"])\n",
    "intersect = aa_dests & dl_dests\n",
    "print(intersect)\n",
    "# The data type is set, shown with {} brackets\n",
    "# Arbitrary output order\n",
    "\n",
    "intersect1 = flights_df.loc[flights_df['carrier']==\"AA\", \"dest\"] \\\n",
    "            .isin(flights_df.loc[flights_df['carrier']==\"DL\", \"dest\"])\n",
    "intersect1 = flights_df.loc[flights_df['carrier']==\"AA\", \"dest\"][intersect1].unique()\n",
    "print(intersect1)\n",
    "# The data type is numpy.ndarray, shown with [] brackets\n",
    "# Keeps the order of the source data\n",
    "\n",
    "print(set(intersect1) == intersect)\n",
    "# Different ordering rules (set() -- arbitrary order, .unique() -- original order)\n",
    "# The values are identical - only the display order changes"
   ]
  },
  {
   "cell_type": "markdown",
   "id": "79f66476",
   "metadata": {},
   "source": [
    "**Key Finding**: \n",
    "American Airlines (AA) and Delta Air Lines (DL) serve 14 common destinations\n",
    "\n",
    "**Insight**:\n",
    "This significant route overlap between two major airlines indicates intense competition on popular routes including transcontinental (LAX, SFO, SEA) and Florida (MIA, FLL, MCO) markets"
   ]
  },
  {
   "cell_type": "code",
   "execution_count": 21,
   "id": "df0d4c4f",
   "metadata": {},
   "outputs": [
    {
     "name": "stdout",
     "output_type": "stream",
     "text": [
      "99\n",
      "{'TYS', 'DFW', 'JAX', 'CHO', 'SAV', 'JAC', 'ORD', 'ANC', 'IAH', 'ALB', 'MHT', 'GSP', 'RSW', 'CLE', 'GRR', 'SJC', 'MVY', 'CVG', 'BDL', 'SNA', 'DTW', 'EYW', 'PHX', 'ACK', 'LAS', 'IAD', 'SJU', 'SLC', 'PSE', 'MKE', 'AUS', 'CAE', 'EGE', 'TVC', 'MIA', 'CRW', 'XNA', 'BOS', 'ATL', 'TUL', 'MCI', 'MDW', 'BHM', 'STL', 'GSO', 'ILM', 'MEM', 'BTV', 'PDX', 'PHL', 'MSN', 'CHS', 'BQN', 'HNL', 'PVD', 'FLL', 'LAX', 'PIT', 'ORF', 'SMF', 'MSY', 'DCA', 'BUR', 'OMA', 'OKC', 'PWM', 'DAY', 'HOU', 'AVL', 'PBI', 'SEA', 'CMH', 'BZN', 'SAN', 'SDF', 'OAK', 'LGB', 'MYR', 'CLT', 'BGR', 'MCO', 'RDU', 'MSP', 'TPA', 'BWI', 'DSM', 'STT', 'SAT', 'SRQ', 'BUF', 'SYR', 'IND', 'SFO', 'DEN', 'BNA', 'CAK', 'RIC', 'ROC', 'ABQ'}\n"
     ]
    },
    {
     "data": {
      "text/plain": [
       "'\\nSELECT dest\\nFROM flights\\nEXCEPT\\nSELECT origin\\nFROM flights;\\n'"
      ]
     },
     "execution_count": 21,
     "metadata": {},
     "output_type": "execute_result"
    }
   ],
   "source": [
    "#EXCEPT\n",
    "# Which airports are arrival destinations but never departure origins?\n",
    "\n",
    "dest_set = set(flights_df['dest'])\n",
    "origin_set = set(flights_df['origin'])\n",
    "\n",
    "result = dest_set - origin_set\n",
    "\n",
    "print(len(result))\n",
    "print(result)\n",
    "'''\n",
    "SELECT dest\n",
    "FROM flights\n",
    "EXCEPT\n",
    "SELECT origin\n",
    "FROM flights;\n",
    "'''"
   ]
  },
  {
   "cell_type": "code",
   "execution_count": 26,
   "id": "41e8e955",
   "metadata": {},
   "outputs": [
    {
     "name": "stdout",
     "output_type": "stream",
     "text": [
      "{'JFK', 'EWR', 'LGA'}\n"
     ]
    }
   ],
   "source": [
    "# Which airports are departure origins but never arrival destinations?\n",
    "\n",
    "dest_set = set(flights_df['dest'])\n",
    "origin_set = set(flights_df['origin'])\n",
    "\n",
    "result = origin_set - dest_set\n",
    "print(result)\n",
    "# So it means all flights are from NYC to other US cities"
   ]
  },
  {
   "cell_type": "markdown",
   "id": "f2390f68",
   "metadata": {},
   "source": [
    "**Key Finding:**\n",
    "This shows that the database being analyzed collected flight statistics only from three New York airports (3) to other US airports (99)   "
   ]
  },
  {
   "cell_type": "code",
   "execution_count": 13,
   "id": "7b950830",
   "metadata": {},
   "outputs": [
    {
     "name": "stdout",
     "output_type": "stream",
     "text": [
      "998 aircraft have never flown\n",
      "{'N7724A', 'N986AT', 'N205FR', 'N782NC', 'N452UW', 'N944DN', 'N533AS', 'N245AY', 'N8974C', 'N431WN', 'N7735A', 'N845MH', 'N602DL', 'N6710E', 'N388SW', 'N508AA', 'N804AW', 'N521AA', 'N8828D', 'N8924B', 'N8613K', 'N922FJ', 'N529AS', 'N669SW', 'N8326F', 'N921DN', 'N8921B', 'N965DN', 'N640DL', 'N638DL', 'N943AT', 'N693CA', 'N295WN', 'N585AS', 'N8672A', 'N913DN', 'N309AS', 'N955AT', 'N747SA', 'N178DN', 'N557AS', 'N828MH', 'N819AW', 'N365SW', 'N14186', 'N390SW', 'N941FR', 'N664DN', 'N939LR', 'N8745B', 'N395HA', 'N928EV', 'N994AT', 'N636DL', 'N768SW', 'N349NW', 'N953FR', 'N536AS', 'N427SW', 'N604SW', 'N357NW', 'N478WN', 'N639DL', 'N856NW', 'N624AW', 'N463UA', 'N693DL', 'N563AS', 'N285AT', 'N134EV', 'N556NW', 'N198UW', 'N173AT', 'N440US', 'N602SW', 'N849UA', 'N1607B', 'N175AT', 'N147PQ', 'N725SW', 'N478AA', 'N8314L', 'N295PQ', 'N8301J', 'N386AA', 'N935LR', 'N760SW', 'N6713Y', 'N505SW', 'N982AT', 'N569UW', 'N77867', 'N908WN', 'N694DL', 'N938LR', 'N177DZ', 'N370SW', 'N940UW', 'N465WN', 'N651UA', 'N14629', 'N518LR', 'N659SW', 'N118US', 'N508AS', 'N430WN', 'N947WN', 'N128UW', 'N927AT', 'N363AA', 'N901WN', 'N975AT', 'N221FR', 'N187PQ', 'N558AA', 'N960DN', 'N789SW', 'N862DA', 'N683BR', 'N68801', 'N394DL', 'N709UW', 'N814AW', 'N580UA', 'N27205', 'N785SK', 'N369SW', 'N531AS', 'N425LV', 'N972AT', 'N728SK', 'N533US', 'N298WN', 'N930WN', 'N863DA', 'N525SW', 'N535AS', 'N943FR', 'N235WN', 'N505MJ', 'N441US', 'N549AS', 'N835MH', 'N812AY', 'N1609', 'N36472', 'N978SW', 'N734SA', 'N652SW', 'N178DZ', 'N268WN', 'N760SK', 'N123UW', 'N362SW', 'N706SW', 'N644UA', 'N913EV', 'N243WN', 'N365NW', 'N660SW', 'N621SW', 'N433AS', 'N570AS', 'N613SW', 'N375SW', 'N807AW', 'N957DN', 'N136EV', 'N8604K', 'N758SW', 'N512SW', 'N7746C', 'N8733G', 'N273AT', 'N828AW', 'N905DE', 'N247WN', 'N57868', 'N344SW', 'N701GS', 'N606SW', 'N687SW', 'N371NW', 'N284AT', 'N525AS', 'N917WN', 'N839MH', 'N336AT', 'N220WN', 'N6704Z', 'N480AA', 'N791SW', 'N657SW', 'N454WN', 'N228UA', 'N642AA', 'N8313F', 'N523US', 'N385HA', 'N8319F', 'N287AT', 'N143DA', 'N68802', 'N380SW', 'N175DN', 'N7812G', 'N276AT', 'N506AS', 'N794SK', 'N910DN', 'N838MH', 'N396SW', 'N279AT', 'N796SW', 'N487WN', 'N169DZ', 'N378SW', 'N618AA', 'N380HA', 'N508MJ', 'N768SK', 'N595NW', 'N674UA', 'N419US', 'N355SW', 'N951WN', 'N315AS', 'N359AA', 'N906DA', 'N961WN', 'N476WN', 'N372AA', 'N534US', 'N12109', 'N372SW', 'N270WN', 'N373AA', 'N103US', 'N281WN', 'N452WN', 'N8608N', 'N256WN', 'N370AA', 'N206FR', 'N532AS', 'N858AS', 'N391SW', 'N570UW', 'N278WN', 'N827AW', 'N350SW', 'N633AW', 'N560AS', 'N156UW', 'N56859', 'N529VA', 'N37456', 'N786SW', 'N738US', 'N831MH', 'N75432', 'N391AA', 'N790SK', 'N830AW', 'N697SW', 'N347AA', 'N927LR', 'N821AY', 'N395SW', 'N724SW', 'N962DN', 'N622AW', 'N671UA', 'N952WN', 'N427US', 'N566AS', 'N655DL', 'N450UW', 'N670DN', 'N926EV', 'N8603F', 'N8302F', 'N824AS', 'N835AW', 'N907JB', 'N668UA', 'N8618N', 'N68805', 'N717JL', 'N809AW', 'N361VA', 'N870AS', 'N693SW', 'N282WN', 'N615AA', 'N607LR', 'N379SW', 'N642WN', 'N515SW', 'N121UW', 'N435WN', 'N551AA', 'N193DN', 'N8541D', 'N916DN', 'N677UA', 'N496AA', 'N406WN', 'N8943A', 'N625VA', 'N771SA', 'N825MH', 'N805AY', 'N394AA', 'N650SW', 'N676UA', 'N401WN', 'N398AA', 'N444US', 'N828UA', 'N600TR', 'N1608', 'N8587E', 'N503US', 'N408WN', 'N1604R', 'N552AA', 'N563UW', 'N12167', 'N8933B', 'N724UW', 'N37281', 'N824AW', 'N552UA', 'N920FJ', 'N826MH', 'N536AA', 'N493WN', 'N200PQ', 'N702SK', 'N840MH', 'N552AS', 'N579AS', 'N548UW', 'N320AS', 'N181DN', 'N628SW', 'N929DN', 'N921AT', 'N523SW', 'N397SW', 'N8913A', 'N575AA', 'N8944B', 'N182DN', 'N642DL', 'N245WN', 'N359NW', 'N553NW', 'N682DA', 'N568AS', 'N350NA', 'N842MH', 'N57857', 'N810AW', 'N854NW', 'N836AW', 'N613AA', 'N495WN', 'N8329B', 'N959AT', 'N906AT', 'N430US', 'N852VA', 'N513MJ', 'N660DL', 'N8600F', 'N602XJ', 'N653SW', 'N7713A', 'N75851', 'N66803', 'N965AT', 'N953WN', 'N948WN', 'N515MJ', 'N323AS', 'N8327A', 'N521US', 'N8775A', 'N903FJ', 'N912FJ', 'N520AS', 'N922EV', 'N770SA', 'N303AS', 'N548US', 'N215WN', 'N8970D', 'N170PQ', 'N102UW', 'N787UA', 'N383SW', 'N217JC', 'N655UA', 'N568UW', 'N508SW', 'N176AT', 'N455WN', 'N537AS', 'N670US', 'N646UA', 'N713SW', 'N608SW', 'N541US', 'N406US', 'N641UA', 'N565AA', 'N959WN', 'N415WN', 'N594NW', 'N364SW', 'N586AS', 'N945DN', 'N78509', 'N409AS', 'N623DL', 'N643DL', 'N988DL', 'N399WN', 'N918DH', 'N108UW', 'N641SW', 'N8322X', 'N661UA', 'N752US', 'N27477', 'N605SW', 'N297WN', 'N8488D', 'N253WN', 'N937DN', 'N932DN', 'N913JB', 'N767NC', 'N283WN', 'N242WN', 'N631AW', 'N644SW', 'N986DL', 'N739GB', 'N781WN', 'N911FJ', 'N815AW', 'N662SW', 'N390AA', 'N438US', 'N726SW', 'N386HA', 'N915DN', 'N57870', 'N802AW', 'N793SA', 'N255WN', 'N648SW', 'N654DL', 'N773SA', 'N859AS', 'N189DN', 'N821AW', 'N603AT', 'N8837B', 'N442AS', 'N8609A', 'N509SW', 'N547UA', 'N272AT', 'N57864', 'N539US', 'N913FJ', 'N260WN', 'N593AS', 'N658SW', 'N634SW', 'N504MJ', 'N774NC', 'N917DN', 'N766SK', 'N3755D', 'N403AS', 'N8515F', 'N8839E', 'N8316H', 'N8623A', 'N597AS', 'N790SW', 'N385DN', 'N924AT', 'N78003', 'N963DN', 'N475WN', 'N673DL', 'N26906', 'N345NW', 'N963WN', 'N925WN', 'N384SW', 'N912DN', 'N542US', 'N559AS', 'N517AS', 'N799SW', 'N152DL', 'N672UA', 'N726SK', 'N511SW', 'N647SW', 'N646DL', 'N485WN', 'N318AS', 'N362AA', 'N548UA', 'N368SW', 'N746SK', 'N719SW', 'N900EV', 'N914DN', 'N8611F', 'N509MJ', 'N8320J', 'N1200K', 'N921FJ', 'N740SK', 'N299AT', 'N254WN', 'N653UA', 'N381HA', 'N317WN', 'N659AW', 'N492AA', 'N258WN', 'N744SW', 'N940WN', 'N928DN', 'N980AT', 'N932LR', 'N460UW', 'N340LV', 'N455UW', 'N382SW', 'N571UW', 'N944AT', 'N333NW', 'N833AY', 'N933LR', 'N625AA', 'N8598B', 'N525VA', 'N8888D', 'N704US', 'N383HA', 'N290WN', 'N621VA', 'N659UA', 'N603SW', 'N945WN', 'N305AS', 'N733SA', 'N344AA', 'N587NW', 'N949AT', 'N361AA', 'N526AS', 'N514AS', 'N615SW', 'N801AW', 'N654UA', 'N201LV', 'N355AA', 'N436AA', 'N363SW', 'N172DZ', 'N452UA', 'N658UA', 'N639SW', 'N162PQ', 'N633SW', 'N505AA', 'N6702', 'N463WN', 'N915WN', 'N710SK', 'N78866', 'N474WN', 'N554WN', 'N780SW', 'N519AA', 'N794SW', 'N678CA', 'N299WN', 'N449US', 'N8321D', 'N8307K', 'N507US', 'N519US', 'N64809', 'N8771A', 'N241WN', 'N8308K', 'N907DL', 'N346SW', 'N376SW', 'N7702A', 'N527AS', 'N259WN', 'N315AT', 'N667UA', 'N999DN', 'N8969A', 'N910FJ', 'N906WN', 'N670SW', 'N121DE', 'N57869', 'N393HA', 'N652UA', 'N530AS', 'N701SK', 'N453UW', 'N827MH', 'N960WN', 'N59053', 'N326AT', 'N522LR', 'N956LR', 'N703SW', 'N946WN', 'N718SW', 'N538AS', 'N137DL', 'N948FR', 'N607SW', 'N506MJ', 'N525US', 'N31131', 'N761RR', 'N307AS', 'N705SW', 'N934DL', 'N371SW', 'N435AA', 'N608DA', 'N958DN', 'N8614M', 'N904DA', 'N558AS', 'N638SW', 'N840AS', 'N410WN', 'N57862', 'N929WN', 'N8516C', 'N214WN', 'N8836A', 'N486WN', 'N445WN', 'N683DA', 'N306AS', 'N57016', 'N825AW', 'N250WN', 'N914FJ', 'N420UA', 'N817AW', 'N171DN', 'N600WN', 'N951DL', 'N789SK', 'N708SW', 'N615DL', 'N632AW', 'N834AW', 'N361SW', 'N657UA', 'N871AS', 'N517UA', 'N902DA', 'N778SK', 'N36476', 'N651SW', 'N353SW', 'N637VA', 'N356SW', 'N68159', 'N971DL', 'N993AT', 'N929LR', 'N903DA', 'N274WN', 'N516AS', 'N439US', 'N68807', 'N73860', 'N846AS', 'N907WN', 'N655WN', 'N964WN', 'N8612K', 'N184AT', 'N590NW', 'N240AT', 'N547US', 'N75861', 'N510SW', 'N656UA', 'N521SW', 'N309AT', 'N637DL', 'N8602F', 'N643SW', 'N461WN', 'N772SW', 'N78013', 'N812AW', 'N909FJ', 'N240WN', 'N757AT', 'N508AY', 'N583AS', 'N911DA', 'N626AW', 'N20904', 'N464UA', 'N587AS', 'N230WN', 'N432US', 'N956DN', 'N207WN', 'N347SW', 'N358SW', 'N959DN', 'N543US', 'N206UA', 'N668DN', 'N549US', 'N635SW', 'N431AS', 'N649UA', 'N636WN', 'N153DL', 'N490WN', 'N930LR', 'N416WN', 'N392SW', 'N666UA', 'N224WN', 'N564AS', 'N562AS', 'N265WN', 'N970AT', 'N912WN', 'N37471', 'N899AT', 'N930AT', 'N354SW', 'N556AS', 'N8317M', 'N843MH', 'N561UW', 'N489AA', 'N955DN', 'N491AA', 'N694SW', 'N826AW', 'N27901', 'N903WN', 'N754SW', 'N979AT', 'N169AT', 'N663SW', 'N136DL', 'N360SW', 'N937AT', 'N244WN', 'N249WN', 'N414WN', 'N829MH', 'N8896A', 'N707SA', 'N379AA', 'N881AS', 'N545UW', 'N613DL', 'N732SW', 'N8619F', 'N453WN', 'N521LR', 'N526SW', 'N851NW', 'N155DL', 'N186DN', 'N654SW', 'N820AW', 'N905DA', 'N685SW', 'N288WN', 'N555AY', 'N834MH', 'N964DN', 'N291AT', 'N524SW', 'N601WN', 'N296WN', 'N437WN', 'N779NC', 'N966DL', 'N762SK', 'N656SW', 'N660UA', 'N966AT', 'N949WN', 'N589AS', 'N289CT', 'N642AW', 'N612SW', 'N8615E', 'N619SW', 'N513AS', 'N844MH', 'N295AT', 'N45905', 'N762NC', 'N252WN', 'N919FJ', 'N705SK', 'N7726A', 'N738CB', 'N865DA', 'N624SW', 'N422WN', 'N645SW', 'N223WN', 'N837AW', 'N459WN', 'N764SW', 'N302AS', 'N776SK', 'N289AT', 'N700UW', 'N780SK', 'N534AS', 'N423WN', 'N1610D', 'N623SW', 'N330AT', 'N57863', 'N518AS', 'N902FJ', 'N446WN', 'N173DZ', 'N630VA', 'N905FJ', 'N813AY', 'N596AS', 'N398SW', 'N438WN', 'N527SW', 'N594AS', 'N8688C', 'N904FJ', 'N8315C', 'N929AT', 'N362NW', 'N848AS', 'N522US', 'N441WN', 'N8325D', 'N934FJ', 'N746SW', 'N910FR', 'N278AT', 'N777QC', 'N126UW', 'N787SA', 'N1613B', 'N936DL', 'N907DA', 'N736SA', 'N503MJ', 'N514SW', 'N908FJ', 'N8305E', 'N172DN', 'N831AW', 'N269WN', 'N522SW', 'N684WN', 'N616SW', 'N6716C', 'N8620H', 'N673UA', 'N837MH', 'N435AS', 'N26215', 'N360AA', 'N617SW', 'N516LR', 'N520AA', 'N675MC', 'N514MJ', 'N510MJ', 'N923DN', 'N941UW', 'N386SW', 'N961DN', 'N281AT', 'N383AA', 'N637SW', 'N658DL', 'N77012', 'N572UW', 'N331NB', 'N409WN', 'N77865', 'N809NW', 'N181PQ', 'N8605E', 'N698DL', 'N625AW', 'N663UA', 'N647UA', 'N925FJ', 'N627AW', 'N338AT', 'N565AS', 'N442WN', 'N7744A', 'N632SW', 'N665UA', 'N717SA', 'N170US', 'N532US', 'N389AA', 'N476AA', 'N345SA', 'N486AA', 'N7738A', 'N803SK', 'N433US', 'N8303R', 'N8444F', 'N343NB', 'N921WN', 'N175DZ', 'N352SW', 'N502MJ', 'N1611B', 'N297PQ', 'N772SK', 'N592AS', 'N841MH', 'N750AT', 'N841AY', 'N528AS', 'N8606C', 'N941DN', 'N569UA', 'N560AA', 'N933AT', 'N915FJ', 'N357SW', 'N569AS', 'N367SW', 'N584AS', 'N939DN', 'N681DA', 'N893AT', 'N610WN', 'N797SK', 'N614SW', 'N641DL', 'N7715E', 'N409US', 'N531US', 'N434US', 'N953DN', 'N373SW', 'N124US', 'N550NW', 'N943DN', 'N76062', 'N813SK', 'N176DN', 'N8758D', 'N261WN', 'N609SW', 'N777UA', 'N8674A'}\n"
     ]
    }
   ],
   "source": [
    "# Aircraft that are in the registry but have never flown\n",
    "\n",
    "pl_tail = set(planes_df['tailnum'])\n",
    "fl_tail = set(flights_df['tailnum'].dropna())   # .dropna() removes NaN tailnum in flights_df, IF EXISTS\n",
    "\n",
    "result = pl_tail - fl_tail\n",
    "\n",
    "print(len(result), \"aircraft have never flown\")\n",
    "print(result)\n"
   ]
  },
  {
   "cell_type": "markdown",
   "id": "d1229180",
   "metadata": {},
   "source": [
    "**Key Finding:**\n",
    "998 aircraft in the registry have never conducted any flights.\n",
    "\n",
    "**Insight:**\n",
    "This represents significant unused capacity in the aviation system"
   ]
  }
 ],
 "metadata": {
  "kernelspec": {
   "display_name": "Python 3",
   "language": "python",
   "name": "python3"
  },
  "language_info": {
   "codemirror_mode": {
    "name": "ipython",
    "version": 3
   },
   "file_extension": ".py",
   "mimetype": "text/x-python",
   "name": "python",
   "nbconvert_exporter": "python",
   "pygments_lexer": "ipython3",
   "version": "3.12.5"
  }
 },
 "nbformat": 4,
 "nbformat_minor": 5
}
