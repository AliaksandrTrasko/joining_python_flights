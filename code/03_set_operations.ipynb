{
 "cells": [
  {
   "cell_type": "code",
   "execution_count": 1,
   "id": "cbed1d78",
   "metadata": {},
   "outputs": [],
   "source": [
    "import pandas as pd\n",
    "import numpy as np\n",
    "from pathlib import Path"
   ]
  },
  {
   "cell_type": "code",
   "execution_count": 2,
   "id": "ec65adec",
   "metadata": {},
   "outputs": [
    {
     "data": {
      "text/plain": [
       "\"\\nConvert the 'time_hour' column in flights_df and weather_df to datetime64[ns] type, as it was 'object'.\\nThis was necessary because a merge on date/time types was not possible otherwise.\\n\\nThe dtype for flights_df was datetime64[ns], while for weather_df it was datetime64[ns, UTC]. Removed the UTC timezone.\\n\""
      ]
     },
     "execution_count": 2,
     "metadata": {},
     "output_type": "execute_result"
    }
   ],
   "source": [
    "basic_directory = Path.cwd()                            # directory of the file - folder \"code\"\n",
    "data_directory = basic_directory.parent / \"data\"        # go one level up and choose folder \"data\"\n",
    "\n",
    "# It's a common convention to add a _df suffix to a variable name to indicate it's a DataFrame.\n",
    "flights_df  = pd.read_csv(data_directory / \"flights.csv\")\n",
    "airlines_df = pd.read_csv(data_directory / \"airlines.csv\")\n",
    "airports_df = pd.read_csv(data_directory / \"airports.csv\")\n",
    "planes_df   = pd.read_csv(data_directory / \"planes.csv\")\n",
    "weather_df  = pd.read_csv(data_directory / \"weather.csv\")\n",
    "\n",
    "# Convert to datetime\n",
    "flights_df['time_hour'] = pd.to_datetime(flights_df['time_hour'])\n",
    "weather_df['time_hour'] = pd.to_datetime(weather_df['time_hour'])\n",
    "\n",
    "# Remove timezone\n",
    "weather_df['time_hour'] = weather_df['time_hour'].dt.tz_localize(None)\n",
    "\n",
    "'''\n",
    "Convert the 'time_hour' column in flights_df and weather_df to datetime64[ns] type, as it was 'object'.\n",
    "This was necessary because a merge on date/time types was not possible otherwise.\n",
    "\n",
    "The dtype for flights_df was datetime64[ns], while for weather_df it was datetime64[ns, UTC]. Removed the UTC timezone.\n",
    "'''"
   ]
  },
  {
   "cell_type": "code",
   "execution_count": 14,
   "id": "6744d7da",
   "metadata": {},
   "outputs": [
    {
     "name": "stdout",
     "output_type": "stream",
     "text": [
      "                             name         entity_type\n",
      "0               Endeavor Air Inc.      airlines_vowel\n",
      "1          American Airlines Inc.      airlines_vowel\n",
      "2            Alaska Airlines Inc.      airlines_vowel\n",
      "3                 JetBlue Airways  airlines_consonant\n",
      "4            Delta Air Lines Inc.  airlines_consonant\n",
      "5        ExpressJet Airlines Inc.      airlines_vowel\n",
      "6          Frontier Airlines Inc.  airlines_consonant\n",
      "7     AirTran Airways Corporation      airlines_vowel\n",
      "8          Hawaiian Airlines Inc.  airlines_consonant\n",
      "9                       Envoy Air      airlines_vowel\n",
      "10          SkyWest Airlines Inc.  airlines_consonant\n",
      "11          United Air Lines Inc.      airlines_vowel\n",
      "12                US Airways Inc.      airlines_vowel\n",
      "13                 Virgin America  airlines_consonant\n",
      "14         Southwest Airlines Co.  airlines_consonant\n",
      "15              Lansdowne Airport            airports\n",
      "16  Moton Field Municipal Airport            airports\n",
      "17            Schaumburg Regional            airports\n",
      "18                Randall Airport            airports\n",
      "19          Jekyll Island Airport            airports\n",
      "20                        EMBRAER        manufacturer\n",
      "21               AIRBUS INDUSTRIE        manufacturer\n",
      "22               AIRBUS INDUSTRIE        manufacturer\n",
      "23               AIRBUS INDUSTRIE        manufacturer\n",
      "24                        EMBRAER        manufacturer\n",
      "(25, 2)\n"
     ]
    }
   ],
   "source": [
    "# Airlines with CASE logic\n",
    "airlines_part = (\n",
    "    airlines_df[['name']]\n",
    "    .head(15)\n",
    "    .assign(\n",
    "        entity_type=lambda df: np.where(\n",
    "            df['name'].str[0].str.upper().isin(['A','E','I','O','U']),  # .str[0] - takes the first letter of each airline name\n",
    "            'airlines_vowel',                                           # .str.upper() - capitalizes this letter (so that \"A\" and \"a\" are not different)\n",
    "            'airlines_consonant'                                        # .isin([‘A’,'E',‘I’,'O',‘U’]) - checks whether the word begins with a vowel\n",
    "        )\n",
    "    )\n",
    ")\n",
    "\n",
    "airports_part = (\n",
    "    airports_df[['name']]\n",
    "    .head(5)\n",
    "    .assign(entity_type='airports')\n",
    ")\n",
    "\n",
    "planes_part = (\n",
    "    planes_df[['manufacturer']]\n",
    "    .head(5)\n",
    "    .rename(columns={'manufacturer':'name'})    # Renamed 'manufacturer' to 'name' so that all DataFrames have a common column for names\n",
    "    .assign(entity_type='manufacturer')\n",
    ")\n",
    "\n",
    "union_all = pd.concat([airlines_part, airports_part, planes_part], ignore_index=True)\n",
    "print(union_all)\n",
    "print(union_all.shape)"
   ]
  },
  {
   "cell_type": "code",
   "execution_count": 18,
   "id": "3569063e",
   "metadata": {},
   "outputs": [
    {
     "name": "stdout",
     "output_type": "stream",
     "text": [
      "0    UA\n",
      "1    YV\n",
      "2    UA\n",
      "3    DL\n",
      "4    B6\n",
      "5    AA\n",
      "6    UA\n",
      "7    B6\n",
      "8    EV\n",
      "9    US\n",
      "Name: carrier, dtype: object\n"
     ]
    },
    {
     "data": {
      "text/plain": [
       "'\\n# An alternative to .isin, which is more convenient here.\\n\\njfk = set(flights_df.loc[flights_df[\"origin\"]==\"JFK\", \"carrier\"])\\nlga = set(flights_df.loc[flights_df[\"origin\"]==\"LGA\", \"carrier\"])\\newr = set(flights_df.loc[flights_df[\"origin\"]==\"EWR\", \"carrier\"])\\n\\n# The intersection of three sets\\nintersect_carriers = jfk & lga & ewr\\nprint(intersect_carriers)\\n\\n'"
      ]
     },
     "execution_count": 18,
     "metadata": {},
     "output_type": "execute_result"
    }
   ],
   "source": [
    "# Airlines that fly from all three NYC airports\n",
    "\n",
    "intersect = flights_df.loc[flights_df[\"origin\"]==\"JFK\", \"carrier\"] \\\n",
    "    .isin(flights_df.loc[flights_df[\"origin\"]==\"LGA\", \"carrier\"]) \\\n",
    "    & flights_df.loc[flights_df[\"origin\"]==\"JFK\", \"carrier\"] \\\n",
    "    .isin(flights_df.loc[flights_df[\"origin\"]==\"EWR\", \"carrier\"])\n",
    "\n",
    "result = flights_df.loc[flights_df[\"origin\"]==\"JFK\", \"carrier\"][intersect].unique()\n",
    "print(flights_df['carrier'].head(10))\n",
    "\n",
    "# flights_df.loc[flights_df[\"origin\"]==\"JFK\", \"carrier\"] - takes the \"carrier\" column from rows where [\"origin\"]==\"JFK\"\n",
    "# .isin(flights_df.loc[flights_df[\"origin\"]==\"LGA\", \"carrier\"]) - returns a True/False array where \"carrier\" from [\"origin\"]==\"JFK\" also appears among [\"origin\"]==\"LGA\"\n",
    "# Repeated once more, but with \"JFK\" and \"EWR\"\n",
    "\n",
    "# flights_df.loc[flights_df[\"origin\"]==\"JFK\", \"carrier\"][intersect].unique()\n",
    "# Again, takes the carriers from JFK\n",
    "# [intersect] - filters only the rows where intersect == True\n",
    "# .unique() - returns the unique carrier values (it is used to avoid repeating the airline names multiple times)\n",
    "\n",
    "'''\n",
    "# flights_df[\"origin\"]==\"JFK\" - creates a boolean array (True/False) for all values in 'origin'. True if \"JFK\".\n",
    "# flights_df.loc[...] - selects only those rows where flights_df[\"origin\"]==\"JFK\" is True.\n",
    "# ..., \"carrier\"] - returns only the \"carrier\" column from the selection.\n",
    "\n",
    "# .isin() checks if a value is present in another list (e.g., if a carrier from JFK is also in LGA).\n",
    "\n",
    "# .unique() is used to avoid repeating the airline names multiple times.\n",
    "'''\n",
    "\n",
    "'''\n",
    "# An alternative to .isin, which is more convenient here.\n",
    "\n",
    "jfk = set(flights_df.loc[flights_df[\"origin\"]==\"JFK\", \"carrier\"])\n",
    "lga = set(flights_df.loc[flights_df[\"origin\"]==\"LGA\", \"carrier\"])\n",
    "ewr = set(flights_df.loc[flights_df[\"origin\"]==\"EWR\", \"carrier\"])\n",
    "\n",
    "# The intersection of three sets\n",
    "intersect_carriers = jfk & lga & ewr\n",
    "print(intersect_carriers)\n",
    "\n",
    "'''\n"
   ]
  },
  {
   "cell_type": "code",
   "execution_count": 23,
   "id": "3c632f5f",
   "metadata": {},
   "outputs": [
    {
     "name": "stdout",
     "output_type": "stream",
     "text": [
      "{'LAS', 'TPA', 'FLL', 'SEA', 'AUS', 'SFO', 'STT', 'PBI', 'LAX', 'SJU', 'MIA', 'BOS', 'MCO', 'SAN'}\n",
      "['BOS' 'SJU' 'MIA' 'SFO' 'LAX' 'STT' 'MCO' 'AUS' 'LAS' 'SEA' 'SAN' 'FLL'\n",
      " 'TPA' 'PBI']\n",
      "True\n"
     ]
    }
   ],
   "source": [
    "# Destinations served by both American Airlines and Delta\n",
    "\n",
    "aa_dests = set(flights_df.loc[flights_df['carrier']==\"AA\", \"dest\"])\n",
    "dl_dests = set(flights_df.loc[flights_df['carrier']==\"DL\", \"dest\"])\n",
    "intersect = aa_dests & dl_dests\n",
    "print(intersect)\n",
    "# The data type is set, shown with {} brackets\n",
    "\n",
    "intersect1 = flights_df.loc[flights_df['carrier']==\"AA\", \"dest\"] \\\n",
    "            .isin(flights_df.loc[flights_df['carrier']==\"DL\", \"dest\"])\n",
    "intersect1 = flights_df.loc[flights_df['carrier']==\"AA\", \"dest\"][intersect1].unique()\n",
    "print(intersect1)\n",
    "# The data type is numpy.ndarray, shown with [] brackets\n",
    "\n",
    "print(set(intersect1) == intersect)\n",
    "# Different ordering rules (set() -- arbitrary order, .unique() -- original order)\n",
    "# The values are identical - only the display order changes"
   ]
  },
  {
   "cell_type": "code",
   "execution_count": null,
   "id": "df0d4c4f",
   "metadata": {},
   "outputs": [
    {
     "name": "stdout",
     "output_type": "stream",
     "text": [
      "{'MHT', 'CHS', 'PIT', 'CAK', 'CAE', 'TPA', 'FLL', 'SEA', 'AUS', 'GRR', 'HNL', 'IND', 'PBI', 'BHM', 'PHX', 'SLC', 'LAS', 'SJC', 'BDL', 'ATL', 'SDF', 'STT', 'ORD', 'ORF', 'RDU', 'DAY', 'SRQ', 'DSM', 'BZN', 'MEM', 'SMF', 'MSP', 'DCA', 'IAD', 'GSP', 'LAX', 'OKC', 'XNA', 'MSY', 'ALB', 'PHL', 'RIC', 'BUF', 'TVC', 'BTV', 'BUR', 'MVY', 'SFO', 'PWM', 'HOU', 'ROC', 'AVL', 'PSE', 'DFW', 'CMH', 'TYS', 'GSO', 'MDW', 'ACK', 'CLE', 'PDX', 'SJU', 'DTW', 'CRW', 'SAV', 'BOS', 'BNA', 'BQN', 'SAN', 'EYW', 'JAC', 'SYR', 'ANC', 'ILM', 'TUL', 'SAT', 'OMA', 'MYR', 'CHO', 'BGR', 'MKE', 'MCO', 'DEN', 'MSN', 'SNA', 'MCI', 'CVG', 'OAK', 'EGE', 'STL', 'JAX', 'CLT', 'ABQ', 'BWI', 'IAH', 'MIA', 'PVD', 'RSW', 'LGB'}\n"
     ]
    },
    {
     "data": {
      "text/plain": [
       "'\\nSELECT dest\\nFROM flights\\nEXCEPT\\nSELECT origin\\nFROM flights;\\n'"
      ]
     },
     "execution_count": 24,
     "metadata": {},
     "output_type": "execute_result"
    }
   ],
   "source": [
    "#EXCEPT\n",
    "# Which airports are arrival destinations but never departure origins?\n",
    "\n",
    "dest_set = set(flights_df['dest'])\n",
    "origin_set = set(flights_df['origin'])\n",
    "\n",
    "result = dest_set - origin_set\n",
    "print(result)\n",
    "\n",
    "'''\n",
    "SELECT dest\n",
    "FROM flights\n",
    "EXCEPT\n",
    "SELECT origin\n",
    "FROM flights;\n",
    "'''"
   ]
  },
  {
   "cell_type": "code",
   "execution_count": 26,
   "id": "41e8e955",
   "metadata": {},
   "outputs": [
    {
     "name": "stdout",
     "output_type": "stream",
     "text": [
      "{'JFK', 'EWR', 'LGA'}\n"
     ]
    }
   ],
   "source": [
    "# Which airports are departure origins but never arrival destinations?\n",
    "\n",
    "dest_set = set(flights_df['dest'])\n",
    "origin_set = set(flights_df['origin'])\n",
    "\n",
    "result = origin_set - dest_set\n",
    "print(result)\n",
    "# So it means all flights are from NYC to other US cities"
   ]
  },
  {
   "cell_type": "code",
   "execution_count": null,
   "id": "7b950830",
   "metadata": {},
   "outputs": [
    {
     "name": "stdout",
     "output_type": "stream",
     "text": [
      "998 aircraft have never flown\n",
      "{'N343NB', 'N386SW', 'N602DL', 'N249WN', 'N706SW', 'N7724A', 'N8611F', 'N409WN', 'N305AS', 'N918DH', 'N1604R', 'N694DL', 'N315AS', 'N709UW', 'N828AW', 'N430US', 'N361AA', 'N485WN', 'N913FJ', 'N510MJ', 'N172DZ', 'N506AS', 'N929DN', 'N463WN', 'N206FR', 'N8301J', 'N297PQ', 'N921DN', 'N20904', 'N382SW', 'N118US', 'N760SW', 'N143DA', 'N643DL', 'N779NC', 'N829MH', 'N669SW', 'N68801', 'N797SK', 'N675MC', 'N505MJ', 'N8444F', 'N14629', 'N406US', 'N529VA', 'N594AS', 'N835MH', 'N523SW', 'N8488D', 'N663SW', 'N845MH', 'N649UA', 'N662SW', 'N641DL', 'N900EV', 'N945DN', 'N389AA', 'N708SW', 'N538AS', 'N31131', 'N556NW', 'N269WN', 'N746SK', 'N933LR', 'N66803', 'N762SK', 'N362SW', 'N529AS', 'N923DN', 'N906AT', 'N594NW', 'N7812G', 'N364SW', 'N724UW', 'N558AS', 'N295AT', 'N774NC', 'N626AW', 'N205FR', 'N508MJ', 'N814AW', 'N643SW', 'N773SA', 'N633SW', 'N350NA', 'N306AS', 'N362NW', 'N833AY', 'N664DN', 'N717JL', 'N994AT', 'N632SW', 'N383AA', 'N986AT', 'N177DZ', 'N8623A', 'N295WN', 'N566AS', 'N68805', 'N423WN', 'N422WN', 'N476WN', 'N700UW', 'N828MH', 'N754SW', 'N8620H', 'N965DN', 'N345SA', 'N8327A', 'N7713A', 'N198UW', 'N214WN', 'N201LV', 'N274WN', 'N921AT', 'N1611B', 'N490WN', 'N147PQ', 'N6702', 'N169DZ', 'N966DL', 'N289AT', 'N36472', 'N373SW', 'N173AT', 'N646DL', 'N971DL', 'N674UA', 'N344AA', 'N849UA', 'N552UA', 'N943FR', 'N73860', 'N508AY', 'N57863', 'N531AS', 'N565AS', 'N732SW', 'N461WN', 'N525AS', 'N273AT', 'N657UA', 'N939DN', 'N612SW', 'N625VA', 'N725SW', 'N614SW', 'N964WN', 'N911FJ', 'N627AW', 'N440US', 'N644SW', 'N905DA', 'N415WN', 'N57862', 'N651UA', 'N622AW', 'N245AY', 'N8745B', 'N536AA', 'N505AA', 'N517UA', 'N962DN', 'N8839E', 'N441US', 'N817AW', 'N563UW', 'N837AW', 'N841MH', 'N279AT', 'N302AS', 'N409AS', 'N631AW', 'N8771A', 'N683BR', 'N980AT', 'N441WN', 'N659AW', 'N949AT', 'N764SW', 'N661UA', 'N397SW', 'N613SW', 'N744SW', 'N537AS', 'N927AT', 'N474WN', 'N820AW', 'N838MH', 'N8896A', 'N27477', 'N270WN', 'N564AS', 'N913EV', 'N380HA', 'N77865', 'N353SW', 'N207WN', 'N8614M', 'N359AA', 'N527AS', 'N347SW', 'N68159', 'N736SA', 'N523US', 'N796SW', 'N902FJ', 'N244WN', 'N361VA', 'N445WN', 'N256WN', 'N913JB', 'N717SA', 'N920FJ', 'N8608N', 'N454WN', 'N452UA', 'N826MH', 'N917WN', 'N603AT', 'N217JC', 'N682DA', 'N559AS', 'N628SW', 'N804AW', 'N78003', 'N507US', 'N8605E', 'N8307K', 'N948FR', 'N616SW', 'N77867', 'N259WN', 'N432US', 'N76062', 'N768SW', 'N966AT', 'N14186', 'N634SW', 'N176AT', 'N401WN', 'N907DA', 'N939LR', 'N676UA', 'N359NW', 'N57857', 'N57864', 'N493WN', 'N549AS', 'N521SW', 'N285AT', 'N936DL', 'N949WN', 'N569UW', 'N963DN', 'N392SW', 'N659SW', 'N776SK', 'N639DL', 'N580UA', 'N787SA', 'N27901', 'N813AY', 'N437WN', 'N693CA', 'N276AT', 'N701SK', 'N549US', 'N254WN', 'N772SW', 'N571UW', 'N747SA', 'N807AW', 'N371NW', 'N951WN', 'N852VA', 'N486AA', 'N27205', 'N771SA', 'N317WN', 'N673DL', 'N406WN', 'N585AS', 'N502MJ', 'N534US', 'N391SW', 'N654UA', 'N819AW', 'N901WN', 'N3755D', 'N356SW', 'N8606C', 'N825MH', 'N480AA', 'N296WN', 'N658DL', 'N221FR', 'N77012', 'N668DN', 'N355SW', 'N452UW', 'N921FJ', 'N8758D', 'N937AT', 'N526SW', 'N928EV', 'N831MH', 'N240WN', 'N694SW', 'N189DN', 'N952WN', 'N960DN', 'N958DN', 'N653SW', 'N587NW', 'N687SW', 'N667UA', 'N938LR', 'N587AS', 'N526AS', 'N8828D', 'N298WN', 'N385DN', 'N752US', 'N635SW', 'N8733G', 'N757AT', 'N944AT', 'N442WN', 'N624SW', 'N37281', 'N704US', 'N606SW', 'N1607B', 'N463UA', 'N556AS', 'N476AA', 'N533US', 'N637DL', 'N780SK', 'N947WN', 'N941UW', 'N333NW', 'N6713Y', 'N531US', 'N944DN', 'N8944B', 'N315AT', 'N846AS', 'N350SW', 'N979AT', 'N871AS', 'N830AW', 'N684WN', 'N703SW', 'N841AY', 'N384SW', 'N685SW', 'N340LV', 'N653UA', 'N1613B', 'N533AS', 'N805AY', 'N941FR', 'N863DA', 'N309AS', 'N8612K', 'N7744A', 'N821AW', 'N510SW', 'N602XJ', 'N677UA', 'N609SW', 'N637SW', 'N525VA', 'N982AT', 'N26215', 'N519AA', 'N986DL', 'N953FR', 'N508AS', 'N646UA', 'N824AS', 'N899AT', 'N560AA', 'N738CB', 'N103US', 'N659UA', 'N8302F', 'N8317M', 'N911DA', 'N7738A', 'N761RR', 'N642DL', 'N503MJ', 'N955AT', 'N535AS', 'N657SW', 'N651SW', 'N910FJ', 'N932DN', 'N910FR', 'N504MJ', 'N442AS', 'N7746C', 'N186DN', 'N258WN', 'N360SW', 'N760SK', 'N906DA', 'N647UA', 'N383HA', 'N363SW', 'N660UA', 'N913DN', 'N956DN', 'N933AT', 'N772SK', 'N518AS', 'N780SW', 'N223WN', 'N299AT', 'N514SW', 'N288WN', 'N513AS', 'N641UA', 'N330AT', 'N617SW', 'N625AA', 'N169AT', 'N912FJ', 'N842MH', 'N37471', 'N930AT', 'N930LR', 'N568AS', 'N240AT', 'N503US', 'N8541D', 'N705SW', 'N641SW', 'N647SW', 'N516LR', 'N919FJ', 'N937DN', 'N934DL', 'N136DL', 'N215WN', 'N345NW', 'N57870', 'N181DN', 'N565AA', 'N128UW', 'N532AS', 'N393HA', 'N320AS', 'N176DN', 'N560AS', 'N379SW', 'N665UA', 'N386HA', 'N516AS', 'N561UW', 'N75851', 'N425LV', 'N915FJ', 'N793SA', 'N433US', 'N940UW', 'N357NW', 'N260WN', 'N375SW', 'N414WN', 'N8305E', 'N960WN', 'N170US', 'N917DN', 'N572UW', 'N618AA', 'N478AA', 'N840AS', 'N379AA', 'N988DL', 'N175AT', 'N8516C', 'N625AW', 'N826AW', 'N642WN', 'N794SW', 'N8602F', 'N827AW', 'N854NW', 'N922EV', 'N261WN', 'N108UW', 'N713SW', 'N907WN', 'N638SW', 'N78509', 'N36476', 'N281WN', 'N681DA', 'N383SW', 'N548UW', 'N927LR', 'N245WN', 'N354SW', 'N522LR', 'N338AT', 'N126UW', 'N452WN', 'N809NW', 'N840MH', 'N663UA', 'N376SW', 'N569UA', 'N770SA', 'N8974C', 'N284AT', 'N637VA', 'N834MH', 'N102UW', 'N68802', 'N859AS', 'N235WN', 'N291AT', 'N870AS', 'N123UW', 'N758SW', 'N928DN', 'N951DL', 'N410WN', 'N8913A', 'N881AS', 'N289CT', 'N278AT', 'N252WN', 'N487WN', 'N726SK', 'N777QC', 'N534AS', 'N608SW', 'N1609', 'N8603F', 'N959DN', 'N670SW', 'N904DA', 'N8308K', 'N856NW', 'N762NC', 'N785SK', 'N56859', 'N436AA', 'N678CA', 'N8969A', 'N965AT', 'N368SW', 'N416WN', 'N740SK', 'N778SK', 'N178DN', 'N519US', 'N228UA', 'N491AA', 'N810AW', 'N568UW', 'N702SK', 'N858AS', 'N642AW', 'N370AA', 'N623SW', 'N803SK', 'N915DN', 'N959AT', 'N365SW', 'N8924B', 'N78866', 'N439US', 'N596AS', 'N363AA', 'N903FJ', 'N865DA', 'N570UW', 'N506MJ', 'N290WN', 'N7735A', 'N542US', 'N548US', 'N8775A', 'N648SW', 'N521LR', 'N455WN', 'N603SW', 'N615SW', 'N961DN', 'N624AW', 'N78013', 'N575AA', 'N373AA', 'N8618N', 'N512SW', 'N787UA', 'N839MH', 'N173DZ', 'N175DN', 'N37456', 'N707SA', 'N910DN', 'N782NC', 'N562AS', 'N812AY', 'N57016', 'N446WN', 'N8604K', 'N953WN', 'N862DA', 'N515SW', 'N517AS', 'N601WN', 'N419US', 'N734SA', 'N8598B', 'N8688C', 'N999DN', 'N492AA', 'N970AT', 'N8314L', 'N380SW', 'N8836A', 'N224WN', 'N449US', 'N902DA', 'N908WN', 'N8313F', 'N724SW', 'N349NW', 'N710SK', 'N639SW', 'N508AA', 'N683DA', 'N247WN', 'N370SW', 'N921WN', 'N386AA', 'N522US', 'N420UA', 'N8609A', 'N200PQ', 'N438US', 'N272AT', 'N636WN', 'N621SW', 'N903WN', 'N438WN', 'N26906', 'N206UA', 'N8315C', 'N672UA', 'N521AA', 'N136EV', 'N527SW', 'N134EV', 'N460UW', 'N584AS', 'N615AA', 'N607LR', 'N697SW', 'N175DZ', 'N934FJ', 'N790SK', 'N670US', 'N156UW', 'N522SW', 'N801AW', 'N528AS', 'N121UW', 'N45905', 'N831AW', 'N396SW', 'N395HA', 'N8587E', 'N907JB', 'N385HA', 'N941DN', 'N550NW', 'N152DL', 'N794SK', 'N8837B', 'N915WN', 'N799SW', 'N953DN', 'N459WN', 'N645SW', 'N8325D', 'N388SW', 'N789SW', 'N650SW', 'N395SW', 'N8619F', 'N444US', 'N946WN', 'N309AT', 'N250WN', 'N318AS', 'N701GS', 'N656UA', 'N453WN', 'N925FJ', 'N525US', 'N331NB', 'N8329B', 'N943DN', 'N790SW', 'N530AS', 'N993AT', 'N825AW', 'N654DL', 'N184AT', 'N570AS', 'N365NW', 'N431WN', 'N6716C', 'N475WN', 'N791SW', 'N509SW', 'N253WN', 'N926EV', 'N945WN', 'N520AA', 'N666UA', 'N434US', 'N378SW', 'N652SW', 'N590NW', 'N282WN', 'N431AS', 'N632AW', 'N837MH', 'N278WN', 'N909FJ', 'N268WN', 'N478WN', 'N182DN', 'N124US', 'N433AS', 'N455UW', 'N608DA', 'N767NC', 'N718SW', 'N670DN', 'N595NW', 'N655WN', 'N399WN', 'N786SW', 'N836AW', 'N372SW', 'N361SW', 'N615DL', 'N557AS', 'N514MJ', 'N178DZ', 'N430WN', 'N789SK', 'N978SW', 'N738US', 'N719SW', 'N68807', 'N299WN', 'N903DA', 'N638DL', 'N904FJ', 'N552AS', 'N935LR', 'N781WN', 'N551AA', 'N621VA', 'N371SW', 'N8322X', 'N592AS', 'N465WN', 'N435AA', 'N220WN', 'N964DN', 'N403AS', 'N600WN', 'N187PQ', 'N303AS', 'N813SK', 'N963WN', 'N381HA', 'N242WN', 'N543US', 'N554WN', 'N8515F', 'N8613K', 'N553NW', 'N162PQ', 'N408WN', 'N726SW', 'N777UA', 'N914FJ', 'N8321D', 'N545UW', 'N959WN', 'N75432', 'N8326F', 'N137DL', 'N961WN', 'N495WN', 'N536AS', 'N346SW', 'N728SK', 'N955DN', 'N435AS', 'N673UA', 'N8933B', 'N409US', 'N287AT', 'N230WN', 'N827MH', 'N908FJ', 'N956LR', 'N843MH', 'N243WN', 'N511SW', 'N948WN', 'N1608', 'N593AS', 'N352SW', 'N281AT', 'N660SW', 'N486WN', 'N8672A', 'N733SA', 'N824AW', 'N394AA', 'N912DN', 'N464UA', 'N848AS', 'N835AW', 'N893AT', 'N652UA', 'N153DL', 'N59053', 'N916DN', 'N583AS', 'N12167', 'N390SW', 'N539US', 'N172DN', 'N391AA', 'N940WN', 'N602SW', 'N181PQ', 'N812AW', 'N914DN', 'N586AS', 'N193DN', 'N8674A', 'N912WN', 'N295PQ', 'N828UA', 'N75861', 'N642AA', 'N509MJ', 'N357SW', 'N671UA', 'N121DE', 'N1200K', 'N698DL', 'N358SW', 'N851NW', 'N8970D', 'N552AA', 'N6704Z', 'N623DL', 'N929LR', 'N8921B', 'N655UA', 'N450UW', 'N323AS', 'N505SW', 'N8615E', 'N524SW', 'N607SW', 'N367SW', 'N558AA', 'N427SW', 'N589AS', 'N372AA', 'N924AT', 'N613AA', 'N541US', 'N809AW', 'N427US', 'N394DL', 'N344SW', 'N668UA', 'N750AT', 'N906WN', 'N525SW', 'N569AS', 'N905DE', 'N171DN', 'N844MH', 'N563AS', 'N930WN', 'N155DL', 'N630VA', 'N932LR', 'N555AY', 'N7726A', 'N307AS', 'N12109', 'N297WN', 'N255WN', 'N547UA', 'N8316H', 'N360AA', 'N8303R', 'N57869', 'N453UW', 'N241WN', 'N658UA', 'N8319F', 'N905FJ', 'N654SW', 'N660DL', 'N508SW', 'N369SW', 'N336AT', 'N355AA', 'N7702A', 'N513MJ', 'N514AS', 'N6710E', 'N613DL', 'N655DL', 'N834AW', 'N8600F', 'N633AW', 'N925WN', 'N57868', 'N398SW', 'N619SW', 'N390AA', 'N362AA', 'N283WN', 'N815AW', 'N326AT', 'N821AY', 'N398AA', 'N600TR', 'N548UA', 'N766SK', 'N768SK', 'N693DL', 'N605SW', 'N640DL', 'N265WN', 'N907DL', 'N8943A', 'N922FJ', 'N547US', 'N975AT', 'N8320J', 'N435WN', 'N347AA', 'N943AT', 'N64809', 'N705SK', 'N972AT', 'N636DL', 'N656SW', 'N518LR', 'N739GB', 'N170PQ', 'N604SW', 'N521US', 'N597AS', 'N802AW', 'N1610D', 'N489AA', 'N746SW', 'N693SW', 'N7715E', 'N957DN', 'N658SW', 'N644UA', 'N929AT', 'N929WN', 'N610WN', 'N8888D', 'N515MJ', 'N520AS', 'N532US', 'N579AS', 'N496AA'}\n"
     ]
    },
    {
     "data": {
      "text/plain": [
       "'\\nSELECT tailnum \\nFROM planes\\nEXCEPT\\nSELECT tailnum \\nFROM flights \\nWHERE tailnum IS NOT NULL; -- 998 самолётов ни разу не летали\\n'"
      ]
     },
     "execution_count": 30,
     "metadata": {},
     "output_type": "execute_result"
    }
   ],
   "source": [
    "# Aircraft that are in the registry but have never flown\n",
    "\n",
    "pl_tail = set(planes_df['tailnum'])\n",
    "fl_tail = set(flights_df['tailnum'].dropna())   # .dropna() removes NaN tailnum in flights_df, IF EXISTS\n",
    "\n",
    "result = pl_tail - fl_tail\n",
    "\n",
    "print(len(result), \"aircraft have never flown\")\n",
    "print(result)\n"
   ]
  }
 ],
 "metadata": {
  "kernelspec": {
   "display_name": "Python 3",
   "language": "python",
   "name": "python3"
  },
  "language_info": {
   "codemirror_mode": {
    "name": "ipython",
    "version": 3
   },
   "file_extension": ".py",
   "mimetype": "text/x-python",
   "name": "python",
   "nbconvert_exporter": "python",
   "pygments_lexer": "ipython3",
   "version": "3.12.5"
  }
 },
 "nbformat": 4,
 "nbformat_minor": 5
}
