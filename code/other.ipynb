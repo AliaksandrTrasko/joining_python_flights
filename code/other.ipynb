{
 "cells": [
  {
   "cell_type": "code",
   "execution_count": 1,
   "id": "349b230f",
   "metadata": {},
   "outputs": [],
   "source": [
    "import pandas as pd\n",
    "from pathlib import Path"
   ]
  },
  {
   "cell_type": "code",
   "execution_count": 2,
   "id": "061151a3",
   "metadata": {},
   "outputs": [
    {
     "data": {
      "text/plain": [
       "\"\\nConvert the 'time_hour' column in flights_df and weather_df to datetime64[ns] type, as it was 'object'.\\nThis was necessary because a merge on date/time types was not possible otherwise.\\n\\nThe dtype for flights_df was datetime64[ns], while for weather_df it was datetime64[ns, UTC]. Removed the UTC timezone.\\n\""
      ]
     },
     "execution_count": 2,
     "metadata": {},
     "output_type": "execute_result"
    }
   ],
   "source": [
    "basic_directory = Path.cwd()                            # directory of the file - folder \"code\"\n",
    "data_directory = basic_directory.parent / \"data\"        # go one level up and choose folder \"data\"\n",
    "\n",
    "# It's a common convention to add a _df suffix to a variable name to indicate it's a DataFrame.\n",
    "flights_df  = pd.read_csv(data_directory / \"flights.csv\")\n",
    "airlines_df = pd.read_csv(data_directory / \"airlines.csv\")\n",
    "airports_df = pd.read_csv(data_directory / \"airports.csv\")\n",
    "planes_df   = pd.read_csv(data_directory / \"planes.csv\")\n",
    "weather_df  = pd.read_csv(data_directory / \"weather.csv\")\n",
    "\n",
    "# Convert to datetime\n",
    "flights_df['time_hour'] = pd.to_datetime(flights_df['time_hour'])\n",
    "weather_df['time_hour'] = pd.to_datetime(weather_df['time_hour'])\n",
    "\n",
    "# Remove timezone\n",
    "weather_df['time_hour'] = weather_df['time_hour'].dt.tz_localize(None)\n",
    "\n",
    "'''\n",
    "Convert the 'time_hour' column in flights_df and weather_df to datetime64[ns] type, as it was 'object'.\n",
    "This was necessary because a merge on date/time types was not possible otherwise.\n",
    "\n",
    "The dtype for flights_df was datetime64[ns], while for weather_df it was datetime64[ns, UTC]. Removed the UTC timezone.\n",
    "'''"
   ]
  },
  {
   "cell_type": "code",
   "execution_count": 3,
   "id": "1817cf28",
   "metadata": {},
   "outputs": [
    {
     "name": "stdout",
     "output_type": "stream",
     "text": [
      "      flight carrier origin dest manufacturer    model\n",
      "398     1416      UA    EWR  AUS       BOEING  737-824\n",
      "1704    1071      UA    EWR  BQN       BOEING  737-824\n",
      "3738    1207      UA    EWR  BOS       BOEING  737-824\n",
      "8185    1707      UA    EWR  TPA       BOEING  737-824\n"
     ]
    }
   ],
   "source": [
    "# All flights of aircraft N14228 and display the required columns\n",
    "\n",
    "flights_planes = flights_df.merge(planes_df, on='tailnum')\n",
    "\n",
    "print(flights_planes.loc[flights_planes['tailnum'] == 'N14228', \n",
    "                        ['flight', 'carrier', 'origin', 'dest', 'manufacturer', 'model']])"
   ]
  },
  {
   "cell_type": "code",
   "execution_count": 4,
   "id": "8fc174c6",
   "metadata": {},
   "outputs": [
    {
     "name": "stdout",
     "output_type": "stream",
     "text": [
      "      flight carrier origin dest              name        lat         lon\n",
      "85       399      VX    JFK  LAX  Los Angeles Intl  33.942536 -118.408075\n",
      "92         1      AA    JFK  LAX  Los Angeles Intl  33.942536 -118.408075\n",
      "127      415      VX    JFK  LAX  Los Angeles Intl  33.942536 -118.408075\n",
      "165     1163      DL    JFK  LAX  Los Angeles Intl  33.942536 -118.408075\n",
      "194      133      AA    JFK  LAX  Los Angeles Intl  33.942536 -118.408075\n",
      "...      ...     ...    ...  ...               ...        ...         ...\n",
      "9742     165      VX    EWR  LAX  Los Angeles Intl  33.942536 -118.408075\n",
      "9749     763      DL    JFK  LAX  Los Angeles Intl  33.942536 -118.408075\n",
      "9751     185      AA    JFK  LAX  Los Angeles Intl  33.942536 -118.408075\n",
      "9753     535      UA    JFK  LAX  Los Angeles Intl  33.942536 -118.408075\n",
      "9764     763      DL    JFK  LAX  Los Angeles Intl  33.942536 -118.408075\n",
      "\n",
      "[486 rows x 7 columns]\n"
     ]
    }
   ],
   "source": [
    "# Flights to Los Angeles\n",
    "\n",
    "flights_airports = flights_df.merge(airports_df, left_on='dest', right_on='faa')\n",
    "\n",
    "print(flights_airports.loc[flights_airports['name'] == 'Los Angeles Intl', \n",
    "                          ['flight', 'carrier', 'origin', 'dest', 'name', 'lat', 'lon']])"
   ]
  },
  {
   "cell_type": "code",
   "execution_count": null,
   "id": "79acad9e",
   "metadata": {},
   "outputs": [
    {
     "name": "stdout",
     "output_type": "stream",
     "text": [
      "0                 EMB-145XR\n",
      "1                  A320-214\n",
      "2                  A320-214\n",
      "3                  A320-214\n",
      "4                 EMB-145LR\n",
      "5         Endeavor Air Inc.\n",
      "6    American Airlines Inc.\n",
      "7      Alaska Airlines Inc.\n",
      "8           JetBlue Airways\n",
      "9      Delta Air Lines Inc.\n",
      "dtype: object\n"
     ]
    }
   ],
   "source": [
    "# Combines the first 5 aircraft_df models and first 5 airline_df names into a single Series\n",
    "\n",
    "planes_and_companies = pd.concat([planes_df['model'].head(5), airlines_df['name'].head(5)], ignore_index = True) \n",
    "print(planes_and_companies)\n",
    "\n",
    "# UNION - smth.drop_duplicates() - removes duplicate records "
   ]
  }
 ],
 "metadata": {
  "kernelspec": {
   "display_name": "Python 3",
   "language": "python",
   "name": "python3"
  },
  "language_info": {
   "codemirror_mode": {
    "name": "ipython",
    "version": 3
   },
   "file_extension": ".py",
   "mimetype": "text/x-python",
   "name": "python",
   "nbconvert_exporter": "python",
   "pygments_lexer": "ipython3",
   "version": "3.12.5"
  }
 },
 "nbformat": 4,
 "nbformat_minor": 5
}
